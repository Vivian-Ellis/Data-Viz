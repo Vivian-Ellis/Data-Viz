{
 "cells": [
  {
   "cell_type": "code",
   "execution_count": 1,
   "metadata": {},
   "outputs": [],
   "source": [
    "# dataset\n",
    "from google.cloud import bigquery\n",
    "import json \n",
    "\n",
    "# maths and eda\n",
    "import numpy as np\n",
    "import pandas as pd\n",
    "import itertools\n",
    "\n",
    "# viz\n",
    "import matplotlib.pyplot as plt\n",
    "import seaborn as sns\n",
    "import plotly.express as px\n",
    "\n",
    "\n",
    "import warnings\n",
    "warnings.filterwarnings(\"ignore\")\n",
    "\n",
    "# Load the credentials from the JSON file\n",
    "with open('../../credentials.json', 'r') as f:\n",
    "    creds_data = json.load(f)\n",
    "\n",
    "import os\n",
    "# Create the\n",
    "#  credentials object\n",
    "os.environ[\"GOOGLE_APPLICATION_CREDENTIALS\"] = \"../../credentials.json\"\n",
    "\n",
    "# Initialize the BigQuery client\n",
    "client = bigquery.Client(project=\"portfoliodata-428314\")\n",
    "\n",
    "import chart_studio\n",
    "import chart_studio.plotly as py\n",
    "f=open('../../plotly_credentials.json')\n",
    "creds=json.load(f)\n",
    "\n",
    "chart_studio.tools.set_credentials_file(username=creds['username'], api_key=creds['api_key'])"
   ]
  },
  {
   "cell_type": "code",
   "execution_count": 2,
   "metadata": {},
   "outputs": [
    {
     "data": {
      "text/html": [
       "<div>\n",
       "<style scoped>\n",
       "    .dataframe tbody tr th:only-of-type {\n",
       "        vertical-align: middle;\n",
       "    }\n",
       "\n",
       "    .dataframe tbody tr th {\n",
       "        vertical-align: top;\n",
       "    }\n",
       "\n",
       "    .dataframe thead th {\n",
       "        text-align: right;\n",
       "    }\n",
       "</style>\n",
       "<table border=\"1\" class=\"dataframe\">\n",
       "  <thead>\n",
       "    <tr style=\"text-align: right;\">\n",
       "      <th></th>\n",
       "      <th>Name</th>\n",
       "      <th>Platform</th>\n",
       "      <th>Year_of_Release</th>\n",
       "      <th>Genre</th>\n",
       "      <th>Publisher</th>\n",
       "      <th>NA_Sales</th>\n",
       "      <th>EU_Sales</th>\n",
       "      <th>JP_Sales</th>\n",
       "      <th>Other_Sales</th>\n",
       "      <th>Global_Sales</th>\n",
       "      <th>Critic_Score</th>\n",
       "      <th>Critic_Count</th>\n",
       "      <th>User_Score</th>\n",
       "      <th>User_Count</th>\n",
       "      <th>Developer</th>\n",
       "      <th>Rating</th>\n",
       "    </tr>\n",
       "  </thead>\n",
       "  <tbody>\n",
       "    <tr>\n",
       "      <th>0</th>\n",
       "      <td>Army Men 3D</td>\n",
       "      <td>PS</td>\n",
       "      <td>1999</td>\n",
       "      <td>Action</td>\n",
       "      <td>3DO</td>\n",
       "      <td>1.10</td>\n",
       "      <td>0.14</td>\n",
       "      <td>0.0</td>\n",
       "      <td>0.04</td>\n",
       "      <td>1.28</td>\n",
       "      <td>&lt;NA&gt;</td>\n",
       "      <td>&lt;NA&gt;</td>\n",
       "      <td>NaN</td>\n",
       "      <td>&lt;NA&gt;</td>\n",
       "      <td>None</td>\n",
       "      <td>None</td>\n",
       "    </tr>\n",
       "    <tr>\n",
       "      <th>1</th>\n",
       "      <td>Army Men: Air Attack</td>\n",
       "      <td>PS</td>\n",
       "      <td>1999</td>\n",
       "      <td>Action</td>\n",
       "      <td>3DO</td>\n",
       "      <td>0.47</td>\n",
       "      <td>0.32</td>\n",
       "      <td>0.0</td>\n",
       "      <td>0.06</td>\n",
       "      <td>0.85</td>\n",
       "      <td>&lt;NA&gt;</td>\n",
       "      <td>&lt;NA&gt;</td>\n",
       "      <td>NaN</td>\n",
       "      <td>&lt;NA&gt;</td>\n",
       "      <td>None</td>\n",
       "      <td>None</td>\n",
       "    </tr>\n",
       "    <tr>\n",
       "      <th>2</th>\n",
       "      <td>Army Men: Sarge's Heroes</td>\n",
       "      <td>N64</td>\n",
       "      <td>1999</td>\n",
       "      <td>Action</td>\n",
       "      <td>3DO</td>\n",
       "      <td>0.68</td>\n",
       "      <td>0.12</td>\n",
       "      <td>0.0</td>\n",
       "      <td>0.01</td>\n",
       "      <td>0.81</td>\n",
       "      <td>&lt;NA&gt;</td>\n",
       "      <td>&lt;NA&gt;</td>\n",
       "      <td>NaN</td>\n",
       "      <td>&lt;NA&gt;</td>\n",
       "      <td>None</td>\n",
       "      <td>None</td>\n",
       "    </tr>\n",
       "    <tr>\n",
       "      <th>3</th>\n",
       "      <td>Sammy Sosa High Heat Baseball 2001</td>\n",
       "      <td>PS</td>\n",
       "      <td>2000</td>\n",
       "      <td>Sports</td>\n",
       "      <td>3DO</td>\n",
       "      <td>0.32</td>\n",
       "      <td>0.22</td>\n",
       "      <td>0.0</td>\n",
       "      <td>0.04</td>\n",
       "      <td>0.58</td>\n",
       "      <td>&lt;NA&gt;</td>\n",
       "      <td>&lt;NA&gt;</td>\n",
       "      <td>NaN</td>\n",
       "      <td>&lt;NA&gt;</td>\n",
       "      <td>None</td>\n",
       "      <td>None</td>\n",
       "    </tr>\n",
       "    <tr>\n",
       "      <th>4</th>\n",
       "      <td>Army Men: Sarge's Heroes</td>\n",
       "      <td>PS</td>\n",
       "      <td>1999</td>\n",
       "      <td>Action</td>\n",
       "      <td>3DO</td>\n",
       "      <td>0.31</td>\n",
       "      <td>0.21</td>\n",
       "      <td>0.0</td>\n",
       "      <td>0.04</td>\n",
       "      <td>0.56</td>\n",
       "      <td>&lt;NA&gt;</td>\n",
       "      <td>&lt;NA&gt;</td>\n",
       "      <td>NaN</td>\n",
       "      <td>&lt;NA&gt;</td>\n",
       "      <td>None</td>\n",
       "      <td>None</td>\n",
       "    </tr>\n",
       "  </tbody>\n",
       "</table>\n",
       "</div>"
      ],
      "text/plain": [
       "                                 Name Platform Year_of_Release   Genre  \\\n",
       "0                         Army Men 3D       PS            1999  Action   \n",
       "1                Army Men: Air Attack       PS            1999  Action   \n",
       "2            Army Men: Sarge's Heroes      N64            1999  Action   \n",
       "3  Sammy Sosa High Heat Baseball 2001       PS            2000  Sports   \n",
       "4            Army Men: Sarge's Heroes       PS            1999  Action   \n",
       "\n",
       "  Publisher  NA_Sales  EU_Sales  JP_Sales  Other_Sales  Global_Sales  \\\n",
       "0       3DO      1.10      0.14       0.0         0.04          1.28   \n",
       "1       3DO      0.47      0.32       0.0         0.06          0.85   \n",
       "2       3DO      0.68      0.12       0.0         0.01          0.81   \n",
       "3       3DO      0.32      0.22       0.0         0.04          0.58   \n",
       "4       3DO      0.31      0.21       0.0         0.04          0.56   \n",
       "\n",
       "   Critic_Score  Critic_Count  User_Score  User_Count Developer Rating  \n",
       "0          <NA>          <NA>         NaN        <NA>      None   None  \n",
       "1          <NA>          <NA>         NaN        <NA>      None   None  \n",
       "2          <NA>          <NA>         NaN        <NA>      None   None  \n",
       "3          <NA>          <NA>         NaN        <NA>      None   None  \n",
       "4          <NA>          <NA>         NaN        <NA>      None   None  "
      ]
     },
     "execution_count": 2,
     "metadata": {},
     "output_type": "execute_result"
    }
   ],
   "source": [
    "# query data\n",
    "QUERY = (\"\"\"SELECT * FROM `portfoliodata-428314.kaggle.video_game_sales`\"\"\")\n",
    "query_job = client.query(QUERY)\n",
    "df = query_job.result().to_dataframe()\n",
    "df.head()"
   ]
  },
  {
   "cell_type": "code",
   "execution_count": 3,
   "metadata": {},
   "outputs": [
    {
     "name": "stdout",
     "output_type": "stream",
     "text": [
      "<class 'pandas.core.frame.DataFrame'>\n",
      "RangeIndex: 16719 entries, 0 to 16718\n",
      "Data columns (total 16 columns):\n",
      " #   Column           Non-Null Count  Dtype  \n",
      "---  ------           --------------  -----  \n",
      " 0   Name             16717 non-null  object \n",
      " 1   Platform         16719 non-null  object \n",
      " 2   Year_of_Release  16719 non-null  object \n",
      " 3   Genre            16717 non-null  object \n",
      " 4   Publisher        16719 non-null  object \n",
      " 5   NA_Sales         16719 non-null  float64\n",
      " 6   EU_Sales         16719 non-null  float64\n",
      " 7   JP_Sales         16719 non-null  float64\n",
      " 8   Other_Sales      16719 non-null  float64\n",
      " 9   Global_Sales     16719 non-null  float64\n",
      " 10  Critic_Score     8137 non-null   Int64  \n",
      " 11  Critic_Count     8137 non-null   Int64  \n",
      " 12  User_Score       7590 non-null   float64\n",
      " 13  User_Count       7590 non-null   Int64  \n",
      " 14  Developer        10096 non-null  object \n",
      " 15  Rating           9950 non-null   object \n",
      "dtypes: Int64(3), float64(6), object(7)\n",
      "memory usage: 2.1+ MB\n"
     ]
    }
   ],
   "source": [
    "df.info()"
   ]
  },
  {
   "cell_type": "code",
   "execution_count": 4,
   "metadata": {},
   "outputs": [
    {
     "data": {
      "text/html": [
       "<div>\n",
       "<style scoped>\n",
       "    .dataframe tbody tr th:only-of-type {\n",
       "        vertical-align: middle;\n",
       "    }\n",
       "\n",
       "    .dataframe tbody tr th {\n",
       "        vertical-align: top;\n",
       "    }\n",
       "\n",
       "    .dataframe thead th {\n",
       "        text-align: right;\n",
       "    }\n",
       "</style>\n",
       "<table border=\"1\" class=\"dataframe\">\n",
       "  <thead>\n",
       "    <tr style=\"text-align: right;\">\n",
       "      <th></th>\n",
       "      <th>NA_Sales</th>\n",
       "      <th>EU_Sales</th>\n",
       "      <th>JP_Sales</th>\n",
       "      <th>Other_Sales</th>\n",
       "      <th>Global_Sales</th>\n",
       "      <th>Critic_Score</th>\n",
       "      <th>Critic_Count</th>\n",
       "      <th>User_Score</th>\n",
       "      <th>User_Count</th>\n",
       "    </tr>\n",
       "  </thead>\n",
       "  <tbody>\n",
       "    <tr>\n",
       "      <th>count</th>\n",
       "      <td>16719.000000</td>\n",
       "      <td>16719.000000</td>\n",
       "      <td>16719.000000</td>\n",
       "      <td>16719.000000</td>\n",
       "      <td>16719.000000</td>\n",
       "      <td>8137.0</td>\n",
       "      <td>8137.0</td>\n",
       "      <td>7590.000000</td>\n",
       "      <td>7590.0</td>\n",
       "    </tr>\n",
       "    <tr>\n",
       "      <th>mean</th>\n",
       "      <td>0.263330</td>\n",
       "      <td>0.145025</td>\n",
       "      <td>0.077602</td>\n",
       "      <td>0.047332</td>\n",
       "      <td>0.533543</td>\n",
       "      <td>68.967679</td>\n",
       "      <td>26.360821</td>\n",
       "      <td>7.125046</td>\n",
       "      <td>162.229908</td>\n",
       "    </tr>\n",
       "    <tr>\n",
       "      <th>std</th>\n",
       "      <td>0.813514</td>\n",
       "      <td>0.503283</td>\n",
       "      <td>0.308818</td>\n",
       "      <td>0.186710</td>\n",
       "      <td>1.547935</td>\n",
       "      <td>13.938165</td>\n",
       "      <td>18.980495</td>\n",
       "      <td>1.500006</td>\n",
       "      <td>561.282326</td>\n",
       "    </tr>\n",
       "    <tr>\n",
       "      <th>min</th>\n",
       "      <td>0.000000</td>\n",
       "      <td>0.000000</td>\n",
       "      <td>0.000000</td>\n",
       "      <td>0.000000</td>\n",
       "      <td>0.010000</td>\n",
       "      <td>13.0</td>\n",
       "      <td>3.0</td>\n",
       "      <td>0.000000</td>\n",
       "      <td>4.0</td>\n",
       "    </tr>\n",
       "    <tr>\n",
       "      <th>25%</th>\n",
       "      <td>0.000000</td>\n",
       "      <td>0.000000</td>\n",
       "      <td>0.000000</td>\n",
       "      <td>0.000000</td>\n",
       "      <td>0.060000</td>\n",
       "      <td>60.0</td>\n",
       "      <td>12.0</td>\n",
       "      <td>6.400000</td>\n",
       "      <td>10.0</td>\n",
       "    </tr>\n",
       "    <tr>\n",
       "      <th>50%</th>\n",
       "      <td>0.080000</td>\n",
       "      <td>0.020000</td>\n",
       "      <td>0.000000</td>\n",
       "      <td>0.010000</td>\n",
       "      <td>0.170000</td>\n",
       "      <td>71.0</td>\n",
       "      <td>21.0</td>\n",
       "      <td>7.500000</td>\n",
       "      <td>24.0</td>\n",
       "    </tr>\n",
       "    <tr>\n",
       "      <th>75%</th>\n",
       "      <td>0.240000</td>\n",
       "      <td>0.110000</td>\n",
       "      <td>0.040000</td>\n",
       "      <td>0.030000</td>\n",
       "      <td>0.470000</td>\n",
       "      <td>79.0</td>\n",
       "      <td>36.0</td>\n",
       "      <td>8.200000</td>\n",
       "      <td>81.0</td>\n",
       "    </tr>\n",
       "    <tr>\n",
       "      <th>max</th>\n",
       "      <td>41.360000</td>\n",
       "      <td>28.960000</td>\n",
       "      <td>10.220000</td>\n",
       "      <td>10.570000</td>\n",
       "      <td>82.530000</td>\n",
       "      <td>98.0</td>\n",
       "      <td>113.0</td>\n",
       "      <td>9.700000</td>\n",
       "      <td>10665.0</td>\n",
       "    </tr>\n",
       "  </tbody>\n",
       "</table>\n",
       "</div>"
      ],
      "text/plain": [
       "           NA_Sales      EU_Sales      JP_Sales   Other_Sales  Global_Sales  \\\n",
       "count  16719.000000  16719.000000  16719.000000  16719.000000  16719.000000   \n",
       "mean       0.263330      0.145025      0.077602      0.047332      0.533543   \n",
       "std        0.813514      0.503283      0.308818      0.186710      1.547935   \n",
       "min        0.000000      0.000000      0.000000      0.000000      0.010000   \n",
       "25%        0.000000      0.000000      0.000000      0.000000      0.060000   \n",
       "50%        0.080000      0.020000      0.000000      0.010000      0.170000   \n",
       "75%        0.240000      0.110000      0.040000      0.030000      0.470000   \n",
       "max       41.360000     28.960000     10.220000     10.570000     82.530000   \n",
       "\n",
       "       Critic_Score  Critic_Count   User_Score  User_Count  \n",
       "count        8137.0        8137.0  7590.000000      7590.0  \n",
       "mean      68.967679     26.360821     7.125046  162.229908  \n",
       "std       13.938165     18.980495     1.500006  561.282326  \n",
       "min            13.0           3.0     0.000000         4.0  \n",
       "25%            60.0          12.0     6.400000        10.0  \n",
       "50%            71.0          21.0     7.500000        24.0  \n",
       "75%            79.0          36.0     8.200000        81.0  \n",
       "max            98.0         113.0     9.700000     10665.0  "
      ]
     },
     "execution_count": 4,
     "metadata": {},
     "output_type": "execute_result"
    }
   ],
   "source": [
    "df.describe()"
   ]
  },
  {
   "cell_type": "code",
   "execution_count": 5,
   "metadata": {},
   "outputs": [
    {
     "data": {
      "text/plain": [
       "16717"
      ]
     },
     "execution_count": 5,
     "metadata": {},
     "output_type": "execute_result"
    }
   ],
   "source": [
    "len(df[['Name','Platform','Year_of_Release']].drop_duplicates())"
   ]
  },
  {
   "cell_type": "code",
   "execution_count": 6,
   "metadata": {},
   "outputs": [
    {
     "name": "stdout",
     "output_type": "stream",
     "text": [
      "<class 'pandas.core.frame.DataFrame'>\n",
      "Index: 16717 entries, 0 to 16718\n",
      "Data columns (total 16 columns):\n",
      " #   Column           Non-Null Count  Dtype  \n",
      "---  ------           --------------  -----  \n",
      " 0   Name             16716 non-null  object \n",
      " 1   Platform         16717 non-null  object \n",
      " 2   Year_of_Release  16717 non-null  object \n",
      " 3   Genre            16716 non-null  object \n",
      " 4   Publisher        16717 non-null  object \n",
      " 5   NA_Sales         16717 non-null  float64\n",
      " 6   EU_Sales         16717 non-null  float64\n",
      " 7   JP_Sales         16717 non-null  float64\n",
      " 8   Other_Sales      16717 non-null  float64\n",
      " 9   Global_Sales     16717 non-null  float64\n",
      " 10  Critic_Score     8136 non-null   Int64  \n",
      " 11  Critic_Count     8136 non-null   Int64  \n",
      " 12  User_Score       7589 non-null   float64\n",
      " 13  User_Count       7589 non-null   Int64  \n",
      " 14  Developer        10095 non-null  object \n",
      " 15  Rating           9949 non-null   object \n",
      "dtypes: Int64(3), float64(6), object(7)\n",
      "memory usage: 2.2+ MB\n"
     ]
    }
   ],
   "source": [
    "# drop duplicates and missing names\n",
    "df=df.drop_duplicates(subset=['Name','Platform','Year_of_Release'])\n",
    "df.info()"
   ]
  },
  {
   "cell_type": "code",
   "execution_count": 7,
   "metadata": {},
   "outputs": [
    {
     "data": {
      "text/html": [
       "<div>\n",
       "<style scoped>\n",
       "    .dataframe tbody tr th:only-of-type {\n",
       "        vertical-align: middle;\n",
       "    }\n",
       "\n",
       "    .dataframe tbody tr th {\n",
       "        vertical-align: top;\n",
       "    }\n",
       "\n",
       "    .dataframe thead th {\n",
       "        text-align: right;\n",
       "    }\n",
       "</style>\n",
       "<table border=\"1\" class=\"dataframe\">\n",
       "  <thead>\n",
       "    <tr style=\"text-align: right;\">\n",
       "      <th></th>\n",
       "      <th>Name</th>\n",
       "      <th>Platform</th>\n",
       "      <th>Year_of_Release</th>\n",
       "      <th>Genre</th>\n",
       "      <th>Publisher</th>\n",
       "      <th>NA_Sales</th>\n",
       "      <th>EU_Sales</th>\n",
       "      <th>JP_Sales</th>\n",
       "      <th>Other_Sales</th>\n",
       "      <th>Global_Sales</th>\n",
       "      <th>Critic_Score</th>\n",
       "      <th>Critic_Count</th>\n",
       "      <th>User_Score</th>\n",
       "      <th>User_Count</th>\n",
       "      <th>Developer</th>\n",
       "      <th>Rating</th>\n",
       "    </tr>\n",
       "  </thead>\n",
       "  <tbody>\n",
       "    <tr>\n",
       "      <th>13677</th>\n",
       "      <td>None</td>\n",
       "      <td>GEN</td>\n",
       "      <td>1993</td>\n",
       "      <td>None</td>\n",
       "      <td>Acclaim Entertainment</td>\n",
       "      <td>1.78</td>\n",
       "      <td>0.53</td>\n",
       "      <td>0.0</td>\n",
       "      <td>0.08</td>\n",
       "      <td>2.39</td>\n",
       "      <td>&lt;NA&gt;</td>\n",
       "      <td>&lt;NA&gt;</td>\n",
       "      <td>NaN</td>\n",
       "      <td>&lt;NA&gt;</td>\n",
       "      <td>None</td>\n",
       "      <td>None</td>\n",
       "    </tr>\n",
       "  </tbody>\n",
       "</table>\n",
       "</div>"
      ],
      "text/plain": [
       "       Name Platform Year_of_Release Genre              Publisher  NA_Sales  \\\n",
       "13677  None      GEN            1993  None  Acclaim Entertainment      1.78   \n",
       "\n",
       "       EU_Sales  JP_Sales  Other_Sales  Global_Sales  Critic_Score  \\\n",
       "13677      0.53       0.0         0.08          2.39          <NA>   \n",
       "\n",
       "       Critic_Count  User_Score  User_Count Developer Rating  \n",
       "13677          <NA>         NaN        <NA>      None   None  "
      ]
     },
     "execution_count": 7,
     "metadata": {},
     "output_type": "execute_result"
    }
   ],
   "source": [
    "df[df['Name'].isna()]"
   ]
  },
  {
   "cell_type": "code",
   "execution_count": 8,
   "metadata": {},
   "outputs": [],
   "source": [
    "df=df[~df['Name'].isna()]"
   ]
  },
  {
   "cell_type": "markdown",
   "metadata": {},
   "source": [
    "# EDA"
   ]
  },
  {
   "cell_type": "markdown",
   "metadata": {},
   "source": [
    "## Platform"
   ]
  },
  {
   "cell_type": "code",
   "execution_count": 9,
   "metadata": {},
   "outputs": [],
   "source": [
    "platform_df=df.Platform.value_counts(normalize=True,dropna=False).reset_index()\n",
    "platform_df=platform_df[platform_df['proportion']>.03]\n",
    "platform_df['proportion']=100*platform_df['proportion']\n",
    "platform_df['pull']=0.0\n",
    "platform_df.loc[0, 'pull'] = 0.2"
   ]
  },
  {
   "cell_type": "code",
   "execution_count": 10,
   "metadata": {},
   "outputs": [
    {
     "data": {
      "application/vnd.plotly.v1+json": {
       "config": {
        "plotlyServerURL": "https://plotly.com"
       },
       "data": [
        {
         "domain": {
          "x": [
           0,
           1
          ],
          "y": [
           0,
           1
          ]
         },
         "hole": 0.4,
         "hovertemplate": "<b>%{label}</b> <br> Proportion of Total Video Games Released: %{value:.2f}%",
         "labels": [
          "PS2",
          "DS",
          "PS3",
          "Wii",
          "X360",
          "PSP",
          "PS",
          "PC",
          "XB",
          "GBA",
          "GC",
          "3DS"
         ],
         "legendgroup": "",
         "name": "",
         "pull": [
          0.2,
          0,
          0,
          0,
          0,
          0,
          0,
          0,
          0,
          0,
          0,
          0
         ],
         "showlegend": false,
         "textinfo": "value+label",
         "textposition": "inside",
         "texttemplate": "<b>%{label}</b> <br> %{value:.1f}%",
         "type": "pie",
         "values": [
          12.927733907633405,
          12.873893275903326,
          7.956448911222782,
          7.896625987078249,
          7.5496530270399616,
          7.232591529073941,
          7.160804020100503,
          5.8267528116774345,
          4.929408949509452,
          4.917444364680545,
          3.3261545824359895,
          3.110792055515674
         ]
        }
       ],
       "layout": {
        "legend": {
         "tracegroupgap": 0
        },
        "piecolorway": [
         "rgb(99, 88, 159)",
         "rgb(130, 109, 186)",
         "rgb(159, 130, 206)",
         "rgb(185, 152, 221)",
         "rgb(209, 175, 232)",
         "rgb(228, 199, 241)",
         "rgb(243, 224, 247)"
        ],
        "template": {
         "data": {
          "bar": [
           {
            "error_x": {
             "color": "#2a3f5f"
            },
            "error_y": {
             "color": "#2a3f5f"
            },
            "marker": {
             "line": {
              "color": "#E5ECF6",
              "width": 0.5
             },
             "pattern": {
              "fillmode": "overlay",
              "size": 10,
              "solidity": 0.2
             }
            },
            "type": "bar"
           }
          ],
          "barpolar": [
           {
            "marker": {
             "line": {
              "color": "#E5ECF6",
              "width": 0.5
             },
             "pattern": {
              "fillmode": "overlay",
              "size": 10,
              "solidity": 0.2
             }
            },
            "type": "barpolar"
           }
          ],
          "carpet": [
           {
            "aaxis": {
             "endlinecolor": "#2a3f5f",
             "gridcolor": "white",
             "linecolor": "white",
             "minorgridcolor": "white",
             "startlinecolor": "#2a3f5f"
            },
            "baxis": {
             "endlinecolor": "#2a3f5f",
             "gridcolor": "white",
             "linecolor": "white",
             "minorgridcolor": "white",
             "startlinecolor": "#2a3f5f"
            },
            "type": "carpet"
           }
          ],
          "choropleth": [
           {
            "colorbar": {
             "outlinewidth": 0,
             "ticks": ""
            },
            "type": "choropleth"
           }
          ],
          "contour": [
           {
            "colorbar": {
             "outlinewidth": 0,
             "ticks": ""
            },
            "colorscale": [
             [
              0,
              "#0d0887"
             ],
             [
              0.1111111111111111,
              "#46039f"
             ],
             [
              0.2222222222222222,
              "#7201a8"
             ],
             [
              0.3333333333333333,
              "#9c179e"
             ],
             [
              0.4444444444444444,
              "#bd3786"
             ],
             [
              0.5555555555555556,
              "#d8576b"
             ],
             [
              0.6666666666666666,
              "#ed7953"
             ],
             [
              0.7777777777777778,
              "#fb9f3a"
             ],
             [
              0.8888888888888888,
              "#fdca26"
             ],
             [
              1,
              "#f0f921"
             ]
            ],
            "type": "contour"
           }
          ],
          "contourcarpet": [
           {
            "colorbar": {
             "outlinewidth": 0,
             "ticks": ""
            },
            "type": "contourcarpet"
           }
          ],
          "heatmap": [
           {
            "colorbar": {
             "outlinewidth": 0,
             "ticks": ""
            },
            "colorscale": [
             [
              0,
              "#0d0887"
             ],
             [
              0.1111111111111111,
              "#46039f"
             ],
             [
              0.2222222222222222,
              "#7201a8"
             ],
             [
              0.3333333333333333,
              "#9c179e"
             ],
             [
              0.4444444444444444,
              "#bd3786"
             ],
             [
              0.5555555555555556,
              "#d8576b"
             ],
             [
              0.6666666666666666,
              "#ed7953"
             ],
             [
              0.7777777777777778,
              "#fb9f3a"
             ],
             [
              0.8888888888888888,
              "#fdca26"
             ],
             [
              1,
              "#f0f921"
             ]
            ],
            "type": "heatmap"
           }
          ],
          "heatmapgl": [
           {
            "colorbar": {
             "outlinewidth": 0,
             "ticks": ""
            },
            "colorscale": [
             [
              0,
              "#0d0887"
             ],
             [
              0.1111111111111111,
              "#46039f"
             ],
             [
              0.2222222222222222,
              "#7201a8"
             ],
             [
              0.3333333333333333,
              "#9c179e"
             ],
             [
              0.4444444444444444,
              "#bd3786"
             ],
             [
              0.5555555555555556,
              "#d8576b"
             ],
             [
              0.6666666666666666,
              "#ed7953"
             ],
             [
              0.7777777777777778,
              "#fb9f3a"
             ],
             [
              0.8888888888888888,
              "#fdca26"
             ],
             [
              1,
              "#f0f921"
             ]
            ],
            "type": "heatmapgl"
           }
          ],
          "histogram": [
           {
            "marker": {
             "pattern": {
              "fillmode": "overlay",
              "size": 10,
              "solidity": 0.2
             }
            },
            "type": "histogram"
           }
          ],
          "histogram2d": [
           {
            "colorbar": {
             "outlinewidth": 0,
             "ticks": ""
            },
            "colorscale": [
             [
              0,
              "#0d0887"
             ],
             [
              0.1111111111111111,
              "#46039f"
             ],
             [
              0.2222222222222222,
              "#7201a8"
             ],
             [
              0.3333333333333333,
              "#9c179e"
             ],
             [
              0.4444444444444444,
              "#bd3786"
             ],
             [
              0.5555555555555556,
              "#d8576b"
             ],
             [
              0.6666666666666666,
              "#ed7953"
             ],
             [
              0.7777777777777778,
              "#fb9f3a"
             ],
             [
              0.8888888888888888,
              "#fdca26"
             ],
             [
              1,
              "#f0f921"
             ]
            ],
            "type": "histogram2d"
           }
          ],
          "histogram2dcontour": [
           {
            "colorbar": {
             "outlinewidth": 0,
             "ticks": ""
            },
            "colorscale": [
             [
              0,
              "#0d0887"
             ],
             [
              0.1111111111111111,
              "#46039f"
             ],
             [
              0.2222222222222222,
              "#7201a8"
             ],
             [
              0.3333333333333333,
              "#9c179e"
             ],
             [
              0.4444444444444444,
              "#bd3786"
             ],
             [
              0.5555555555555556,
              "#d8576b"
             ],
             [
              0.6666666666666666,
              "#ed7953"
             ],
             [
              0.7777777777777778,
              "#fb9f3a"
             ],
             [
              0.8888888888888888,
              "#fdca26"
             ],
             [
              1,
              "#f0f921"
             ]
            ],
            "type": "histogram2dcontour"
           }
          ],
          "mesh3d": [
           {
            "colorbar": {
             "outlinewidth": 0,
             "ticks": ""
            },
            "type": "mesh3d"
           }
          ],
          "parcoords": [
           {
            "line": {
             "colorbar": {
              "outlinewidth": 0,
              "ticks": ""
             }
            },
            "type": "parcoords"
           }
          ],
          "pie": [
           {
            "automargin": true,
            "type": "pie"
           }
          ],
          "scatter": [
           {
            "fillpattern": {
             "fillmode": "overlay",
             "size": 10,
             "solidity": 0.2
            },
            "type": "scatter"
           }
          ],
          "scatter3d": [
           {
            "line": {
             "colorbar": {
              "outlinewidth": 0,
              "ticks": ""
             }
            },
            "marker": {
             "colorbar": {
              "outlinewidth": 0,
              "ticks": ""
             }
            },
            "type": "scatter3d"
           }
          ],
          "scattercarpet": [
           {
            "marker": {
             "colorbar": {
              "outlinewidth": 0,
              "ticks": ""
             }
            },
            "type": "scattercarpet"
           }
          ],
          "scattergeo": [
           {
            "marker": {
             "colorbar": {
              "outlinewidth": 0,
              "ticks": ""
             }
            },
            "type": "scattergeo"
           }
          ],
          "scattergl": [
           {
            "marker": {
             "colorbar": {
              "outlinewidth": 0,
              "ticks": ""
             }
            },
            "type": "scattergl"
           }
          ],
          "scattermapbox": [
           {
            "marker": {
             "colorbar": {
              "outlinewidth": 0,
              "ticks": ""
             }
            },
            "type": "scattermapbox"
           }
          ],
          "scatterpolar": [
           {
            "marker": {
             "colorbar": {
              "outlinewidth": 0,
              "ticks": ""
             }
            },
            "type": "scatterpolar"
           }
          ],
          "scatterpolargl": [
           {
            "marker": {
             "colorbar": {
              "outlinewidth": 0,
              "ticks": ""
             }
            },
            "type": "scatterpolargl"
           }
          ],
          "scatterternary": [
           {
            "marker": {
             "colorbar": {
              "outlinewidth": 0,
              "ticks": ""
             }
            },
            "type": "scatterternary"
           }
          ],
          "surface": [
           {
            "colorbar": {
             "outlinewidth": 0,
             "ticks": ""
            },
            "colorscale": [
             [
              0,
              "#0d0887"
             ],
             [
              0.1111111111111111,
              "#46039f"
             ],
             [
              0.2222222222222222,
              "#7201a8"
             ],
             [
              0.3333333333333333,
              "#9c179e"
             ],
             [
              0.4444444444444444,
              "#bd3786"
             ],
             [
              0.5555555555555556,
              "#d8576b"
             ],
             [
              0.6666666666666666,
              "#ed7953"
             ],
             [
              0.7777777777777778,
              "#fb9f3a"
             ],
             [
              0.8888888888888888,
              "#fdca26"
             ],
             [
              1,
              "#f0f921"
             ]
            ],
            "type": "surface"
           }
          ],
          "table": [
           {
            "cells": {
             "fill": {
              "color": "#EBF0F8"
             },
             "line": {
              "color": "white"
             }
            },
            "header": {
             "fill": {
              "color": "#C8D4E3"
             },
             "line": {
              "color": "white"
             }
            },
            "type": "table"
           }
          ]
         },
         "layout": {
          "annotationdefaults": {
           "arrowcolor": "#2a3f5f",
           "arrowhead": 0,
           "arrowwidth": 1
          },
          "autotypenumbers": "strict",
          "coloraxis": {
           "colorbar": {
            "outlinewidth": 0,
            "ticks": ""
           }
          },
          "colorscale": {
           "diverging": [
            [
             0,
             "#8e0152"
            ],
            [
             0.1,
             "#c51b7d"
            ],
            [
             0.2,
             "#de77ae"
            ],
            [
             0.3,
             "#f1b6da"
            ],
            [
             0.4,
             "#fde0ef"
            ],
            [
             0.5,
             "#f7f7f7"
            ],
            [
             0.6,
             "#e6f5d0"
            ],
            [
             0.7,
             "#b8e186"
            ],
            [
             0.8,
             "#7fbc41"
            ],
            [
             0.9,
             "#4d9221"
            ],
            [
             1,
             "#276419"
            ]
           ],
           "sequential": [
            [
             0,
             "#0d0887"
            ],
            [
             0.1111111111111111,
             "#46039f"
            ],
            [
             0.2222222222222222,
             "#7201a8"
            ],
            [
             0.3333333333333333,
             "#9c179e"
            ],
            [
             0.4444444444444444,
             "#bd3786"
            ],
            [
             0.5555555555555556,
             "#d8576b"
            ],
            [
             0.6666666666666666,
             "#ed7953"
            ],
            [
             0.7777777777777778,
             "#fb9f3a"
            ],
            [
             0.8888888888888888,
             "#fdca26"
            ],
            [
             1,
             "#f0f921"
            ]
           ],
           "sequentialminus": [
            [
             0,
             "#0d0887"
            ],
            [
             0.1111111111111111,
             "#46039f"
            ],
            [
             0.2222222222222222,
             "#7201a8"
            ],
            [
             0.3333333333333333,
             "#9c179e"
            ],
            [
             0.4444444444444444,
             "#bd3786"
            ],
            [
             0.5555555555555556,
             "#d8576b"
            ],
            [
             0.6666666666666666,
             "#ed7953"
            ],
            [
             0.7777777777777778,
             "#fb9f3a"
            ],
            [
             0.8888888888888888,
             "#fdca26"
            ],
            [
             1,
             "#f0f921"
            ]
           ]
          },
          "colorway": [
           "#636efa",
           "#EF553B",
           "#00cc96",
           "#ab63fa",
           "#FFA15A",
           "#19d3f3",
           "#FF6692",
           "#B6E880",
           "#FF97FF",
           "#FECB52"
          ],
          "font": {
           "color": "#2a3f5f"
          },
          "geo": {
           "bgcolor": "white",
           "lakecolor": "white",
           "landcolor": "#E5ECF6",
           "showlakes": true,
           "showland": true,
           "subunitcolor": "white"
          },
          "hoverlabel": {
           "align": "left"
          },
          "hovermode": "closest",
          "mapbox": {
           "style": "light"
          },
          "paper_bgcolor": "white",
          "plot_bgcolor": "#E5ECF6",
          "polar": {
           "angularaxis": {
            "gridcolor": "white",
            "linecolor": "white",
            "ticks": ""
           },
           "bgcolor": "#E5ECF6",
           "radialaxis": {
            "gridcolor": "white",
            "linecolor": "white",
            "ticks": ""
           }
          },
          "scene": {
           "xaxis": {
            "backgroundcolor": "#E5ECF6",
            "gridcolor": "white",
            "gridwidth": 2,
            "linecolor": "white",
            "showbackground": true,
            "ticks": "",
            "zerolinecolor": "white"
           },
           "yaxis": {
            "backgroundcolor": "#E5ECF6",
            "gridcolor": "white",
            "gridwidth": 2,
            "linecolor": "white",
            "showbackground": true,
            "ticks": "",
            "zerolinecolor": "white"
           },
           "zaxis": {
            "backgroundcolor": "#E5ECF6",
            "gridcolor": "white",
            "gridwidth": 2,
            "linecolor": "white",
            "showbackground": true,
            "ticks": "",
            "zerolinecolor": "white"
           }
          },
          "shapedefaults": {
           "line": {
            "color": "#2a3f5f"
           }
          },
          "ternary": {
           "aaxis": {
            "gridcolor": "white",
            "linecolor": "white",
            "ticks": ""
           },
           "baxis": {
            "gridcolor": "white",
            "linecolor": "white",
            "ticks": ""
           },
           "bgcolor": "#E5ECF6",
           "caxis": {
            "gridcolor": "white",
            "linecolor": "white",
            "ticks": ""
           }
          },
          "title": {
           "x": 0.05
          },
          "xaxis": {
           "automargin": true,
           "gridcolor": "white",
           "linecolor": "white",
           "ticks": "",
           "title": {
            "standoff": 15
           },
           "zerolinecolor": "white",
           "zerolinewidth": 2
          },
          "yaxis": {
           "automargin": true,
           "gridcolor": "white",
           "linecolor": "white",
           "ticks": "",
           "title": {
            "standoff": 15
           },
           "zerolinecolor": "white",
           "zerolinewidth": 2
          }
         }
        },
        "title": {
         "text": "Proportion of Video Games by Platform"
        },
        "width": 600
       }
      }
     },
     "metadata": {},
     "output_type": "display_data"
    }
   ],
   "source": [
    "import plotly.graph_objects as go\n",
    "fig = px.pie(platform_df, values='proportion', names='Platform', title='Proportion of Video Games by Platform',\n",
    "             hole=.4,color_discrete_sequence=px.colors.sequential.Purp_r,\n",
    "            hover_data={},\n",
    "            width=600)\n",
    "\n",
    "\n",
    "fig.update_traces( texttemplate = \"<b>%{label}</b> <br> %{value:.1f}%\",\n",
    "                   hovertemplate = \"<b>%{label}</b> <br> Proportion of Total Video Games Released: %{value:.2f}%\",\n",
    "                 textinfo='value+label',\n",
    "                  showlegend=False, textposition='inside',\n",
    "                 pull=platform_df['pull'])\n",
    "fig.show()"
   ]
  },
  {
   "cell_type": "code",
   "execution_count": 11,
   "metadata": {},
   "outputs": [
    {
     "data": {
      "text/plain": [
       "'https://plotly.com/~vivianellis/1/'"
      ]
     },
     "execution_count": 11,
     "metadata": {},
     "output_type": "execute_result"
    }
   ],
   "source": [
    "py.plot(fig, filename='video_game_platforms', auto_open=False)"
   ]
  },
  {
   "cell_type": "code",
   "execution_count": 12,
   "metadata": {},
   "outputs": [
    {
     "data": {
      "application/vnd.plotly.v1+json": {
       "config": {
        "plotlyServerURL": "https://plotly.com"
       },
       "data": [
        {
         "domain": {
          "x": [
           0,
           1
          ],
          "y": [
           0,
           1
          ]
         },
         "hole": 0.4,
         "hovertemplate": "<b>%{label}</b> <br> Genre of Total Video Games Released: %{value:.2f}%",
         "labels": [
          "Action",
          "Sports",
          "Misc",
          "Role-Playing",
          "Shooter",
          "Adventure",
          "Racing",
          "Platform",
          "Simulation",
          "Fighting",
          "Strategy",
          "Puzzle"
         ],
         "legendgroup": "",
         "name": "",
         "pull": [
          0.2,
          0,
          0,
          0,
          0,
          0,
          0,
          0,
          0,
          0,
          0,
          0
         ],
         "showlegend": false,
         "textinfo": "value+label",
         "textposition": "inside",
         "texttemplate": "<b>%{label}</b> <br> %{value:.1f}%",
         "type": "pie",
         "values": [
          20.160325436707346,
          14.040440296721703,
          10.469011725293132,
          8.973438621679827,
          7.914572864321608,
          7.794927016032544,
          7.4718832256520695,
          5.312275664034458,
          5.228523570232113,
          5.078966259870783,
          4.085905719071548,
          3.469729600382867
         ]
        }
       ],
       "layout": {
        "legend": {
         "tracegroupgap": 0
        },
        "piecolorway": [
         "rgb(99, 88, 159)",
         "rgb(130, 109, 186)",
         "rgb(159, 130, 206)",
         "rgb(185, 152, 221)",
         "rgb(209, 175, 232)",
         "rgb(228, 199, 241)",
         "rgb(243, 224, 247)"
        ],
        "template": {
         "data": {
          "bar": [
           {
            "error_x": {
             "color": "#2a3f5f"
            },
            "error_y": {
             "color": "#2a3f5f"
            },
            "marker": {
             "line": {
              "color": "#E5ECF6",
              "width": 0.5
             },
             "pattern": {
              "fillmode": "overlay",
              "size": 10,
              "solidity": 0.2
             }
            },
            "type": "bar"
           }
          ],
          "barpolar": [
           {
            "marker": {
             "line": {
              "color": "#E5ECF6",
              "width": 0.5
             },
             "pattern": {
              "fillmode": "overlay",
              "size": 10,
              "solidity": 0.2
             }
            },
            "type": "barpolar"
           }
          ],
          "carpet": [
           {
            "aaxis": {
             "endlinecolor": "#2a3f5f",
             "gridcolor": "white",
             "linecolor": "white",
             "minorgridcolor": "white",
             "startlinecolor": "#2a3f5f"
            },
            "baxis": {
             "endlinecolor": "#2a3f5f",
             "gridcolor": "white",
             "linecolor": "white",
             "minorgridcolor": "white",
             "startlinecolor": "#2a3f5f"
            },
            "type": "carpet"
           }
          ],
          "choropleth": [
           {
            "colorbar": {
             "outlinewidth": 0,
             "ticks": ""
            },
            "type": "choropleth"
           }
          ],
          "contour": [
           {
            "colorbar": {
             "outlinewidth": 0,
             "ticks": ""
            },
            "colorscale": [
             [
              0,
              "#0d0887"
             ],
             [
              0.1111111111111111,
              "#46039f"
             ],
             [
              0.2222222222222222,
              "#7201a8"
             ],
             [
              0.3333333333333333,
              "#9c179e"
             ],
             [
              0.4444444444444444,
              "#bd3786"
             ],
             [
              0.5555555555555556,
              "#d8576b"
             ],
             [
              0.6666666666666666,
              "#ed7953"
             ],
             [
              0.7777777777777778,
              "#fb9f3a"
             ],
             [
              0.8888888888888888,
              "#fdca26"
             ],
             [
              1,
              "#f0f921"
             ]
            ],
            "type": "contour"
           }
          ],
          "contourcarpet": [
           {
            "colorbar": {
             "outlinewidth": 0,
             "ticks": ""
            },
            "type": "contourcarpet"
           }
          ],
          "heatmap": [
           {
            "colorbar": {
             "outlinewidth": 0,
             "ticks": ""
            },
            "colorscale": [
             [
              0,
              "#0d0887"
             ],
             [
              0.1111111111111111,
              "#46039f"
             ],
             [
              0.2222222222222222,
              "#7201a8"
             ],
             [
              0.3333333333333333,
              "#9c179e"
             ],
             [
              0.4444444444444444,
              "#bd3786"
             ],
             [
              0.5555555555555556,
              "#d8576b"
             ],
             [
              0.6666666666666666,
              "#ed7953"
             ],
             [
              0.7777777777777778,
              "#fb9f3a"
             ],
             [
              0.8888888888888888,
              "#fdca26"
             ],
             [
              1,
              "#f0f921"
             ]
            ],
            "type": "heatmap"
           }
          ],
          "heatmapgl": [
           {
            "colorbar": {
             "outlinewidth": 0,
             "ticks": ""
            },
            "colorscale": [
             [
              0,
              "#0d0887"
             ],
             [
              0.1111111111111111,
              "#46039f"
             ],
             [
              0.2222222222222222,
              "#7201a8"
             ],
             [
              0.3333333333333333,
              "#9c179e"
             ],
             [
              0.4444444444444444,
              "#bd3786"
             ],
             [
              0.5555555555555556,
              "#d8576b"
             ],
             [
              0.6666666666666666,
              "#ed7953"
             ],
             [
              0.7777777777777778,
              "#fb9f3a"
             ],
             [
              0.8888888888888888,
              "#fdca26"
             ],
             [
              1,
              "#f0f921"
             ]
            ],
            "type": "heatmapgl"
           }
          ],
          "histogram": [
           {
            "marker": {
             "pattern": {
              "fillmode": "overlay",
              "size": 10,
              "solidity": 0.2
             }
            },
            "type": "histogram"
           }
          ],
          "histogram2d": [
           {
            "colorbar": {
             "outlinewidth": 0,
             "ticks": ""
            },
            "colorscale": [
             [
              0,
              "#0d0887"
             ],
             [
              0.1111111111111111,
              "#46039f"
             ],
             [
              0.2222222222222222,
              "#7201a8"
             ],
             [
              0.3333333333333333,
              "#9c179e"
             ],
             [
              0.4444444444444444,
              "#bd3786"
             ],
             [
              0.5555555555555556,
              "#d8576b"
             ],
             [
              0.6666666666666666,
              "#ed7953"
             ],
             [
              0.7777777777777778,
              "#fb9f3a"
             ],
             [
              0.8888888888888888,
              "#fdca26"
             ],
             [
              1,
              "#f0f921"
             ]
            ],
            "type": "histogram2d"
           }
          ],
          "histogram2dcontour": [
           {
            "colorbar": {
             "outlinewidth": 0,
             "ticks": ""
            },
            "colorscale": [
             [
              0,
              "#0d0887"
             ],
             [
              0.1111111111111111,
              "#46039f"
             ],
             [
              0.2222222222222222,
              "#7201a8"
             ],
             [
              0.3333333333333333,
              "#9c179e"
             ],
             [
              0.4444444444444444,
              "#bd3786"
             ],
             [
              0.5555555555555556,
              "#d8576b"
             ],
             [
              0.6666666666666666,
              "#ed7953"
             ],
             [
              0.7777777777777778,
              "#fb9f3a"
             ],
             [
              0.8888888888888888,
              "#fdca26"
             ],
             [
              1,
              "#f0f921"
             ]
            ],
            "type": "histogram2dcontour"
           }
          ],
          "mesh3d": [
           {
            "colorbar": {
             "outlinewidth": 0,
             "ticks": ""
            },
            "type": "mesh3d"
           }
          ],
          "parcoords": [
           {
            "line": {
             "colorbar": {
              "outlinewidth": 0,
              "ticks": ""
             }
            },
            "type": "parcoords"
           }
          ],
          "pie": [
           {
            "automargin": true,
            "type": "pie"
           }
          ],
          "scatter": [
           {
            "fillpattern": {
             "fillmode": "overlay",
             "size": 10,
             "solidity": 0.2
            },
            "type": "scatter"
           }
          ],
          "scatter3d": [
           {
            "line": {
             "colorbar": {
              "outlinewidth": 0,
              "ticks": ""
             }
            },
            "marker": {
             "colorbar": {
              "outlinewidth": 0,
              "ticks": ""
             }
            },
            "type": "scatter3d"
           }
          ],
          "scattercarpet": [
           {
            "marker": {
             "colorbar": {
              "outlinewidth": 0,
              "ticks": ""
             }
            },
            "type": "scattercarpet"
           }
          ],
          "scattergeo": [
           {
            "marker": {
             "colorbar": {
              "outlinewidth": 0,
              "ticks": ""
             }
            },
            "type": "scattergeo"
           }
          ],
          "scattergl": [
           {
            "marker": {
             "colorbar": {
              "outlinewidth": 0,
              "ticks": ""
             }
            },
            "type": "scattergl"
           }
          ],
          "scattermapbox": [
           {
            "marker": {
             "colorbar": {
              "outlinewidth": 0,
              "ticks": ""
             }
            },
            "type": "scattermapbox"
           }
          ],
          "scatterpolar": [
           {
            "marker": {
             "colorbar": {
              "outlinewidth": 0,
              "ticks": ""
             }
            },
            "type": "scatterpolar"
           }
          ],
          "scatterpolargl": [
           {
            "marker": {
             "colorbar": {
              "outlinewidth": 0,
              "ticks": ""
             }
            },
            "type": "scatterpolargl"
           }
          ],
          "scatterternary": [
           {
            "marker": {
             "colorbar": {
              "outlinewidth": 0,
              "ticks": ""
             }
            },
            "type": "scatterternary"
           }
          ],
          "surface": [
           {
            "colorbar": {
             "outlinewidth": 0,
             "ticks": ""
            },
            "colorscale": [
             [
              0,
              "#0d0887"
             ],
             [
              0.1111111111111111,
              "#46039f"
             ],
             [
              0.2222222222222222,
              "#7201a8"
             ],
             [
              0.3333333333333333,
              "#9c179e"
             ],
             [
              0.4444444444444444,
              "#bd3786"
             ],
             [
              0.5555555555555556,
              "#d8576b"
             ],
             [
              0.6666666666666666,
              "#ed7953"
             ],
             [
              0.7777777777777778,
              "#fb9f3a"
             ],
             [
              0.8888888888888888,
              "#fdca26"
             ],
             [
              1,
              "#f0f921"
             ]
            ],
            "type": "surface"
           }
          ],
          "table": [
           {
            "cells": {
             "fill": {
              "color": "#EBF0F8"
             },
             "line": {
              "color": "white"
             }
            },
            "header": {
             "fill": {
              "color": "#C8D4E3"
             },
             "line": {
              "color": "white"
             }
            },
            "type": "table"
           }
          ]
         },
         "layout": {
          "annotationdefaults": {
           "arrowcolor": "#2a3f5f",
           "arrowhead": 0,
           "arrowwidth": 1
          },
          "autotypenumbers": "strict",
          "coloraxis": {
           "colorbar": {
            "outlinewidth": 0,
            "ticks": ""
           }
          },
          "colorscale": {
           "diverging": [
            [
             0,
             "#8e0152"
            ],
            [
             0.1,
             "#c51b7d"
            ],
            [
             0.2,
             "#de77ae"
            ],
            [
             0.3,
             "#f1b6da"
            ],
            [
             0.4,
             "#fde0ef"
            ],
            [
             0.5,
             "#f7f7f7"
            ],
            [
             0.6,
             "#e6f5d0"
            ],
            [
             0.7,
             "#b8e186"
            ],
            [
             0.8,
             "#7fbc41"
            ],
            [
             0.9,
             "#4d9221"
            ],
            [
             1,
             "#276419"
            ]
           ],
           "sequential": [
            [
             0,
             "#0d0887"
            ],
            [
             0.1111111111111111,
             "#46039f"
            ],
            [
             0.2222222222222222,
             "#7201a8"
            ],
            [
             0.3333333333333333,
             "#9c179e"
            ],
            [
             0.4444444444444444,
             "#bd3786"
            ],
            [
             0.5555555555555556,
             "#d8576b"
            ],
            [
             0.6666666666666666,
             "#ed7953"
            ],
            [
             0.7777777777777778,
             "#fb9f3a"
            ],
            [
             0.8888888888888888,
             "#fdca26"
            ],
            [
             1,
             "#f0f921"
            ]
           ],
           "sequentialminus": [
            [
             0,
             "#0d0887"
            ],
            [
             0.1111111111111111,
             "#46039f"
            ],
            [
             0.2222222222222222,
             "#7201a8"
            ],
            [
             0.3333333333333333,
             "#9c179e"
            ],
            [
             0.4444444444444444,
             "#bd3786"
            ],
            [
             0.5555555555555556,
             "#d8576b"
            ],
            [
             0.6666666666666666,
             "#ed7953"
            ],
            [
             0.7777777777777778,
             "#fb9f3a"
            ],
            [
             0.8888888888888888,
             "#fdca26"
            ],
            [
             1,
             "#f0f921"
            ]
           ]
          },
          "colorway": [
           "#636efa",
           "#EF553B",
           "#00cc96",
           "#ab63fa",
           "#FFA15A",
           "#19d3f3",
           "#FF6692",
           "#B6E880",
           "#FF97FF",
           "#FECB52"
          ],
          "font": {
           "color": "#2a3f5f"
          },
          "geo": {
           "bgcolor": "white",
           "lakecolor": "white",
           "landcolor": "#E5ECF6",
           "showlakes": true,
           "showland": true,
           "subunitcolor": "white"
          },
          "hoverlabel": {
           "align": "left"
          },
          "hovermode": "closest",
          "mapbox": {
           "style": "light"
          },
          "paper_bgcolor": "white",
          "plot_bgcolor": "#E5ECF6",
          "polar": {
           "angularaxis": {
            "gridcolor": "white",
            "linecolor": "white",
            "ticks": ""
           },
           "bgcolor": "#E5ECF6",
           "radialaxis": {
            "gridcolor": "white",
            "linecolor": "white",
            "ticks": ""
           }
          },
          "scene": {
           "xaxis": {
            "backgroundcolor": "#E5ECF6",
            "gridcolor": "white",
            "gridwidth": 2,
            "linecolor": "white",
            "showbackground": true,
            "ticks": "",
            "zerolinecolor": "white"
           },
           "yaxis": {
            "backgroundcolor": "#E5ECF6",
            "gridcolor": "white",
            "gridwidth": 2,
            "linecolor": "white",
            "showbackground": true,
            "ticks": "",
            "zerolinecolor": "white"
           },
           "zaxis": {
            "backgroundcolor": "#E5ECF6",
            "gridcolor": "white",
            "gridwidth": 2,
            "linecolor": "white",
            "showbackground": true,
            "ticks": "",
            "zerolinecolor": "white"
           }
          },
          "shapedefaults": {
           "line": {
            "color": "#2a3f5f"
           }
          },
          "ternary": {
           "aaxis": {
            "gridcolor": "white",
            "linecolor": "white",
            "ticks": ""
           },
           "baxis": {
            "gridcolor": "white",
            "linecolor": "white",
            "ticks": ""
           },
           "bgcolor": "#E5ECF6",
           "caxis": {
            "gridcolor": "white",
            "linecolor": "white",
            "ticks": ""
           }
          },
          "title": {
           "x": 0.05
          },
          "xaxis": {
           "automargin": true,
           "gridcolor": "white",
           "linecolor": "white",
           "ticks": "",
           "title": {
            "standoff": 15
           },
           "zerolinecolor": "white",
           "zerolinewidth": 2
          },
          "yaxis": {
           "automargin": true,
           "gridcolor": "white",
           "linecolor": "white",
           "ticks": "",
           "title": {
            "standoff": 15
           },
           "zerolinecolor": "white",
           "zerolinewidth": 2
          }
         }
        },
        "title": {
         "text": "Genre of Video Games by Platform"
        },
        "width": 600
       }
      }
     },
     "metadata": {},
     "output_type": "display_data"
    }
   ],
   "source": [
    "Genre_df=df.Genre.value_counts(normalize=True,dropna=False).reset_index()\n",
    "Genre_df=Genre_df[Genre_df['proportion']>.03]\n",
    "Genre_df['proportion']=100*Genre_df['proportion']\n",
    "Genre_df['pull']=0.0\n",
    "Genre_df.loc[0, 'pull'] = 0.2\n",
    "\n",
    "fig = px.pie(Genre_df, values='proportion', names='Genre', title='Genre of Video Games by Platform',\n",
    "             hole=.4,color_discrete_sequence=px.colors.sequential.Purp_r,\n",
    "            hover_data={},\n",
    "            width=600)\n",
    "\n",
    "\n",
    "fig.update_traces( texttemplate = \"<b>%{label}</b> <br> %{value:.1f}%\",\n",
    "                   hovertemplate = \"<b>%{label}</b> <br> Genre of Total Video Games Released: %{value:.2f}%\",\n",
    "                 textinfo='value+label',\n",
    "                  showlegend=False, textposition='inside',\n",
    "                 pull=Genre_df['pull'])\n",
    "fig.show()"
   ]
  },
  {
   "cell_type": "code",
   "execution_count": 13,
   "metadata": {},
   "outputs": [
    {
     "data": {
      "text/plain": [
       "'https://plotly.com/~vivianellis/3/'"
      ]
     },
     "execution_count": 13,
     "metadata": {},
     "output_type": "execute_result"
    }
   ],
   "source": [
    "py.plot(fig, filename='video_game_platform_genres', auto_open=False)"
   ]
  },
  {
   "cell_type": "markdown",
   "metadata": {},
   "source": [
    "## publishers by top global sales"
   ]
  },
  {
   "cell_type": "code",
   "execution_count": 14,
   "metadata": {},
   "outputs": [
    {
     "data": {
      "text/html": [
       "<div>\n",
       "<style scoped>\n",
       "    .dataframe tbody tr th:only-of-type {\n",
       "        vertical-align: middle;\n",
       "    }\n",
       "\n",
       "    .dataframe tbody tr th {\n",
       "        vertical-align: top;\n",
       "    }\n",
       "\n",
       "    .dataframe thead th {\n",
       "        text-align: right;\n",
       "    }\n",
       "</style>\n",
       "<table border=\"1\" class=\"dataframe\">\n",
       "  <thead>\n",
       "    <tr style=\"text-align: right;\">\n",
       "      <th></th>\n",
       "      <th>Publisher</th>\n",
       "      <th>count</th>\n",
       "    </tr>\n",
       "  </thead>\n",
       "  <tbody>\n",
       "    <tr>\n",
       "      <th>0</th>\n",
       "      <td>Nintendo</td>\n",
       "      <td>302</td>\n",
       "    </tr>\n",
       "    <tr>\n",
       "      <th>1</th>\n",
       "      <td>Electronic Arts</td>\n",
       "      <td>282</td>\n",
       "    </tr>\n",
       "    <tr>\n",
       "      <th>2</th>\n",
       "      <td>Activision</td>\n",
       "      <td>133</td>\n",
       "    </tr>\n",
       "    <tr>\n",
       "      <th>3</th>\n",
       "      <td>Sony Computer Entertainment</td>\n",
       "      <td>123</td>\n",
       "    </tr>\n",
       "  </tbody>\n",
       "</table>\n",
       "</div>"
      ],
      "text/plain": [
       "                     Publisher  count\n",
       "0                     Nintendo    302\n",
       "1              Electronic Arts    282\n",
       "2                   Activision    133\n",
       "3  Sony Computer Entertainment    123"
      ]
     },
     "execution_count": 14,
     "metadata": {},
     "output_type": "execute_result"
    }
   ],
   "source": [
    "top_sales=df[df['Global_Sales']>=df.Global_Sales.quantile(.9)]\n",
    "top_4_publishers=top_sales.Publisher.value_counts(dropna=False).reset_index().head(4)\n",
    "top_4_publishers"
   ]
  },
  {
   "cell_type": "code",
   "execution_count": 15,
   "metadata": {},
   "outputs": [],
   "source": [
    "top_publisher_games=top_sales[top_sales['Publisher'].isin(top_4_publishers['Publisher'].unique())]\n",
    "top_publisher_games=top_publisher_games[['Publisher','Genre','Name']].groupby(['Publisher','Genre']).count().reset_index()\n",
    "top_publisher_games=top_publisher_games[top_publisher_games['Name']>9]\n",
    "top_publisher_games=top_publisher_games.sort_values(by='Name',ascending=False).reset_index()\n",
    "# rename sony for readablilty\n",
    "top_publisher_games=top_publisher_games.replace({\"Publisher\": {'Sony Computer Entertainment':\"Sony\"}})"
   ]
  },
  {
   "cell_type": "code",
   "execution_count": 16,
   "metadata": {},
   "outputs": [
    {
     "data": {
      "application/vnd.plotly.v1+json": {
       "config": {
        "plotlyServerURL": "https://plotly.com"
       },
       "data": [
        {
         "branchvalues": "total",
         "domain": {
          "x": [
           0,
           1
          ],
          "y": [
           0,
           1
          ]
         },
         "hovertemplate": "labels=%{label}<br>Name=%{value}<br>parent=%{parent}<br>id=%{id}<extra></extra>",
         "ids": [
          "Activision/Action",
          "Electronic Arts/Action",
          "Nintendo/Action",
          "Sony/Action",
          "Electronic Arts/Fighting",
          "Activision/Misc",
          "Nintendo/Misc",
          "Sony/Misc",
          "Nintendo/Platform",
          "Sony/Platform",
          "Nintendo/Puzzle",
          "Electronic Arts/Racing",
          "Nintendo/Racing",
          "Sony/Racing",
          "Activision/Role-Playing",
          "Nintendo/Role-Playing",
          "Activision/Shooter",
          "Electronic Arts/Shooter",
          "Nintendo/Shooter",
          "Sony/Shooter",
          "Electronic Arts/Simulation",
          "Nintendo/Simulation",
          "Activision/Sports",
          "Electronic Arts/Sports",
          "Nintendo/Sports",
          "Activision",
          "Electronic Arts",
          "Nintendo",
          "Sony"
         ],
         "labels": [
          "Action",
          "Action",
          "Action",
          "Action",
          "Fighting",
          "Misc",
          "Misc",
          "Misc",
          "Platform",
          "Platform",
          "Puzzle",
          "Racing",
          "Racing",
          "Racing",
          "Role-Playing",
          "Role-Playing",
          "Shooter",
          "Shooter",
          "Shooter",
          "Shooter",
          "Simulation",
          "Simulation",
          "Sports",
          "Sports",
          "Sports",
          "Activision",
          "Electronic Arts",
          "Nintendo",
          "Sony"
         ],
         "name": "",
         "parents": [
          "Activision",
          "Electronic Arts",
          "Nintendo",
          "Sony",
          "Electronic Arts",
          "Activision",
          "Nintendo",
          "Sony",
          "Nintendo",
          "Sony",
          "Nintendo",
          "Electronic Arts",
          "Nintendo",
          "Sony",
          "Activision",
          "Nintendo",
          "Activision",
          "Electronic Arts",
          "Nintendo",
          "Sony",
          "Electronic Arts",
          "Nintendo",
          "Activision",
          "Electronic Arts",
          "Nintendo",
          "",
          "",
          "",
          ""
         ],
         "type": "sunburst",
         "values": [
          25,
          21,
          32,
          20,
          12,
          16,
          37,
          16,
          70,
          27,
          23,
          45,
          20,
          19,
          14,
          48,
          51,
          41,
          12,
          18,
          25,
          13,
          13,
          117,
          25,
          119,
          261,
          280,
          100
         ]
        }
       ],
       "layout": {
        "legend": {
         "tracegroupgap": 0
        },
        "sunburstcolorway": [
         "rgb(87, 59, 136)",
         "rgb(131, 75, 160)",
         "rgb(173, 95, 173)",
         "rgb(206, 120, 179)",
         "rgb(229, 151, 185)",
         "rgb(242, 185, 196)",
         "rgb(249, 221, 218)"
        ],
        "template": {
         "data": {
          "bar": [
           {
            "error_x": {
             "color": "#2a3f5f"
            },
            "error_y": {
             "color": "#2a3f5f"
            },
            "marker": {
             "line": {
              "color": "#E5ECF6",
              "width": 0.5
             },
             "pattern": {
              "fillmode": "overlay",
              "size": 10,
              "solidity": 0.2
             }
            },
            "type": "bar"
           }
          ],
          "barpolar": [
           {
            "marker": {
             "line": {
              "color": "#E5ECF6",
              "width": 0.5
             },
             "pattern": {
              "fillmode": "overlay",
              "size": 10,
              "solidity": 0.2
             }
            },
            "type": "barpolar"
           }
          ],
          "carpet": [
           {
            "aaxis": {
             "endlinecolor": "#2a3f5f",
             "gridcolor": "white",
             "linecolor": "white",
             "minorgridcolor": "white",
             "startlinecolor": "#2a3f5f"
            },
            "baxis": {
             "endlinecolor": "#2a3f5f",
             "gridcolor": "white",
             "linecolor": "white",
             "minorgridcolor": "white",
             "startlinecolor": "#2a3f5f"
            },
            "type": "carpet"
           }
          ],
          "choropleth": [
           {
            "colorbar": {
             "outlinewidth": 0,
             "ticks": ""
            },
            "type": "choropleth"
           }
          ],
          "contour": [
           {
            "colorbar": {
             "outlinewidth": 0,
             "ticks": ""
            },
            "colorscale": [
             [
              0,
              "#0d0887"
             ],
             [
              0.1111111111111111,
              "#46039f"
             ],
             [
              0.2222222222222222,
              "#7201a8"
             ],
             [
              0.3333333333333333,
              "#9c179e"
             ],
             [
              0.4444444444444444,
              "#bd3786"
             ],
             [
              0.5555555555555556,
              "#d8576b"
             ],
             [
              0.6666666666666666,
              "#ed7953"
             ],
             [
              0.7777777777777778,
              "#fb9f3a"
             ],
             [
              0.8888888888888888,
              "#fdca26"
             ],
             [
              1,
              "#f0f921"
             ]
            ],
            "type": "contour"
           }
          ],
          "contourcarpet": [
           {
            "colorbar": {
             "outlinewidth": 0,
             "ticks": ""
            },
            "type": "contourcarpet"
           }
          ],
          "heatmap": [
           {
            "colorbar": {
             "outlinewidth": 0,
             "ticks": ""
            },
            "colorscale": [
             [
              0,
              "#0d0887"
             ],
             [
              0.1111111111111111,
              "#46039f"
             ],
             [
              0.2222222222222222,
              "#7201a8"
             ],
             [
              0.3333333333333333,
              "#9c179e"
             ],
             [
              0.4444444444444444,
              "#bd3786"
             ],
             [
              0.5555555555555556,
              "#d8576b"
             ],
             [
              0.6666666666666666,
              "#ed7953"
             ],
             [
              0.7777777777777778,
              "#fb9f3a"
             ],
             [
              0.8888888888888888,
              "#fdca26"
             ],
             [
              1,
              "#f0f921"
             ]
            ],
            "type": "heatmap"
           }
          ],
          "heatmapgl": [
           {
            "colorbar": {
             "outlinewidth": 0,
             "ticks": ""
            },
            "colorscale": [
             [
              0,
              "#0d0887"
             ],
             [
              0.1111111111111111,
              "#46039f"
             ],
             [
              0.2222222222222222,
              "#7201a8"
             ],
             [
              0.3333333333333333,
              "#9c179e"
             ],
             [
              0.4444444444444444,
              "#bd3786"
             ],
             [
              0.5555555555555556,
              "#d8576b"
             ],
             [
              0.6666666666666666,
              "#ed7953"
             ],
             [
              0.7777777777777778,
              "#fb9f3a"
             ],
             [
              0.8888888888888888,
              "#fdca26"
             ],
             [
              1,
              "#f0f921"
             ]
            ],
            "type": "heatmapgl"
           }
          ],
          "histogram": [
           {
            "marker": {
             "pattern": {
              "fillmode": "overlay",
              "size": 10,
              "solidity": 0.2
             }
            },
            "type": "histogram"
           }
          ],
          "histogram2d": [
           {
            "colorbar": {
             "outlinewidth": 0,
             "ticks": ""
            },
            "colorscale": [
             [
              0,
              "#0d0887"
             ],
             [
              0.1111111111111111,
              "#46039f"
             ],
             [
              0.2222222222222222,
              "#7201a8"
             ],
             [
              0.3333333333333333,
              "#9c179e"
             ],
             [
              0.4444444444444444,
              "#bd3786"
             ],
             [
              0.5555555555555556,
              "#d8576b"
             ],
             [
              0.6666666666666666,
              "#ed7953"
             ],
             [
              0.7777777777777778,
              "#fb9f3a"
             ],
             [
              0.8888888888888888,
              "#fdca26"
             ],
             [
              1,
              "#f0f921"
             ]
            ],
            "type": "histogram2d"
           }
          ],
          "histogram2dcontour": [
           {
            "colorbar": {
             "outlinewidth": 0,
             "ticks": ""
            },
            "colorscale": [
             [
              0,
              "#0d0887"
             ],
             [
              0.1111111111111111,
              "#46039f"
             ],
             [
              0.2222222222222222,
              "#7201a8"
             ],
             [
              0.3333333333333333,
              "#9c179e"
             ],
             [
              0.4444444444444444,
              "#bd3786"
             ],
             [
              0.5555555555555556,
              "#d8576b"
             ],
             [
              0.6666666666666666,
              "#ed7953"
             ],
             [
              0.7777777777777778,
              "#fb9f3a"
             ],
             [
              0.8888888888888888,
              "#fdca26"
             ],
             [
              1,
              "#f0f921"
             ]
            ],
            "type": "histogram2dcontour"
           }
          ],
          "mesh3d": [
           {
            "colorbar": {
             "outlinewidth": 0,
             "ticks": ""
            },
            "type": "mesh3d"
           }
          ],
          "parcoords": [
           {
            "line": {
             "colorbar": {
              "outlinewidth": 0,
              "ticks": ""
             }
            },
            "type": "parcoords"
           }
          ],
          "pie": [
           {
            "automargin": true,
            "type": "pie"
           }
          ],
          "scatter": [
           {
            "fillpattern": {
             "fillmode": "overlay",
             "size": 10,
             "solidity": 0.2
            },
            "type": "scatter"
           }
          ],
          "scatter3d": [
           {
            "line": {
             "colorbar": {
              "outlinewidth": 0,
              "ticks": ""
             }
            },
            "marker": {
             "colorbar": {
              "outlinewidth": 0,
              "ticks": ""
             }
            },
            "type": "scatter3d"
           }
          ],
          "scattercarpet": [
           {
            "marker": {
             "colorbar": {
              "outlinewidth": 0,
              "ticks": ""
             }
            },
            "type": "scattercarpet"
           }
          ],
          "scattergeo": [
           {
            "marker": {
             "colorbar": {
              "outlinewidth": 0,
              "ticks": ""
             }
            },
            "type": "scattergeo"
           }
          ],
          "scattergl": [
           {
            "marker": {
             "colorbar": {
              "outlinewidth": 0,
              "ticks": ""
             }
            },
            "type": "scattergl"
           }
          ],
          "scattermapbox": [
           {
            "marker": {
             "colorbar": {
              "outlinewidth": 0,
              "ticks": ""
             }
            },
            "type": "scattermapbox"
           }
          ],
          "scatterpolar": [
           {
            "marker": {
             "colorbar": {
              "outlinewidth": 0,
              "ticks": ""
             }
            },
            "type": "scatterpolar"
           }
          ],
          "scatterpolargl": [
           {
            "marker": {
             "colorbar": {
              "outlinewidth": 0,
              "ticks": ""
             }
            },
            "type": "scatterpolargl"
           }
          ],
          "scatterternary": [
           {
            "marker": {
             "colorbar": {
              "outlinewidth": 0,
              "ticks": ""
             }
            },
            "type": "scatterternary"
           }
          ],
          "surface": [
           {
            "colorbar": {
             "outlinewidth": 0,
             "ticks": ""
            },
            "colorscale": [
             [
              0,
              "#0d0887"
             ],
             [
              0.1111111111111111,
              "#46039f"
             ],
             [
              0.2222222222222222,
              "#7201a8"
             ],
             [
              0.3333333333333333,
              "#9c179e"
             ],
             [
              0.4444444444444444,
              "#bd3786"
             ],
             [
              0.5555555555555556,
              "#d8576b"
             ],
             [
              0.6666666666666666,
              "#ed7953"
             ],
             [
              0.7777777777777778,
              "#fb9f3a"
             ],
             [
              0.8888888888888888,
              "#fdca26"
             ],
             [
              1,
              "#f0f921"
             ]
            ],
            "type": "surface"
           }
          ],
          "table": [
           {
            "cells": {
             "fill": {
              "color": "#EBF0F8"
             },
             "line": {
              "color": "white"
             }
            },
            "header": {
             "fill": {
              "color": "#C8D4E3"
             },
             "line": {
              "color": "white"
             }
            },
            "type": "table"
           }
          ]
         },
         "layout": {
          "annotationdefaults": {
           "arrowcolor": "#2a3f5f",
           "arrowhead": 0,
           "arrowwidth": 1
          },
          "autotypenumbers": "strict",
          "coloraxis": {
           "colorbar": {
            "outlinewidth": 0,
            "ticks": ""
           }
          },
          "colorscale": {
           "diverging": [
            [
             0,
             "#8e0152"
            ],
            [
             0.1,
             "#c51b7d"
            ],
            [
             0.2,
             "#de77ae"
            ],
            [
             0.3,
             "#f1b6da"
            ],
            [
             0.4,
             "#fde0ef"
            ],
            [
             0.5,
             "#f7f7f7"
            ],
            [
             0.6,
             "#e6f5d0"
            ],
            [
             0.7,
             "#b8e186"
            ],
            [
             0.8,
             "#7fbc41"
            ],
            [
             0.9,
             "#4d9221"
            ],
            [
             1,
             "#276419"
            ]
           ],
           "sequential": [
            [
             0,
             "#0d0887"
            ],
            [
             0.1111111111111111,
             "#46039f"
            ],
            [
             0.2222222222222222,
             "#7201a8"
            ],
            [
             0.3333333333333333,
             "#9c179e"
            ],
            [
             0.4444444444444444,
             "#bd3786"
            ],
            [
             0.5555555555555556,
             "#d8576b"
            ],
            [
             0.6666666666666666,
             "#ed7953"
            ],
            [
             0.7777777777777778,
             "#fb9f3a"
            ],
            [
             0.8888888888888888,
             "#fdca26"
            ],
            [
             1,
             "#f0f921"
            ]
           ],
           "sequentialminus": [
            [
             0,
             "#0d0887"
            ],
            [
             0.1111111111111111,
             "#46039f"
            ],
            [
             0.2222222222222222,
             "#7201a8"
            ],
            [
             0.3333333333333333,
             "#9c179e"
            ],
            [
             0.4444444444444444,
             "#bd3786"
            ],
            [
             0.5555555555555556,
             "#d8576b"
            ],
            [
             0.6666666666666666,
             "#ed7953"
            ],
            [
             0.7777777777777778,
             "#fb9f3a"
            ],
            [
             0.8888888888888888,
             "#fdca26"
            ],
            [
             1,
             "#f0f921"
            ]
           ]
          },
          "colorway": [
           "#636efa",
           "#EF553B",
           "#00cc96",
           "#ab63fa",
           "#FFA15A",
           "#19d3f3",
           "#FF6692",
           "#B6E880",
           "#FF97FF",
           "#FECB52"
          ],
          "font": {
           "color": "#2a3f5f"
          },
          "geo": {
           "bgcolor": "white",
           "lakecolor": "white",
           "landcolor": "#E5ECF6",
           "showlakes": true,
           "showland": true,
           "subunitcolor": "white"
          },
          "hoverlabel": {
           "align": "left"
          },
          "hovermode": "closest",
          "mapbox": {
           "style": "light"
          },
          "paper_bgcolor": "white",
          "plot_bgcolor": "#E5ECF6",
          "polar": {
           "angularaxis": {
            "gridcolor": "white",
            "linecolor": "white",
            "ticks": ""
           },
           "bgcolor": "#E5ECF6",
           "radialaxis": {
            "gridcolor": "white",
            "linecolor": "white",
            "ticks": ""
           }
          },
          "scene": {
           "xaxis": {
            "backgroundcolor": "#E5ECF6",
            "gridcolor": "white",
            "gridwidth": 2,
            "linecolor": "white",
            "showbackground": true,
            "ticks": "",
            "zerolinecolor": "white"
           },
           "yaxis": {
            "backgroundcolor": "#E5ECF6",
            "gridcolor": "white",
            "gridwidth": 2,
            "linecolor": "white",
            "showbackground": true,
            "ticks": "",
            "zerolinecolor": "white"
           },
           "zaxis": {
            "backgroundcolor": "#E5ECF6",
            "gridcolor": "white",
            "gridwidth": 2,
            "linecolor": "white",
            "showbackground": true,
            "ticks": "",
            "zerolinecolor": "white"
           }
          },
          "shapedefaults": {
           "line": {
            "color": "#2a3f5f"
           }
          },
          "ternary": {
           "aaxis": {
            "gridcolor": "white",
            "linecolor": "white",
            "ticks": ""
           },
           "baxis": {
            "gridcolor": "white",
            "linecolor": "white",
            "ticks": ""
           },
           "bgcolor": "#E5ECF6",
           "caxis": {
            "gridcolor": "white",
            "linecolor": "white",
            "ticks": ""
           }
          },
          "title": {
           "x": 0.05
          },
          "xaxis": {
           "automargin": true,
           "gridcolor": "white",
           "linecolor": "white",
           "ticks": "",
           "title": {
            "standoff": 15
           },
           "zerolinecolor": "white",
           "zerolinewidth": 2
          },
          "yaxis": {
           "automargin": true,
           "gridcolor": "white",
           "linecolor": "white",
           "ticks": "",
           "title": {
            "standoff": 15
           },
           "zerolinecolor": "white",
           "zerolinewidth": 2
          }
         }
        },
        "title": {
         "text": "Publishers and Their Top Selling Genres"
        }
       }
      }
     },
     "metadata": {},
     "output_type": "display_data"
    }
   ],
   "source": [
    "fig = px.sunburst(top_publisher_games, path=['Publisher', 'Genre'], values='Name', title='Publishers and Their Top Selling Genres',color_discrete_sequence=px.colors.sequential.Purpor_r)\n",
    "fig.show()"
   ]
  },
  {
   "cell_type": "code",
   "execution_count": 17,
   "metadata": {},
   "outputs": [
    {
     "data": {
      "text/plain": [
       "'https://plotly.com/~vivianellis/5/'"
      ]
     },
     "execution_count": 17,
     "metadata": {},
     "output_type": "execute_result"
    }
   ],
   "source": [
    "py.plot(fig, filename='video_game_publishers_genres', auto_open=False)"
   ]
  },
  {
   "cell_type": "markdown",
   "metadata": {},
   "source": [
    "## popularity of genre over the years"
   ]
  },
  {
   "cell_type": "code",
   "execution_count": 18,
   "metadata": {},
   "outputs": [
    {
     "data": {
      "text/html": [
       "<div>\n",
       "<style scoped>\n",
       "    .dataframe tbody tr th:only-of-type {\n",
       "        vertical-align: middle;\n",
       "    }\n",
       "\n",
       "    .dataframe tbody tr th {\n",
       "        vertical-align: top;\n",
       "    }\n",
       "\n",
       "    .dataframe thead th {\n",
       "        text-align: right;\n",
       "    }\n",
       "</style>\n",
       "<table border=\"1\" class=\"dataframe\">\n",
       "  <thead>\n",
       "    <tr style=\"text-align: right;\">\n",
       "      <th></th>\n",
       "      <th>Year_of_Release</th>\n",
       "      <th>Genre</th>\n",
       "      <th>Global_Sales</th>\n",
       "      <th>top</th>\n",
       "      <th>Year</th>\n",
       "    </tr>\n",
       "  </thead>\n",
       "  <tbody>\n",
       "    <tr>\n",
       "      <th>0</th>\n",
       "      <td>1980</td>\n",
       "      <td>Action</td>\n",
       "      <td>0.34</td>\n",
       "      <td>0.0</td>\n",
       "      <td>1980</td>\n",
       "    </tr>\n",
       "    <tr>\n",
       "      <th>12</th>\n",
       "      <td>1981</td>\n",
       "      <td>Action</td>\n",
       "      <td>14.84</td>\n",
       "      <td>1.0</td>\n",
       "      <td>1981</td>\n",
       "    </tr>\n",
       "    <tr>\n",
       "      <th>24</th>\n",
       "      <td>1982</td>\n",
       "      <td>Action</td>\n",
       "      <td>6.52</td>\n",
       "      <td>0.0</td>\n",
       "      <td>1982</td>\n",
       "    </tr>\n",
       "    <tr>\n",
       "      <th>36</th>\n",
       "      <td>1983</td>\n",
       "      <td>Action</td>\n",
       "      <td>2.86</td>\n",
       "      <td>0.0</td>\n",
       "      <td>1983</td>\n",
       "    </tr>\n",
       "    <tr>\n",
       "      <th>48</th>\n",
       "      <td>1984</td>\n",
       "      <td>Action</td>\n",
       "      <td>1.85</td>\n",
       "      <td>0.0</td>\n",
       "      <td>1984</td>\n",
       "    </tr>\n",
       "    <tr>\n",
       "      <th>...</th>\n",
       "      <td>...</td>\n",
       "      <td>...</td>\n",
       "      <td>...</td>\n",
       "      <td>...</td>\n",
       "      <td>...</td>\n",
       "    </tr>\n",
       "    <tr>\n",
       "      <th>395</th>\n",
       "      <td>2012</td>\n",
       "      <td>Strategy</td>\n",
       "      <td>3.27</td>\n",
       "      <td>0.0</td>\n",
       "      <td>2012</td>\n",
       "    </tr>\n",
       "    <tr>\n",
       "      <th>407</th>\n",
       "      <td>2013</td>\n",
       "      <td>Strategy</td>\n",
       "      <td>6.09</td>\n",
       "      <td>0.0</td>\n",
       "      <td>2013</td>\n",
       "    </tr>\n",
       "    <tr>\n",
       "      <th>419</th>\n",
       "      <td>2014</td>\n",
       "      <td>Strategy</td>\n",
       "      <td>0.99</td>\n",
       "      <td>0.0</td>\n",
       "      <td>2014</td>\n",
       "    </tr>\n",
       "    <tr>\n",
       "      <th>431</th>\n",
       "      <td>2015</td>\n",
       "      <td>Strategy</td>\n",
       "      <td>1.84</td>\n",
       "      <td>0.0</td>\n",
       "      <td>2015</td>\n",
       "    </tr>\n",
       "    <tr>\n",
       "      <th>443</th>\n",
       "      <td>2016</td>\n",
       "      <td>Strategy</td>\n",
       "      <td>1.15</td>\n",
       "      <td>0.0</td>\n",
       "      <td>2016</td>\n",
       "    </tr>\n",
       "  </tbody>\n",
       "</table>\n",
       "<p>444 rows × 5 columns</p>\n",
       "</div>"
      ],
      "text/plain": [
       "    Year_of_Release     Genre  Global_Sales  top  Year\n",
       "0              1980    Action          0.34  0.0  1980\n",
       "12             1981    Action         14.84  1.0  1981\n",
       "24             1982    Action          6.52  0.0  1982\n",
       "36             1983    Action          2.86  0.0  1983\n",
       "48             1984    Action          1.85  0.0  1984\n",
       "..              ...       ...           ...  ...   ...\n",
       "395            2012  Strategy          3.27  0.0  2012\n",
       "407            2013  Strategy          6.09  0.0  2013\n",
       "419            2014  Strategy          0.99  0.0  2014\n",
       "431            2015  Strategy          1.84  0.0  2015\n",
       "443            2016  Strategy          1.15  0.0  2016\n",
       "\n",
       "[444 rows x 5 columns]"
      ]
     },
     "execution_count": 18,
     "metadata": {},
     "output_type": "execute_result"
    }
   ],
   "source": [
    "yearly_genre_sales=df[['Global_Sales','Year_of_Release','Genre']].groupby(['Year_of_Release','Genre']).sum().reset_index()\n",
    "yearly_genre_sales=yearly_genre_sales[yearly_genre_sales['Year_of_Release']<='2016']\n",
    "combinations = list(itertools.product(yearly_genre_sales.Year_of_Release.unique(), yearly_genre_sales.Genre.unique()))\n",
    "year_genre=pd.DataFrame(data=combinations,columns=['Year_of_Release','Genre'])\n",
    "yearly_genre_sales=yearly_genre_sales.merge(year_genre,how='outer')\n",
    "top_genre_yearly_genre_sales=yearly_genre_sales.loc[yearly_genre_sales.groupby('Year_of_Release')['Global_Sales'].idxmax()]\n",
    "top_genre_yearly_genre_sales['top']=1\n",
    "yearly_genre_sales=yearly_genre_sales.merge(top_genre_yearly_genre_sales,how='outer')\n",
    "yearly_genre_sales=yearly_genre_sales.fillna(0.0)\n",
    "yearly_genre_sales['Year']=yearly_genre_sales['Year_of_Release'].astype(int)\n",
    "yearly_genre_sales=yearly_genre_sales.sort_values(by=['Genre','Year'])\n",
    "yearly_genre_sales"
   ]
  },
  {
   "cell_type": "code",
   "execution_count": 19,
   "metadata": {},
   "outputs": [],
   "source": [
    "temp=df[['Name','Year_of_Release','Global_Sales','Genre','Publisher']].groupby(['Year_of_Release','Name','Genre','Publisher']).sum().reset_index()\n",
    "temp=temp[temp['Year_of_Release']<='2016']\n",
    "top_selling_game_yearly=temp.loc[temp.groupby('Year_of_Release')['Global_Sales'].idxmax()]\n",
    "top_selling_game_yearly['Year']=top_selling_game_yearly['Year_of_Release'].astype(int)\n",
    "top_selling_game_yearly = top_selling_game_yearly.rename(columns={'Name': 'Top Selling Game',\n",
    "                                                                 'Genre':'Top Genre',\n",
    "                                                                 'Publisher':'Top Publisher',\n",
    "                                                                 'Global_Sales':'Top Global Sales'})\n",
    "\n",
    "yearly_genre_sales=yearly_genre_sales.merge(top_selling_game_yearly,how='outer')"
   ]
  },
  {
   "cell_type": "code",
   "execution_count": 20,
   "metadata": {},
   "outputs": [
    {
     "data": {
      "application/vnd.plotly.v1+json": {
       "config": {
        "plotlyServerURL": "https://plotly.com"
       },
       "data": [
        {
         "alignmentgroup": "True",
         "customdata": [
          [
           1980,
           "Shooter",
           "Asteroids",
           "Atari",
           4.31
          ],
          [
           1980,
           "Shooter",
           "Asteroids",
           "Atari",
           4.31
          ],
          [
           1980,
           "Shooter",
           "Asteroids",
           "Atari",
           4.31
          ],
          [
           1980,
           "Shooter",
           "Asteroids",
           "Atari",
           4.31
          ],
          [
           1980,
           "Shooter",
           "Asteroids",
           "Atari",
           4.31
          ],
          [
           1980,
           "Shooter",
           "Asteroids",
           "Atari",
           4.31
          ],
          [
           1980,
           "Shooter",
           "Asteroids",
           "Atari",
           4.31
          ],
          [
           1980,
           "Shooter",
           "Asteroids",
           "Atari",
           4.31
          ],
          [
           1980,
           "Shooter",
           "Asteroids",
           "Atari",
           4.31
          ],
          [
           1980,
           "Shooter",
           "Asteroids",
           "Atari",
           4.31
          ],
          [
           1980,
           "Shooter",
           "Asteroids",
           "Atari",
           4.31
          ],
          [
           1980,
           "Shooter",
           "Asteroids",
           "Atari",
           4.31
          ]
         ],
         "hovertemplate": "<b>%{x}</b><br><br>Total Global Sales in %{customdata[0]}: $%{y}M<br><br>Best Selling Game of The Year:<br> <b>%{customdata[2]}</b> <br> %{customdata[1]} - %{customdata[3]}, $%{customdata[4]}M",
         "legendgroup": "",
         "marker": {
          "color": [
           0,
           0,
           0,
           0,
           0,
           0,
           0,
           0,
           1,
           0,
           0,
           0
          ],
          "coloraxis": "coloraxis",
          "pattern": {
           "shape": ""
          }
         },
         "name": "",
         "offsetgroup": "",
         "orientation": "v",
         "showlegend": false,
         "textposition": "auto",
         "type": "bar",
         "x": [
          "Action",
          "Adventure",
          "Fighting",
          "Misc",
          "Platform",
          "Puzzle",
          "Racing",
          "Role-Playing",
          "Shooter",
          "Simulation",
          "Sports",
          "Strategy"
         ],
         "xaxis": "x",
         "y": [
          0.34,
          0,
          0.77,
          2.71,
          0,
          0,
          0,
          0,
          7.069999999999999,
          0,
          0.49,
          0
         ],
         "yaxis": "y"
        }
       ],
       "frames": [
        {
         "data": [
          {
           "alignmentgroup": "True",
           "customdata": [
            [
             1980,
             "Shooter",
             "Asteroids",
             "Atari",
             4.31
            ],
            [
             1980,
             "Shooter",
             "Asteroids",
             "Atari",
             4.31
            ],
            [
             1980,
             "Shooter",
             "Asteroids",
             "Atari",
             4.31
            ],
            [
             1980,
             "Shooter",
             "Asteroids",
             "Atari",
             4.31
            ],
            [
             1980,
             "Shooter",
             "Asteroids",
             "Atari",
             4.31
            ],
            [
             1980,
             "Shooter",
             "Asteroids",
             "Atari",
             4.31
            ],
            [
             1980,
             "Shooter",
             "Asteroids",
             "Atari",
             4.31
            ],
            [
             1980,
             "Shooter",
             "Asteroids",
             "Atari",
             4.31
            ],
            [
             1980,
             "Shooter",
             "Asteroids",
             "Atari",
             4.31
            ],
            [
             1980,
             "Shooter",
             "Asteroids",
             "Atari",
             4.31
            ],
            [
             1980,
             "Shooter",
             "Asteroids",
             "Atari",
             4.31
            ],
            [
             1980,
             "Shooter",
             "Asteroids",
             "Atari",
             4.31
            ]
           ],
           "hovertemplate": "<b>%{x}</b><br><br>Total Global Sales in %{customdata[0]}: $%{y}M<br><br>Best Selling Game of The Year:<br> <b>%{customdata[2]}</b> <br> %{customdata[1]} - %{customdata[3]}, $%{customdata[4]}M",
           "legendgroup": "",
           "marker": {
            "color": [
             0,
             0,
             0,
             0,
             0,
             0,
             0,
             0,
             1,
             0,
             0,
             0
            ],
            "coloraxis": "coloraxis",
            "pattern": {
             "shape": ""
            }
           },
           "name": "",
           "offsetgroup": "",
           "orientation": "v",
           "showlegend": false,
           "textposition": "auto",
           "type": "bar",
           "x": [
            "Action",
            "Adventure",
            "Fighting",
            "Misc",
            "Platform",
            "Puzzle",
            "Racing",
            "Role-Playing",
            "Shooter",
            "Simulation",
            "Sports",
            "Strategy"
           ],
           "xaxis": "x",
           "y": [
            0.34,
            0,
            0.77,
            2.71,
            0,
            0,
            0,
            0,
            7.069999999999999,
            0,
            0.49,
            0
           ],
           "yaxis": "y"
          }
         ],
         "name": "1980"
        },
        {
         "data": [
          {
           "alignmentgroup": "True",
           "customdata": [
            [
             1981,
             "Platform",
             "Pitfall!",
             "Activision",
             4.5
            ],
            [
             1981,
             "Platform",
             "Pitfall!",
             "Activision",
             4.5
            ],
            [
             1981,
             "Platform",
             "Pitfall!",
             "Activision",
             4.5
            ],
            [
             1981,
             "Platform",
             "Pitfall!",
             "Activision",
             4.5
            ],
            [
             1981,
             "Platform",
             "Pitfall!",
             "Activision",
             4.5
            ],
            [
             1981,
             "Platform",
             "Pitfall!",
             "Activision",
             4.5
            ],
            [
             1981,
             "Platform",
             "Pitfall!",
             "Activision",
             4.5
            ],
            [
             1981,
             "Platform",
             "Pitfall!",
             "Activision",
             4.5
            ],
            [
             1981,
             "Platform",
             "Pitfall!",
             "Activision",
             4.5
            ],
            [
             1981,
             "Platform",
             "Pitfall!",
             "Activision",
             4.5
            ],
            [
             1981,
             "Platform",
             "Pitfall!",
             "Activision",
             4.5
            ],
            [
             1981,
             "Platform",
             "Pitfall!",
             "Activision",
             4.5
            ]
           ],
           "hovertemplate": "<b>%{x}</b><br><br>Total Global Sales in %{customdata[0]}: $%{y}M<br><br>Best Selling Game of The Year:<br> <b>%{customdata[2]}</b> <br> %{customdata[1]} - %{customdata[3]}, $%{customdata[4]}M",
           "legendgroup": "",
           "marker": {
            "color": [
             1,
             0,
             0,
             0,
             0,
             0,
             0,
             0,
             0,
             0,
             0,
             0
            ],
            "coloraxis": "coloraxis",
            "pattern": {
             "shape": ""
            }
           },
           "name": "",
           "offsetgroup": "",
           "orientation": "v",
           "showlegend": false,
           "textposition": "auto",
           "type": "bar",
           "x": [
            "Action",
            "Adventure",
            "Fighting",
            "Misc",
            "Platform",
            "Puzzle",
            "Racing",
            "Role-Playing",
            "Shooter",
            "Simulation",
            "Sports",
            "Strategy"
           ],
           "xaxis": "x",
           "y": [
            14.84,
            0,
            0,
            0,
            6.93,
            2.2399999999999998,
            0.48,
            0,
            10.040000000000001,
            0.45,
            0.79,
            0
           ],
           "yaxis": "y"
          }
         ],
         "name": "1981"
        },
        {
         "data": [
          {
           "alignmentgroup": "True",
           "customdata": [
            [
             1982,
             "Puzzle",
             "Pac-Man",
             "Atari",
             7.81
            ],
            [
             1982,
             "Puzzle",
             "Pac-Man",
             "Atari",
             7.81
            ],
            [
             1982,
             "Puzzle",
             "Pac-Man",
             "Atari",
             7.81
            ],
            [
             1982,
             "Puzzle",
             "Pac-Man",
             "Atari",
             7.81
            ],
            [
             1982,
             "Puzzle",
             "Pac-Man",
             "Atari",
             7.81
            ],
            [
             1982,
             "Puzzle",
             "Pac-Man",
             "Atari",
             7.81
            ],
            [
             1982,
             "Puzzle",
             "Pac-Man",
             "Atari",
             7.81
            ],
            [
             1982,
             "Puzzle",
             "Pac-Man",
             "Atari",
             7.81
            ],
            [
             1982,
             "Puzzle",
             "Pac-Man",
             "Atari",
             7.81
            ],
            [
             1982,
             "Puzzle",
             "Pac-Man",
             "Atari",
             7.81
            ],
            [
             1982,
             "Puzzle",
             "Pac-Man",
             "Atari",
             7.81
            ],
            [
             1982,
             "Puzzle",
             "Pac-Man",
             "Atari",
             7.81
            ]
           ],
           "hovertemplate": "<b>%{x}</b><br><br>Total Global Sales in %{customdata[0]}: $%{y}M<br><br>Best Selling Game of The Year:<br> <b>%{customdata[2]}</b> <br> %{customdata[1]} - %{customdata[3]}, $%{customdata[4]}M",
           "legendgroup": "",
           "marker": {
            "color": [
             0,
             0,
             0,
             0,
             0,
             1,
             0,
             0,
             0,
             0,
             0,
             0
            ],
            "coloraxis": "coloraxis",
            "pattern": {
             "shape": ""
            }
           },
           "name": "",
           "offsetgroup": "",
           "orientation": "v",
           "showlegend": false,
           "textposition": "auto",
           "type": "bar",
           "x": [
            "Action",
            "Adventure",
            "Fighting",
            "Misc",
            "Platform",
            "Puzzle",
            "Racing",
            "Role-Playing",
            "Shooter",
            "Simulation",
            "Sports",
            "Strategy"
           ],
           "xaxis": "x",
           "y": [
            6.5200000000000005,
            0,
            0,
            0.87,
            5.03,
            10.03,
            1.5699999999999998,
            0,
            3.79,
            0,
            1.05,
            0
           ],
           "yaxis": "y"
          }
         ],
         "name": "1982"
        },
        {
         "data": [
          {
           "alignmentgroup": "True",
           "customdata": [
            [
             1983,
             "Sports",
             "Baseball",
             "Nintendo",
             3.2
            ],
            [
             1983,
             "Sports",
             "Baseball",
             "Nintendo",
             3.2
            ],
            [
             1983,
             "Sports",
             "Baseball",
             "Nintendo",
             3.2
            ],
            [
             1983,
             "Sports",
             "Baseball",
             "Nintendo",
             3.2
            ],
            [
             1983,
             "Sports",
             "Baseball",
             "Nintendo",
             3.2
            ],
            [
             1983,
             "Sports",
             "Baseball",
             "Nintendo",
             3.2
            ],
            [
             1983,
             "Sports",
             "Baseball",
             "Nintendo",
             3.2
            ],
            [
             1983,
             "Sports",
             "Baseball",
             "Nintendo",
             3.2
            ],
            [
             1983,
             "Sports",
             "Baseball",
             "Nintendo",
             3.2
            ],
            [
             1983,
             "Sports",
             "Baseball",
             "Nintendo",
             3.2
            ],
            [
             1983,
             "Sports",
             "Baseball",
             "Nintendo",
             3.2
            ],
            [
             1983,
             "Sports",
             "Baseball",
             "Nintendo",
             3.2
            ]
           ],
           "hovertemplate": "<b>%{x}</b><br><br>Total Global Sales in %{customdata[0]}: $%{y}M<br><br>Best Selling Game of The Year:<br> <b>%{customdata[2]}</b> <br> %{customdata[1]} - %{customdata[3]}, $%{customdata[4]}M",
           "legendgroup": "",
           "marker": {
            "color": [
             0,
             0,
             0,
             0,
             1,
             0,
             0,
             0,
             0,
             0,
             0,
             0
            ],
            "coloraxis": "coloraxis",
            "pattern": {
             "shape": ""
            }
           },
           "name": "",
           "offsetgroup": "",
           "orientation": "v",
           "showlegend": false,
           "textposition": "auto",
           "type": "bar",
           "x": [
            "Action",
            "Adventure",
            "Fighting",
            "Misc",
            "Platform",
            "Puzzle",
            "Racing",
            "Role-Playing",
            "Shooter",
            "Simulation",
            "Sports",
            "Strategy"
           ],
           "xaxis": "x",
           "y": [
            2.86,
            0.4,
            0,
            2.14,
            6.93,
            0.78,
            0,
            0,
            0.48,
            0,
            3.2,
            0
           ],
           "yaxis": "y"
          }
         ],
         "name": "1983"
        },
        {
         "data": [
          {
           "alignmentgroup": "True",
           "customdata": [
            [
             1984,
             "Shooter",
             "Duck Hunt",
             "Nintendo",
             28.31
            ],
            [
             1984,
             "Shooter",
             "Duck Hunt",
             "Nintendo",
             28.31
            ],
            [
             1984,
             "Shooter",
             "Duck Hunt",
             "Nintendo",
             28.31
            ],
            [
             1984,
             "Shooter",
             "Duck Hunt",
             "Nintendo",
             28.31
            ],
            [
             1984,
             "Shooter",
             "Duck Hunt",
             "Nintendo",
             28.31
            ],
            [
             1984,
             "Shooter",
             "Duck Hunt",
             "Nintendo",
             28.31
            ],
            [
             1984,
             "Shooter",
             "Duck Hunt",
             "Nintendo",
             28.31
            ],
            [
             1984,
             "Shooter",
             "Duck Hunt",
             "Nintendo",
             28.31
            ],
            [
             1984,
             "Shooter",
             "Duck Hunt",
             "Nintendo",
             28.31
            ],
            [
             1984,
             "Shooter",
             "Duck Hunt",
             "Nintendo",
             28.31
            ],
            [
             1984,
             "Shooter",
             "Duck Hunt",
             "Nintendo",
             28.31
            ],
            [
             1984,
             "Shooter",
             "Duck Hunt",
             "Nintendo",
             28.31
            ]
           ],
           "hovertemplate": "<b>%{x}</b><br><br>Total Global Sales in %{customdata[0]}: $%{y}M<br><br>Best Selling Game of The Year:<br> <b>%{customdata[2]}</b> <br> %{customdata[1]} - %{customdata[3]}, $%{customdata[4]}M",
           "legendgroup": "",
           "marker": {
            "color": [
             0,
             0,
             0,
             0,
             0,
             0,
             0,
             0,
             1,
             0,
             0,
             0
            ],
            "coloraxis": "coloraxis",
            "pattern": {
             "shape": ""
            }
           },
           "name": "",
           "offsetgroup": "",
           "orientation": "v",
           "showlegend": false,
           "textposition": "auto",
           "type": "bar",
           "x": [
            "Action",
            "Adventure",
            "Fighting",
            "Misc",
            "Platform",
            "Puzzle",
            "Racing",
            "Role-Playing",
            "Shooter",
            "Simulation",
            "Sports",
            "Strategy"
           ],
           "xaxis": "x",
           "y": [
            1.85,
            0,
            0,
            1.45,
            0.69,
            3.1399999999999997,
            5.95,
            0,
            31.099999999999998,
            0,
            6.18,
            0
           ],
           "yaxis": "y"
          }
         ],
         "name": "1984"
        },
        {
         "data": [
          {
           "alignmentgroup": "True",
           "customdata": [
            [
             1985,
             "Platform",
             "Super Mario Bros.",
             "Nintendo",
             40.24
            ],
            [
             1985,
             "Platform",
             "Super Mario Bros.",
             "Nintendo",
             40.24
            ],
            [
             1985,
             "Platform",
             "Super Mario Bros.",
             "Nintendo",
             40.24
            ],
            [
             1985,
             "Platform",
             "Super Mario Bros.",
             "Nintendo",
             40.24
            ],
            [
             1985,
             "Platform",
             "Super Mario Bros.",
             "Nintendo",
             40.24
            ],
            [
             1985,
             "Platform",
             "Super Mario Bros.",
             "Nintendo",
             40.24
            ],
            [
             1985,
             "Platform",
             "Super Mario Bros.",
             "Nintendo",
             40.24
            ],
            [
             1985,
             "Platform",
             "Super Mario Bros.",
             "Nintendo",
             40.24
            ],
            [
             1985,
             "Platform",
             "Super Mario Bros.",
             "Nintendo",
             40.24
            ],
            [
             1985,
             "Platform",
             "Super Mario Bros.",
             "Nintendo",
             40.24
            ],
            [
             1985,
             "Platform",
             "Super Mario Bros.",
             "Nintendo",
             40.24
            ],
            [
             1985,
             "Platform",
             "Super Mario Bros.",
             "Nintendo",
             40.24
            ]
           ],
           "hovertemplate": "<b>%{x}</b><br><br>Total Global Sales in %{customdata[0]}: $%{y}M<br><br>Best Selling Game of The Year:<br> <b>%{customdata[2]}</b> <br> %{customdata[1]} - %{customdata[3]}, $%{customdata[4]}M",
           "legendgroup": "",
           "marker": {
            "color": [
             0,
             0,
             0,
             0,
             1,
             0,
             0,
             0,
             0,
             0,
             0,
             0
            ],
            "coloraxis": "coloraxis",
            "pattern": {
             "shape": ""
            }
           },
           "name": "",
           "offsetgroup": "",
           "orientation": "v",
           "showlegend": false,
           "textposition": "auto",
           "type": "bar",
           "x": [
            "Action",
            "Adventure",
            "Fighting",
            "Misc",
            "Platform",
            "Puzzle",
            "Racing",
            "Role-Playing",
            "Shooter",
            "Simulation",
            "Sports",
            "Strategy"
           ],
           "xaxis": "x",
           "y": [
            3.52,
            0,
            1.05,
            0,
            43.17,
            3.21,
            0,
            0,
            1,
            0.03,
            1.96,
            0
           ],
           "yaxis": "y"
          }
         ],
         "name": "1985"
        },
        {
         "data": [
          {
           "alignmentgroup": "True",
           "customdata": [
            [
             1986,
             "Action",
             "The Legend of Zelda",
             "Nintendo",
             6.51
            ],
            [
             1986,
             "Action",
             "The Legend of Zelda",
             "Nintendo",
             6.51
            ],
            [
             1986,
             "Action",
             "The Legend of Zelda",
             "Nintendo",
             6.51
            ],
            [
             1986,
             "Action",
             "The Legend of Zelda",
             "Nintendo",
             6.51
            ],
            [
             1986,
             "Action",
             "The Legend of Zelda",
             "Nintendo",
             6.51
            ],
            [
             1986,
             "Action",
             "The Legend of Zelda",
             "Nintendo",
             6.51
            ],
            [
             1986,
             "Action",
             "The Legend of Zelda",
             "Nintendo",
             6.51
            ],
            [
             1986,
             "Action",
             "The Legend of Zelda",
             "Nintendo",
             6.51
            ],
            [
             1986,
             "Action",
             "The Legend of Zelda",
             "Nintendo",
             6.51
            ],
            [
             1986,
             "Action",
             "The Legend of Zelda",
             "Nintendo",
             6.51
            ],
            [
             1986,
             "Action",
             "The Legend of Zelda",
             "Nintendo",
             6.51
            ],
            [
             1986,
             "Action",
             "The Legend of Zelda",
             "Nintendo",
             6.51
            ]
           ],
           "hovertemplate": "<b>%{x}</b><br><br>Total Global Sales in %{customdata[0]}: $%{y}M<br><br>Best Selling Game of The Year:<br> <b>%{customdata[2]}</b> <br> %{customdata[1]} - %{customdata[3]}, $%{customdata[4]}M",
           "legendgroup": "",
           "marker": {
            "color": [
             1,
             0,
             0,
             0,
             0,
             0,
             0,
             0,
             0,
             0,
             0,
             0
            ],
            "coloraxis": "coloraxis",
            "pattern": {
             "shape": ""
            }
           },
           "name": "",
           "offsetgroup": "",
           "orientation": "v",
           "showlegend": false,
           "textposition": "auto",
           "type": "bar",
           "x": [
            "Action",
            "Adventure",
            "Fighting",
            "Misc",
            "Platform",
            "Puzzle",
            "Racing",
            "Role-Playing",
            "Shooter",
            "Simulation",
            "Sports",
            "Strategy"
           ],
           "xaxis": "x",
           "y": [
            13.739999999999998,
            0,
            0,
            0,
            9.39,
            0,
            1.96,
            2.52,
            3.8899999999999997,
            0,
            5.57,
            0
           ],
           "yaxis": "y"
          }
         ],
         "name": "1986"
        },
        {
         "data": [
          {
           "alignmentgroup": "True",
           "customdata": [
            [
             1987,
             "Adventure",
             "Zelda II: The Adventure of Link",
             "Nintendo",
             4.38
            ],
            [
             1987,
             "Adventure",
             "Zelda II: The Adventure of Link",
             "Nintendo",
             4.38
            ],
            [
             1987,
             "Adventure",
             "Zelda II: The Adventure of Link",
             "Nintendo",
             4.38
            ],
            [
             1987,
             "Adventure",
             "Zelda II: The Adventure of Link",
             "Nintendo",
             4.38
            ],
            [
             1987,
             "Adventure",
             "Zelda II: The Adventure of Link",
             "Nintendo",
             4.38
            ],
            [
             1987,
             "Adventure",
             "Zelda II: The Adventure of Link",
             "Nintendo",
             4.38
            ],
            [
             1987,
             "Adventure",
             "Zelda II: The Adventure of Link",
             "Nintendo",
             4.38
            ],
            [
             1987,
             "Adventure",
             "Zelda II: The Adventure of Link",
             "Nintendo",
             4.38
            ],
            [
             1987,
             "Adventure",
             "Zelda II: The Adventure of Link",
             "Nintendo",
             4.38
            ],
            [
             1987,
             "Adventure",
             "Zelda II: The Adventure of Link",
             "Nintendo",
             4.38
            ],
            [
             1987,
             "Adventure",
             "Zelda II: The Adventure of Link",
             "Nintendo",
             4.38
            ],
            [
             1987,
             "Adventure",
             "Zelda II: The Adventure of Link",
             "Nintendo",
             4.38
            ]
           ],
           "hovertemplate": "<b>%{x}</b><br><br>Total Global Sales in %{customdata[0]}: $%{y}M<br><br>Best Selling Game of The Year:<br> <b>%{customdata[2]}</b> <br> %{customdata[1]} - %{customdata[3]}, $%{customdata[4]}M",
           "legendgroup": "",
           "marker": {
            "color": [
             0,
             0,
             1,
             0,
             0,
             0,
             0,
             0,
             0,
             0,
             0,
             0
            ],
            "coloraxis": "coloraxis",
            "pattern": {
             "shape": ""
            }
           },
           "name": "",
           "offsetgroup": "",
           "orientation": "v",
           "showlegend": false,
           "textposition": "auto",
           "type": "bar",
           "x": [
            "Action",
            "Adventure",
            "Fighting",
            "Misc",
            "Platform",
            "Puzzle",
            "Racing",
            "Role-Playing",
            "Shooter",
            "Simulation",
            "Sports",
            "Strategy"
           ],
           "xaxis": "x",
           "y": [
            1.12,
            4.38,
            5.42,
            0,
            1.7400000000000002,
            0,
            0,
            4.65,
            0.71,
            0,
            3.7199999999999998,
            0
           ],
           "yaxis": "y"
          }
         ],
         "name": "1987"
        },
        {
         "data": [
          {
           "alignmentgroup": "True",
           "customdata": [
            [
             1988,
             "Platform",
             "Super Mario Bros. 3",
             "Nintendo",
             17.28
            ],
            [
             1988,
             "Platform",
             "Super Mario Bros. 3",
             "Nintendo",
             17.28
            ],
            [
             1988,
             "Platform",
             "Super Mario Bros. 3",
             "Nintendo",
             17.28
            ],
            [
             1988,
             "Platform",
             "Super Mario Bros. 3",
             "Nintendo",
             17.28
            ],
            [
             1988,
             "Platform",
             "Super Mario Bros. 3",
             "Nintendo",
             17.28
            ],
            [
             1988,
             "Platform",
             "Super Mario Bros. 3",
             "Nintendo",
             17.28
            ],
            [
             1988,
             "Platform",
             "Super Mario Bros. 3",
             "Nintendo",
             17.28
            ],
            [
             1988,
             "Platform",
             "Super Mario Bros. 3",
             "Nintendo",
             17.28
            ],
            [
             1988,
             "Platform",
             "Super Mario Bros. 3",
             "Nintendo",
             17.28
            ],
            [
             1988,
             "Platform",
             "Super Mario Bros. 3",
             "Nintendo",
             17.28
            ],
            [
             1988,
             "Platform",
             "Super Mario Bros. 3",
             "Nintendo",
             17.28
            ],
            [
             1988,
             "Platform",
             "Super Mario Bros. 3",
             "Nintendo",
             17.28
            ]
           ],
           "hovertemplate": "<b>%{x}</b><br><br>Total Global Sales in %{customdata[0]}: $%{y}M<br><br>Best Selling Game of The Year:<br> <b>%{customdata[2]}</b> <br> %{customdata[1]} - %{customdata[3]}, $%{customdata[4]}M",
           "legendgroup": "",
           "marker": {
            "color": [
             0,
             0,
             0,
             0,
             1,
             0,
             0,
             0,
             0,
             0,
             0,
             0
            ],
            "coloraxis": "coloraxis",
            "pattern": {
             "shape": ""
            }
           },
           "name": "",
           "offsetgroup": "",
           "orientation": "v",
           "showlegend": false,
           "textposition": "auto",
           "type": "bar",
           "x": [
            "Action",
            "Adventure",
            "Fighting",
            "Misc",
            "Platform",
            "Puzzle",
            "Racing",
            "Role-Playing",
            "Shooter",
            "Simulation",
            "Sports",
            "Strategy"
           ],
           "xaxis": "x",
           "y": [
            1.75,
            0,
            0,
            0,
            27.73,
            5.58,
            2.14,
            5.88,
            0.51,
            0.03,
            3.5999999999999996,
            0
           ],
           "yaxis": "y"
          }
         ],
         "name": "1988"
        },
        {
         "data": [
          {
           "alignmentgroup": "True",
           "customdata": [
            [
             1989,
             "Puzzle",
             "Tetris",
             "Nintendo",
             30.26
            ],
            [
             1989,
             "Puzzle",
             "Tetris",
             "Nintendo",
             30.26
            ],
            [
             1989,
             "Puzzle",
             "Tetris",
             "Nintendo",
             30.26
            ],
            [
             1989,
             "Puzzle",
             "Tetris",
             "Nintendo",
             30.26
            ],
            [
             1989,
             "Puzzle",
             "Tetris",
             "Nintendo",
             30.26
            ],
            [
             1989,
             "Puzzle",
             "Tetris",
             "Nintendo",
             30.26
            ],
            [
             1989,
             "Puzzle",
             "Tetris",
             "Nintendo",
             30.26
            ],
            [
             1989,
             "Puzzle",
             "Tetris",
             "Nintendo",
             30.26
            ],
            [
             1989,
             "Puzzle",
             "Tetris",
             "Nintendo",
             30.26
            ],
            [
             1989,
             "Puzzle",
             "Tetris",
             "Nintendo",
             30.26
            ],
            [
             1989,
             "Puzzle",
             "Tetris",
             "Nintendo",
             30.26
            ],
            [
             1989,
             "Puzzle",
             "Tetris",
             "Nintendo",
             30.26
            ]
           ],
           "hovertemplate": "<b>%{x}</b><br><br>Total Global Sales in %{customdata[0]}: $%{y}M<br><br>Best Selling Game of The Year:<br> <b>%{customdata[2]}</b> <br> %{customdata[1]} - %{customdata[3]}, $%{customdata[4]}M",
           "legendgroup": "",
           "marker": {
            "color": [
             0,
             0,
             0,
             0,
             0,
             1,
             0,
             0,
             0,
             0,
             0,
             0
            ],
            "coloraxis": "coloraxis",
            "pattern": {
             "shape": ""
            }
           },
           "name": "",
           "offsetgroup": "",
           "orientation": "v",
           "showlegend": false,
           "textposition": "auto",
           "type": "bar",
           "x": [
            "Action",
            "Adventure",
            "Fighting",
            "Misc",
            "Platform",
            "Puzzle",
            "Racing",
            "Role-Playing",
            "Shooter",
            "Simulation",
            "Sports",
            "Strategy"
           ],
           "xaxis": "x",
           "y": [
            4.64,
            0,
            0,
            1.28,
            20.660000000000004,
            37.75,
            0,
            2.2,
            1.2,
            0,
            5.720000000000001,
            0
           ],
           "yaxis": "y"
          }
         ],
         "name": "1989"
        },
        {
         "data": [
          {
           "alignmentgroup": "True",
           "customdata": [
            [
             1990,
             "Platform",
             "Super Mario World",
             "Nintendo",
             20.61
            ],
            [
             1990,
             "Platform",
             "Super Mario World",
             "Nintendo",
             20.61
            ],
            [
             1990,
             "Platform",
             "Super Mario World",
             "Nintendo",
             20.61
            ],
            [
             1990,
             "Platform",
             "Super Mario World",
             "Nintendo",
             20.61
            ],
            [
             1990,
             "Platform",
             "Super Mario World",
             "Nintendo",
             20.61
            ],
            [
             1990,
             "Platform",
             "Super Mario World",
             "Nintendo",
             20.61
            ],
            [
             1990,
             "Platform",
             "Super Mario World",
             "Nintendo",
             20.61
            ],
            [
             1990,
             "Platform",
             "Super Mario World",
             "Nintendo",
             20.61
            ],
            [
             1990,
             "Platform",
             "Super Mario World",
             "Nintendo",
             20.61
            ],
            [
             1990,
             "Platform",
             "Super Mario World",
             "Nintendo",
             20.61
            ],
            [
             1990,
             "Platform",
             "Super Mario World",
             "Nintendo",
             20.61
            ],
            [
             1990,
             "Platform",
             "Super Mario World",
             "Nintendo",
             20.61
            ]
           ],
           "hovertemplate": "<b>%{x}</b><br><br>Total Global Sales in %{customdata[0]}: $%{y}M<br><br>Best Selling Game of The Year:<br> <b>%{customdata[2]}</b> <br> %{customdata[1]} - %{customdata[3]}, $%{customdata[4]}M",
           "legendgroup": "",
           "marker": {
            "color": [
             0,
             0,
             0,
             0,
             1,
             0,
             0,
             0,
             0,
             0,
             0,
             0
            ],
            "coloraxis": "coloraxis",
            "pattern": {
             "shape": ""
            }
           },
           "name": "",
           "offsetgroup": "",
           "orientation": "v",
           "showlegend": false,
           "textposition": "auto",
           "type": "bar",
           "x": [
            "Action",
            "Adventure",
            "Fighting",
            "Misc",
            "Platform",
            "Puzzle",
            "Racing",
            "Role-Playing",
            "Shooter",
            "Simulation",
            "Sports",
            "Strategy"
           ],
           "xaxis": "x",
           "y": [
            6.390000000000001,
            0,
            0,
            0,
            22.97,
            6,
            6.26,
            4.52,
            0,
            1.14,
            2.11,
            0
           ],
           "yaxis": "y"
          }
         ],
         "name": "1990"
        },
        {
         "data": [
          {
           "alignmentgroup": "True",
           "customdata": [
            [
             1991,
             "Action",
             "The Legend of Zelda: A Link to the Past",
             "Nintendo",
             4.61
            ],
            [
             1991,
             "Action",
             "The Legend of Zelda: A Link to the Past",
             "Nintendo",
             4.61
            ],
            [
             1991,
             "Action",
             "The Legend of Zelda: A Link to the Past",
             "Nintendo",
             4.61
            ],
            [
             1991,
             "Action",
             "The Legend of Zelda: A Link to the Past",
             "Nintendo",
             4.61
            ],
            [
             1991,
             "Action",
             "The Legend of Zelda: A Link to the Past",
             "Nintendo",
             4.61
            ],
            [
             1991,
             "Action",
             "The Legend of Zelda: A Link to the Past",
             "Nintendo",
             4.61
            ],
            [
             1991,
             "Action",
             "The Legend of Zelda: A Link to the Past",
             "Nintendo",
             4.61
            ],
            [
             1991,
             "Action",
             "The Legend of Zelda: A Link to the Past",
             "Nintendo",
             4.61
            ],
            [
             1991,
             "Action",
             "The Legend of Zelda: A Link to the Past",
             "Nintendo",
             4.61
            ],
            [
             1991,
             "Action",
             "The Legend of Zelda: A Link to the Past",
             "Nintendo",
             4.61
            ],
            [
             1991,
             "Action",
             "The Legend of Zelda: A Link to the Past",
             "Nintendo",
             4.61
            ],
            [
             1991,
             "Action",
             "The Legend of Zelda: A Link to the Past",
             "Nintendo",
             4.61
            ]
           ],
           "hovertemplate": "<b>%{x}</b><br><br>Total Global Sales in %{customdata[0]}: $%{y}M<br><br>Best Selling Game of The Year:<br> <b>%{customdata[2]}</b> <br> %{customdata[1]} - %{customdata[3]}, $%{customdata[4]}M",
           "legendgroup": "",
           "marker": {
            "color": [
             0,
             0,
             0,
             0,
             1,
             0,
             0,
             0,
             0,
             0,
             0,
             0
            ],
            "coloraxis": "coloraxis",
            "pattern": {
             "shape": ""
            }
           },
           "name": "",
           "offsetgroup": "",
           "orientation": "v",
           "showlegend": false,
           "textposition": "auto",
           "type": "bar",
           "x": [
            "Action",
            "Adventure",
            "Fighting",
            "Misc",
            "Platform",
            "Puzzle",
            "Racing",
            "Role-Playing",
            "Shooter",
            "Simulation",
            "Sports",
            "Strategy"
           ],
           "xaxis": "x",
           "y": [
            6.76,
            2.24,
            0.39,
            0.08,
            7.64,
            3.24,
            1.14,
            3.25,
            2,
            2.14,
            2.41,
            0.94
           ],
           "yaxis": "y"
          }
         ],
         "name": "1991"
        },
        {
         "data": [
          {
           "alignmentgroup": "True",
           "customdata": [
            [
             1992,
             "Adventure",
             "Super Mario Land 2: 6 Golden Coins",
             "Nintendo",
             11.18
            ],
            [
             1992,
             "Adventure",
             "Super Mario Land 2: 6 Golden Coins",
             "Nintendo",
             11.18
            ],
            [
             1992,
             "Adventure",
             "Super Mario Land 2: 6 Golden Coins",
             "Nintendo",
             11.18
            ],
            [
             1992,
             "Adventure",
             "Super Mario Land 2: 6 Golden Coins",
             "Nintendo",
             11.18
            ],
            [
             1992,
             "Adventure",
             "Super Mario Land 2: 6 Golden Coins",
             "Nintendo",
             11.18
            ],
            [
             1992,
             "Adventure",
             "Super Mario Land 2: 6 Golden Coins",
             "Nintendo",
             11.18
            ],
            [
             1992,
             "Adventure",
             "Super Mario Land 2: 6 Golden Coins",
             "Nintendo",
             11.18
            ],
            [
             1992,
             "Adventure",
             "Super Mario Land 2: 6 Golden Coins",
             "Nintendo",
             11.18
            ],
            [
             1992,
             "Adventure",
             "Super Mario Land 2: 6 Golden Coins",
             "Nintendo",
             11.18
            ],
            [
             1992,
             "Adventure",
             "Super Mario Land 2: 6 Golden Coins",
             "Nintendo",
             11.18
            ],
            [
             1992,
             "Adventure",
             "Super Mario Land 2: 6 Golden Coins",
             "Nintendo",
             11.18
            ],
            [
             1992,
             "Adventure",
             "Super Mario Land 2: 6 Golden Coins",
             "Nintendo",
             11.18
            ]
           ],
           "hovertemplate": "<b>%{x}</b><br><br>Total Global Sales in %{customdata[0]}: $%{y}M<br><br>Best Selling Game of The Year:<br> <b>%{customdata[2]}</b> <br> %{customdata[1]} - %{customdata[3]}, $%{customdata[4]}M",
           "legendgroup": "",
           "marker": {
            "color": [
             0,
             0,
             1,
             0,
             0,
             0,
             0,
             0,
             0,
             0,
             0,
             0
            ],
            "coloraxis": "coloraxis",
            "pattern": {
             "shape": ""
            }
           },
           "name": "",
           "offsetgroup": "",
           "orientation": "v",
           "showlegend": false,
           "textposition": "auto",
           "type": "bar",
           "x": [
            "Action",
            "Adventure",
            "Fighting",
            "Misc",
            "Platform",
            "Puzzle",
            "Racing",
            "Role-Playing",
            "Shooter",
            "Simulation",
            "Sports",
            "Strategy"
           ],
           "xaxis": "x",
           "y": [
            3.83,
            12.239999999999998,
            15.25,
            4.9399999999999995,
            13.42,
            4.84,
            9.04,
            6.86,
            0.29000000000000004,
            2.14,
            2.9499999999999997,
            0.37
           ],
           "yaxis": "y"
          }
         ],
         "name": "1992"
        },
        {
         "data": [
          {
           "alignmentgroup": "True",
           "customdata": [
            [
             1993,
             "Platform",
             "Super Mario All-Stars",
             "Nintendo",
             10.55
            ],
            [
             1993,
             "Platform",
             "Super Mario All-Stars",
             "Nintendo",
             10.55
            ],
            [
             1993,
             "Platform",
             "Super Mario All-Stars",
             "Nintendo",
             10.55
            ],
            [
             1993,
             "Platform",
             "Super Mario All-Stars",
             "Nintendo",
             10.55
            ],
            [
             1993,
             "Platform",
             "Super Mario All-Stars",
             "Nintendo",
             10.55
            ],
            [
             1993,
             "Platform",
             "Super Mario All-Stars",
             "Nintendo",
             10.55
            ],
            [
             1993,
             "Platform",
             "Super Mario All-Stars",
             "Nintendo",
             10.55
            ],
            [
             1993,
             "Platform",
             "Super Mario All-Stars",
             "Nintendo",
             10.55
            ],
            [
             1993,
             "Platform",
             "Super Mario All-Stars",
             "Nintendo",
             10.55
            ],
            [
             1993,
             "Platform",
             "Super Mario All-Stars",
             "Nintendo",
             10.55
            ],
            [
             1993,
             "Platform",
             "Super Mario All-Stars",
             "Nintendo",
             10.55
            ],
            [
             1993,
             "Platform",
             "Super Mario All-Stars",
             "Nintendo",
             10.55
            ]
           ],
           "hovertemplate": "<b>%{x}</b><br><br>Total Global Sales in %{customdata[0]}: $%{y}M<br><br>Best Selling Game of The Year:<br> <b>%{customdata[2]}</b> <br> %{customdata[1]} - %{customdata[3]}, $%{customdata[4]}M",
           "legendgroup": "",
           "marker": {
            "color": [
             0,
             0,
             0,
             0,
             1,
             0,
             0,
             0,
             0,
             0,
             0,
             0
            ],
            "coloraxis": "coloraxis",
            "pattern": {
             "shape": ""
            }
           },
           "name": "",
           "offsetgroup": "",
           "orientation": "v",
           "showlegend": false,
           "textposition": "auto",
           "type": "bar",
           "x": [
            "Action",
            "Adventure",
            "Fighting",
            "Misc",
            "Platform",
            "Puzzle",
            "Racing",
            "Role-Playing",
            "Shooter",
            "Simulation",
            "Sports",
            "Strategy"
           ],
           "xaxis": "x",
           "y": [
            1.81,
            0.07,
            8.75,
            0.3,
            18.669999999999998,
            3.17,
            0.36,
            5.59,
            3.08,
            0.19,
            3.18,
            0.81
           ],
           "yaxis": "y"
          }
         ],
         "name": "1993"
        },
        {
         "data": [
          {
           "alignmentgroup": "True",
           "customdata": [
            [
             1994,
             "Platform",
             "Donkey Kong Country",
             "Nintendo",
             9.3
            ],
            [
             1994,
             "Platform",
             "Donkey Kong Country",
             "Nintendo",
             9.3
            ],
            [
             1994,
             "Platform",
             "Donkey Kong Country",
             "Nintendo",
             9.3
            ],
            [
             1994,
             "Platform",
             "Donkey Kong Country",
             "Nintendo",
             9.3
            ],
            [
             1994,
             "Platform",
             "Donkey Kong Country",
             "Nintendo",
             9.3
            ],
            [
             1994,
             "Platform",
             "Donkey Kong Country",
             "Nintendo",
             9.3
            ],
            [
             1994,
             "Platform",
             "Donkey Kong Country",
             "Nintendo",
             9.3
            ],
            [
             1994,
             "Platform",
             "Donkey Kong Country",
             "Nintendo",
             9.3
            ],
            [
             1994,
             "Platform",
             "Donkey Kong Country",
             "Nintendo",
             9.3
            ],
            [
             1994,
             "Platform",
             "Donkey Kong Country",
             "Nintendo",
             9.3
            ],
            [
             1994,
             "Platform",
             "Donkey Kong Country",
             "Nintendo",
             9.3
            ],
            [
             1994,
             "Platform",
             "Donkey Kong Country",
             "Nintendo",
             9.3
            ]
           ],
           "hovertemplate": "<b>%{x}</b><br><br>Total Global Sales in %{customdata[0]}: $%{y}M<br><br>Best Selling Game of The Year:<br> <b>%{customdata[2]}</b> <br> %{customdata[1]} - %{customdata[3]}, $%{customdata[4]}M",
           "legendgroup": "",
           "marker": {
            "color": [
             0,
             0,
             0,
             0,
             1,
             0,
             0,
             0,
             0,
             0,
             0,
             0
            ],
            "coloraxis": "coloraxis",
            "pattern": {
             "shape": ""
            }
           },
           "name": "",
           "offsetgroup": "",
           "orientation": "v",
           "showlegend": false,
           "textposition": "auto",
           "type": "bar",
           "x": [
            "Action",
            "Adventure",
            "Fighting",
            "Misc",
            "Platform",
            "Puzzle",
            "Racing",
            "Role-Playing",
            "Shooter",
            "Simulation",
            "Sports",
            "Strategy"
           ],
           "xaxis": "x",
           "y": [
            1.5499999999999998,
            3.74,
            8.48,
            2.8600000000000003,
            28.740000000000002,
            1.53,
            2.19,
            7.109999999999999,
            8.299999999999999,
            2.73,
            8.39,
            3.56
           ],
           "yaxis": "y"
          }
         ],
         "name": "1994"
        },
        {
         "data": [
          {
           "alignmentgroup": "True",
           "customdata": [
            [
             1995,
             "Platform",
             "Donkey Kong Country 2: Diddy's Kong Quest",
             "Nintendo",
             5.15
            ],
            [
             1995,
             "Platform",
             "Donkey Kong Country 2: Diddy's Kong Quest",
             "Nintendo",
             5.15
            ],
            [
             1995,
             "Platform",
             "Donkey Kong Country 2: Diddy's Kong Quest",
             "Nintendo",
             5.15
            ],
            [
             1995,
             "Platform",
             "Donkey Kong Country 2: Diddy's Kong Quest",
             "Nintendo",
             5.15
            ],
            [
             1995,
             "Platform",
             "Donkey Kong Country 2: Diddy's Kong Quest",
             "Nintendo",
             5.15
            ],
            [
             1995,
             "Platform",
             "Donkey Kong Country 2: Diddy's Kong Quest",
             "Nintendo",
             5.15
            ],
            [
             1995,
             "Platform",
             "Donkey Kong Country 2: Diddy's Kong Quest",
             "Nintendo",
             5.15
            ],
            [
             1995,
             "Platform",
             "Donkey Kong Country 2: Diddy's Kong Quest",
             "Nintendo",
             5.15
            ],
            [
             1995,
             "Platform",
             "Donkey Kong Country 2: Diddy's Kong Quest",
             "Nintendo",
             5.15
            ],
            [
             1995,
             "Platform",
             "Donkey Kong Country 2: Diddy's Kong Quest",
             "Nintendo",
             5.15
            ],
            [
             1995,
             "Platform",
             "Donkey Kong Country 2: Diddy's Kong Quest",
             "Nintendo",
             5.15
            ],
            [
             1995,
             "Platform",
             "Donkey Kong Country 2: Diddy's Kong Quest",
             "Nintendo",
             5.15
            ]
           ],
           "hovertemplate": "<b>%{x}</b><br><br>Total Global Sales in %{customdata[0]}: $%{y}M<br><br>Best Selling Game of The Year:<br> <b>%{customdata[2]}</b> <br> %{customdata[1]} - %{customdata[3]}, $%{customdata[4]}M",
           "legendgroup": "",
           "marker": {
            "color": [
             0,
             0,
             0,
             0,
             1,
             0,
             0,
             0,
             0,
             0,
             0,
             0
            ],
            "coloraxis": "coloraxis",
            "pattern": {
             "shape": ""
            }
           },
           "name": "",
           "offsetgroup": "",
           "orientation": "v",
           "showlegend": false,
           "textposition": "auto",
           "type": "bar",
           "x": [
            "Action",
            "Adventure",
            "Fighting",
            "Misc",
            "Platform",
            "Puzzle",
            "Racing",
            "Role-Playing",
            "Shooter",
            "Simulation",
            "Sports",
            "Strategy"
           ],
           "xaxis": "x",
           "y": [
            3.57,
            0.72,
            14.850000000000001,
            6.4,
            16.69,
            2.71,
            6.09,
            14.26,
            4.15,
            4.18,
            7.98,
            6.51
           ],
           "yaxis": "y"
          }
         ],
         "name": "1995"
        },
        {
         "data": [
          {
           "alignmentgroup": "True",
           "customdata": [
            [
             1996,
             "Role-Playing",
             "Pokemon Red/Pokemon Blue",
             "Nintendo",
             31.37
            ],
            [
             1996,
             "Role-Playing",
             "Pokemon Red/Pokemon Blue",
             "Nintendo",
             31.37
            ],
            [
             1996,
             "Role-Playing",
             "Pokemon Red/Pokemon Blue",
             "Nintendo",
             31.37
            ],
            [
             1996,
             "Role-Playing",
             "Pokemon Red/Pokemon Blue",
             "Nintendo",
             31.37
            ],
            [
             1996,
             "Role-Playing",
             "Pokemon Red/Pokemon Blue",
             "Nintendo",
             31.37
            ],
            [
             1996,
             "Role-Playing",
             "Pokemon Red/Pokemon Blue",
             "Nintendo",
             31.37
            ],
            [
             1996,
             "Role-Playing",
             "Pokemon Red/Pokemon Blue",
             "Nintendo",
             31.37
            ],
            [
             1996,
             "Role-Playing",
             "Pokemon Red/Pokemon Blue",
             "Nintendo",
             31.37
            ],
            [
             1996,
             "Role-Playing",
             "Pokemon Red/Pokemon Blue",
             "Nintendo",
             31.37
            ],
            [
             1996,
             "Role-Playing",
             "Pokemon Red/Pokemon Blue",
             "Nintendo",
             31.37
            ],
            [
             1996,
             "Role-Playing",
             "Pokemon Red/Pokemon Blue",
             "Nintendo",
             31.37
            ],
            [
             1996,
             "Role-Playing",
             "Pokemon Red/Pokemon Blue",
             "Nintendo",
             31.37
            ]
           ],
           "hovertemplate": "<b>%{x}</b><br><br>Total Global Sales in %{customdata[0]}: $%{y}M<br><br>Best Selling Game of The Year:<br> <b>%{customdata[2]}</b> <br> %{customdata[1]} - %{customdata[3]}, $%{customdata[4]}M",
           "legendgroup": "",
           "marker": {
            "color": [
             0,
             0,
             0,
             0,
             0,
             0,
             0,
             1,
             0,
             0,
             0,
             0
            ],
            "coloraxis": "coloraxis",
            "pattern": {
             "shape": ""
            }
           },
           "name": "",
           "offsetgroup": "",
           "orientation": "v",
           "showlegend": false,
           "textposition": "auto",
           "type": "bar",
           "x": [
            "Action",
            "Adventure",
            "Fighting",
            "Misc",
            "Platform",
            "Puzzle",
            "Racing",
            "Role-Playing",
            "Shooter",
            "Simulation",
            "Sports",
            "Strategy"
           ],
           "xaxis": "x",
           "y": [
            20.58,
            4.1899999999999995,
            18.060000000000002,
            10.68,
            28.23,
            3.9099999999999997,
            28.24,
            43.96,
            6.91,
            11.33,
            17.45,
            5.61
           ],
           "yaxis": "y"
          }
         ],
         "name": "1996"
        },
        {
         "data": [
          {
           "alignmentgroup": "True",
           "customdata": [
            [
             1997,
             "Racing",
             "Gran Turismo",
             "Sony Computer Entertainment",
             10.95
            ],
            [
             1997,
             "Racing",
             "Gran Turismo",
             "Sony Computer Entertainment",
             10.95
            ],
            [
             1997,
             "Racing",
             "Gran Turismo",
             "Sony Computer Entertainment",
             10.95
            ],
            [
             1997,
             "Racing",
             "Gran Turismo",
             "Sony Computer Entertainment",
             10.95
            ],
            [
             1997,
             "Racing",
             "Gran Turismo",
             "Sony Computer Entertainment",
             10.95
            ],
            [
             1997,
             "Racing",
             "Gran Turismo",
             "Sony Computer Entertainment",
             10.95
            ],
            [
             1997,
             "Racing",
             "Gran Turismo",
             "Sony Computer Entertainment",
             10.95
            ],
            [
             1997,
             "Racing",
             "Gran Turismo",
             "Sony Computer Entertainment",
             10.95
            ],
            [
             1997,
             "Racing",
             "Gran Turismo",
             "Sony Computer Entertainment",
             10.95
            ],
            [
             1997,
             "Racing",
             "Gran Turismo",
             "Sony Computer Entertainment",
             10.95
            ],
            [
             1997,
             "Racing",
             "Gran Turismo",
             "Sony Computer Entertainment",
             10.95
            ],
            [
             1997,
             "Racing",
             "Gran Turismo",
             "Sony Computer Entertainment",
             10.95
            ]
           ],
           "hovertemplate": "<b>%{x}</b><br><br>Total Global Sales in %{customdata[0]}: $%{y}M<br><br>Best Selling Game of The Year:<br> <b>%{customdata[2]}</b> <br> %{customdata[1]} - %{customdata[3]}, $%{customdata[4]}M",
           "legendgroup": "",
           "marker": {
            "color": [
             0,
             0,
             0,
             0,
             0,
             0,
             1,
             0,
             0,
             0,
             0,
             0
            ],
            "coloraxis": "coloraxis",
            "pattern": {
             "shape": ""
            }
           },
           "name": "",
           "offsetgroup": "",
           "orientation": "v",
           "showlegend": false,
           "textposition": "auto",
           "type": "bar",
           "x": [
            "Action",
            "Adventure",
            "Fighting",
            "Misc",
            "Platform",
            "Puzzle",
            "Racing",
            "Role-Playing",
            "Shooter",
            "Simulation",
            "Sports",
            "Strategy"
           ],
           "xaxis": "x",
           "y": [
            27.580000000000002,
            4.96,
            11.76,
            5.6899999999999995,
            21.85,
            5.89,
            31.91,
            21.79,
            22.169999999999998,
            9.65,
            30.02,
            7.71
           ],
           "yaxis": "y"
          }
         ],
         "name": "1997"
        },
        {
         "data": [
          {
           "alignmentgroup": "True",
           "customdata": [
            [
             1998,
             "Role-Playing",
             "Pokémon Yellow: Special Pikachu Edition",
             "Nintendo",
             14.64
            ],
            [
             1998,
             "Role-Playing",
             "Pokémon Yellow: Special Pikachu Edition",
             "Nintendo",
             14.64
            ],
            [
             1998,
             "Role-Playing",
             "Pokémon Yellow: Special Pikachu Edition",
             "Nintendo",
             14.64
            ],
            [
             1998,
             "Role-Playing",
             "Pokémon Yellow: Special Pikachu Edition",
             "Nintendo",
             14.64
            ],
            [
             1998,
             "Role-Playing",
             "Pokémon Yellow: Special Pikachu Edition",
             "Nintendo",
             14.64
            ],
            [
             1998,
             "Role-Playing",
             "Pokémon Yellow: Special Pikachu Edition",
             "Nintendo",
             14.64
            ],
            [
             1998,
             "Role-Playing",
             "Pokémon Yellow: Special Pikachu Edition",
             "Nintendo",
             14.64
            ],
            [
             1998,
             "Role-Playing",
             "Pokémon Yellow: Special Pikachu Edition",
             "Nintendo",
             14.64
            ],
            [
             1998,
             "Role-Playing",
             "Pokémon Yellow: Special Pikachu Edition",
             "Nintendo",
             14.64
            ],
            [
             1998,
             "Role-Playing",
             "Pokémon Yellow: Special Pikachu Edition",
             "Nintendo",
             14.64
            ],
            [
             1998,
             "Role-Playing",
             "Pokémon Yellow: Special Pikachu Edition",
             "Nintendo",
             14.64
            ],
            [
             1998,
             "Role-Playing",
             "Pokémon Yellow: Special Pikachu Edition",
             "Nintendo",
             14.64
            ]
           ],
           "hovertemplate": "<b>%{x}</b><br><br>Total Global Sales in %{customdata[0]}: $%{y}M<br><br>Best Selling Game of The Year:<br> <b>%{customdata[2]}</b> <br> %{customdata[1]} - %{customdata[3]}, $%{customdata[4]}M",
           "legendgroup": "",
           "marker": {
            "color": [
             0,
             0,
             0,
             0,
             0,
             0,
             0,
             0,
             0,
             0,
             1,
             0
            ],
            "coloraxis": "coloraxis",
            "pattern": {
             "shape": ""
            }
           },
           "name": "",
           "offsetgroup": "",
           "orientation": "v",
           "showlegend": false,
           "textposition": "auto",
           "type": "bar",
           "x": [
            "Action",
            "Adventure",
            "Fighting",
            "Misc",
            "Platform",
            "Puzzle",
            "Racing",
            "Role-Playing",
            "Shooter",
            "Simulation",
            "Sports",
            "Strategy"
           ],
           "xaxis": "x",
           "y": [
            39.44,
            9.05,
            31.66,
            11.940000000000001,
            29.88,
            6.34,
            27.900000000000002,
            28.080000000000002,
            9.799999999999999,
            7.11,
            41.79,
            13.46
           ],
           "yaxis": "y"
          }
         ],
         "name": "1998"
        },
        {
         "data": [
          {
           "alignmentgroup": "True",
           "customdata": [
            [
             1999,
             "Role-Playing",
             "Pokemon Gold/Pokemon Silver",
             "Nintendo",
             23.1
            ],
            [
             1999,
             "Role-Playing",
             "Pokemon Gold/Pokemon Silver",
             "Nintendo",
             23.1
            ],
            [
             1999,
             "Role-Playing",
             "Pokemon Gold/Pokemon Silver",
             "Nintendo",
             23.1
            ],
            [
             1999,
             "Role-Playing",
             "Pokemon Gold/Pokemon Silver",
             "Nintendo",
             23.1
            ],
            [
             1999,
             "Role-Playing",
             "Pokemon Gold/Pokemon Silver",
             "Nintendo",
             23.1
            ],
            [
             1999,
             "Role-Playing",
             "Pokemon Gold/Pokemon Silver",
             "Nintendo",
             23.1
            ],
            [
             1999,
             "Role-Playing",
             "Pokemon Gold/Pokemon Silver",
             "Nintendo",
             23.1
            ],
            [
             1999,
             "Role-Playing",
             "Pokemon Gold/Pokemon Silver",
             "Nintendo",
             23.1
            ],
            [
             1999,
             "Role-Playing",
             "Pokemon Gold/Pokemon Silver",
             "Nintendo",
             23.1
            ],
            [
             1999,
             "Role-Playing",
             "Pokemon Gold/Pokemon Silver",
             "Nintendo",
             23.1
            ],
            [
             1999,
             "Role-Playing",
             "Pokemon Gold/Pokemon Silver",
             "Nintendo",
             23.1
            ],
            [
             1999,
             "Role-Playing",
             "Pokemon Gold/Pokemon Silver",
             "Nintendo",
             23.1
            ]
           ],
           "hovertemplate": "<b>%{x}</b><br><br>Total Global Sales in %{customdata[0]}: $%{y}M<br><br>Best Selling Game of The Year:<br> <b>%{customdata[2]}</b> <br> %{customdata[1]} - %{customdata[3]}, $%{customdata[4]}M",
           "legendgroup": "",
           "marker": {
            "color": [
             0,
             0,
             0,
             0,
             0,
             0,
             0,
             1,
             0,
             0,
             0,
             0
            ],
            "coloraxis": "coloraxis",
            "pattern": {
             "shape": ""
            }
           },
           "name": "",
           "offsetgroup": "",
           "orientation": "v",
           "showlegend": false,
           "textposition": "auto",
           "type": "bar",
           "x": [
            "Action",
            "Adventure",
            "Fighting",
            "Misc",
            "Platform",
            "Puzzle",
            "Racing",
            "Role-Playing",
            "Shooter",
            "Simulation",
            "Sports",
            "Strategy"
           ],
           "xaxis": "x",
           "y": [
            27.77,
            7.6,
            14.26,
            20.65,
            20.82,
            1.3599999999999999,
            37.27,
            49.09,
            12.25,
            11.44,
            30.29,
            18.45
           ],
           "yaxis": "y"
          }
         ],
         "name": "1999"
        },
        {
         "data": [
          {
           "alignmentgroup": "True",
           "customdata": [
            [
             2000,
             "Role-Playing",
             "Pokémon Crystal Version",
             "Nintendo",
             6.39
            ],
            [
             2000,
             "Role-Playing",
             "Pokémon Crystal Version",
             "Nintendo",
             6.39
            ],
            [
             2000,
             "Role-Playing",
             "Pokémon Crystal Version",
             "Nintendo",
             6.39
            ],
            [
             2000,
             "Role-Playing",
             "Pokémon Crystal Version",
             "Nintendo",
             6.39
            ],
            [
             2000,
             "Role-Playing",
             "Pokémon Crystal Version",
             "Nintendo",
             6.39
            ],
            [
             2000,
             "Role-Playing",
             "Pokémon Crystal Version",
             "Nintendo",
             6.39
            ],
            [
             2000,
             "Role-Playing",
             "Pokémon Crystal Version",
             "Nintendo",
             6.39
            ],
            [
             2000,
             "Role-Playing",
             "Pokémon Crystal Version",
             "Nintendo",
             6.39
            ],
            [
             2000,
             "Role-Playing",
             "Pokémon Crystal Version",
             "Nintendo",
             6.39
            ],
            [
             2000,
             "Role-Playing",
             "Pokémon Crystal Version",
             "Nintendo",
             6.39
            ],
            [
             2000,
             "Role-Playing",
             "Pokémon Crystal Version",
             "Nintendo",
             6.39
            ],
            [
             2000,
             "Role-Playing",
             "Pokémon Crystal Version",
             "Nintendo",
             6.39
            ]
           ],
           "hovertemplate": "<b>%{x}</b><br><br>Total Global Sales in %{customdata[0]}: $%{y}M<br><br>Best Selling Game of The Year:<br> <b>%{customdata[2]}</b> <br> %{customdata[1]} - %{customdata[3]}, $%{customdata[4]}M",
           "legendgroup": "",
           "marker": {
            "color": [
             0,
             0,
             0,
             0,
             0,
             0,
             0,
             0,
             0,
             0,
             1,
             0
            ],
            "coloraxis": "coloraxis",
            "pattern": {
             "shape": ""
            }
           },
           "name": "",
           "offsetgroup": "",
           "orientation": "v",
           "showlegend": false,
           "textposition": "auto",
           "type": "bar",
           "x": [
            "Action",
            "Adventure",
            "Fighting",
            "Misc",
            "Platform",
            "Puzzle",
            "Racing",
            "Role-Playing",
            "Shooter",
            "Simulation",
            "Sports",
            "Strategy"
           ],
           "xaxis": "x",
           "y": [
            34.04,
            2.98,
            20.22,
            15.540000000000001,
            16.06,
            3.8200000000000003,
            19.99,
            29.03,
            6.81,
            3.38,
            41.19,
            8.52
           ],
           "yaxis": "y"
          }
         ],
         "name": "2000"
        },
        {
         "data": [
          {
           "alignmentgroup": "True",
           "customdata": [
            [
             2001,
             "Racing",
             "Gran Turismo 3: A-Spec",
             "Sony Computer Entertainment",
             14.98
            ],
            [
             2001,
             "Racing",
             "Gran Turismo 3: A-Spec",
             "Sony Computer Entertainment",
             14.98
            ],
            [
             2001,
             "Racing",
             "Gran Turismo 3: A-Spec",
             "Sony Computer Entertainment",
             14.98
            ],
            [
             2001,
             "Racing",
             "Gran Turismo 3: A-Spec",
             "Sony Computer Entertainment",
             14.98
            ],
            [
             2001,
             "Racing",
             "Gran Turismo 3: A-Spec",
             "Sony Computer Entertainment",
             14.98
            ],
            [
             2001,
             "Racing",
             "Gran Turismo 3: A-Spec",
             "Sony Computer Entertainment",
             14.98
            ],
            [
             2001,
             "Racing",
             "Gran Turismo 3: A-Spec",
             "Sony Computer Entertainment",
             14.98
            ],
            [
             2001,
             "Racing",
             "Gran Turismo 3: A-Spec",
             "Sony Computer Entertainment",
             14.98
            ],
            [
             2001,
             "Racing",
             "Gran Turismo 3: A-Spec",
             "Sony Computer Entertainment",
             14.98
            ],
            [
             2001,
             "Racing",
             "Gran Turismo 3: A-Spec",
             "Sony Computer Entertainment",
             14.98
            ],
            [
             2001,
             "Racing",
             "Gran Turismo 3: A-Spec",
             "Sony Computer Entertainment",
             14.98
            ],
            [
             2001,
             "Racing",
             "Gran Turismo 3: A-Spec",
             "Sony Computer Entertainment",
             14.98
            ]
           ],
           "hovertemplate": "<b>%{x}</b><br><br>Total Global Sales in %{customdata[0]}: $%{y}M<br><br>Best Selling Game of The Year:<br> <b>%{customdata[2]}</b> <br> %{customdata[1]} - %{customdata[3]}, $%{customdata[4]}M",
           "legendgroup": "",
           "marker": {
            "color": [
             1,
             0,
             0,
             0,
             0,
             0,
             0,
             0,
             0,
             0,
             0,
             0
            ],
            "coloraxis": "coloraxis",
            "pattern": {
             "shape": ""
            }
           },
           "name": "",
           "offsetgroup": "",
           "orientation": "v",
           "showlegend": false,
           "textposition": "auto",
           "type": "bar",
           "x": [
            "Action",
            "Adventure",
            "Fighting",
            "Misc",
            "Platform",
            "Puzzle",
            "Racing",
            "Role-Playing",
            "Shooter",
            "Simulation",
            "Sports",
            "Strategy"
           ],
           "xaxis": "x",
           "y": [
            59.39,
            9.12,
            18.12,
            16.400000000000002,
            39.28,
            8,
            55.81,
            22.060000000000002,
            24.77,
            19.54,
            51.43,
            7.55
           ],
           "yaxis": "y"
          }
         ],
         "name": "2001"
        },
        {
         "data": [
          {
           "alignmentgroup": "True",
           "customdata": [
            [
             2002,
             "Action",
             "Grand Theft Auto: Vice City",
             "Take-Two Interactive",
             16.15
            ],
            [
             2002,
             "Action",
             "Grand Theft Auto: Vice City",
             "Take-Two Interactive",
             16.15
            ],
            [
             2002,
             "Action",
             "Grand Theft Auto: Vice City",
             "Take-Two Interactive",
             16.15
            ],
            [
             2002,
             "Action",
             "Grand Theft Auto: Vice City",
             "Take-Two Interactive",
             16.15
            ],
            [
             2002,
             "Action",
             "Grand Theft Auto: Vice City",
             "Take-Two Interactive",
             16.15
            ],
            [
             2002,
             "Action",
             "Grand Theft Auto: Vice City",
             "Take-Two Interactive",
             16.15
            ],
            [
             2002,
             "Action",
             "Grand Theft Auto: Vice City",
             "Take-Two Interactive",
             16.15
            ],
            [
             2002,
             "Action",
             "Grand Theft Auto: Vice City",
             "Take-Two Interactive",
             16.15
            ],
            [
             2002,
             "Action",
             "Grand Theft Auto: Vice City",
             "Take-Two Interactive",
             16.15
            ],
            [
             2002,
             "Action",
             "Grand Theft Auto: Vice City",
             "Take-Two Interactive",
             16.15
            ],
            [
             2002,
             "Action",
             "Grand Theft Auto: Vice City",
             "Take-Two Interactive",
             16.15
            ],
            [
             2002,
             "Action",
             "Grand Theft Auto: Vice City",
             "Take-Two Interactive",
             16.15
            ]
           ],
           "hovertemplate": "<b>%{x}</b><br><br>Total Global Sales in %{customdata[0]}: $%{y}M<br><br>Best Selling Game of The Year:<br> <b>%{customdata[2]}</b> <br> %{customdata[1]} - %{customdata[3]}, $%{customdata[4]}M",
           "legendgroup": "",
           "marker": {
            "color": [
             1,
             0,
             0,
             0,
             0,
             0,
             0,
             0,
             0,
             0,
             0,
             0
            ],
            "coloraxis": "coloraxis",
            "pattern": {
             "shape": ""
            }
           },
           "name": "",
           "offsetgroup": "",
           "orientation": "v",
           "showlegend": false,
           "textposition": "auto",
           "type": "bar",
           "x": [
            "Action",
            "Adventure",
            "Fighting",
            "Misc",
            "Platform",
            "Puzzle",
            "Racing",
            "Role-Playing",
            "Shooter",
            "Simulation",
            "Sports",
            "Strategy"
           ],
           "xaxis": "x",
           "y": [
            86.75999999999999,
            11.05,
            25.02,
            15.67,
            45.97,
            5.34,
            30.2,
            45.13,
            48.58,
            10.809999999999999,
            65.42,
            5.5600000000000005
           ],
           "yaxis": "y"
          }
         ],
         "name": "2002"
        },
        {
         "data": [
          {
           "alignmentgroup": "True",
           "customdata": [
            [
             2003,
             "Racing",
             "Need for Speed Underground",
             "Electronic Arts",
             10.46
            ],
            [
             2003,
             "Racing",
             "Need for Speed Underground",
             "Electronic Arts",
             10.46
            ],
            [
             2003,
             "Racing",
             "Need for Speed Underground",
             "Electronic Arts",
             10.46
            ],
            [
             2003,
             "Racing",
             "Need for Speed Underground",
             "Electronic Arts",
             10.46
            ],
            [
             2003,
             "Racing",
             "Need for Speed Underground",
             "Electronic Arts",
             10.46
            ],
            [
             2003,
             "Racing",
             "Need for Speed Underground",
             "Electronic Arts",
             10.46
            ],
            [
             2003,
             "Racing",
             "Need for Speed Underground",
             "Electronic Arts",
             10.46
            ],
            [
             2003,
             "Racing",
             "Need for Speed Underground",
             "Electronic Arts",
             10.46
            ],
            [
             2003,
             "Racing",
             "Need for Speed Underground",
             "Electronic Arts",
             10.46
            ],
            [
             2003,
             "Racing",
             "Need for Speed Underground",
             "Electronic Arts",
             10.46
            ],
            [
             2003,
             "Racing",
             "Need for Speed Underground",
             "Electronic Arts",
             10.46
            ],
            [
             2003,
             "Racing",
             "Need for Speed Underground",
             "Electronic Arts",
             10.46
            ]
           ],
           "hovertemplate": "<b>%{x}</b><br><br>Total Global Sales in %{customdata[0]}: $%{y}M<br><br>Best Selling Game of The Year:<br> <b>%{customdata[2]}</b> <br> %{customdata[1]} - %{customdata[3]}, $%{customdata[4]}M",
           "legendgroup": "",
           "marker": {
            "color": [
             1,
             0,
             0,
             0,
             0,
             0,
             0,
             0,
             0,
             0,
             0,
             0
            ],
            "coloraxis": "coloraxis",
            "pattern": {
             "shape": ""
            }
           },
           "name": "",
           "offsetgroup": "",
           "orientation": "v",
           "showlegend": false,
           "textposition": "auto",
           "type": "bar",
           "x": [
            "Action",
            "Adventure",
            "Fighting",
            "Misc",
            "Platform",
            "Puzzle",
            "Racing",
            "Role-Playing",
            "Shooter",
            "Simulation",
            "Sports",
            "Strategy"
           ],
           "xaxis": "x",
           "y": [
            67.92999999999999,
            2.14,
            23.73,
            23.82,
            42.89,
            2.42,
            52.190000000000005,
            30.26,
            27.13,
            21.19,
            56.11,
            7.99
           ],
           "yaxis": "y"
          }
         ],
         "name": "2003"
        },
        {
         "data": [
          {
           "alignmentgroup": "True",
           "customdata": [
            [
             2004,
             "Action",
             "Grand Theft Auto: San Andreas",
             "Take-Two Interactive",
             20.81
            ],
            [
             2004,
             "Action",
             "Grand Theft Auto: San Andreas",
             "Take-Two Interactive",
             20.81
            ],
            [
             2004,
             "Action",
             "Grand Theft Auto: San Andreas",
             "Take-Two Interactive",
             20.81
            ],
            [
             2004,
             "Action",
             "Grand Theft Auto: San Andreas",
             "Take-Two Interactive",
             20.81
            ],
            [
             2004,
             "Action",
             "Grand Theft Auto: San Andreas",
             "Take-Two Interactive",
             20.81
            ],
            [
             2004,
             "Action",
             "Grand Theft Auto: San Andreas",
             "Take-Two Interactive",
             20.81
            ],
            [
             2004,
             "Action",
             "Grand Theft Auto: San Andreas",
             "Take-Two Interactive",
             20.81
            ],
            [
             2004,
             "Action",
             "Grand Theft Auto: San Andreas",
             "Take-Two Interactive",
             20.81
            ],
            [
             2004,
             "Action",
             "Grand Theft Auto: San Andreas",
             "Take-Two Interactive",
             20.81
            ],
            [
             2004,
             "Action",
             "Grand Theft Auto: San Andreas",
             "Take-Two Interactive",
             20.81
            ],
            [
             2004,
             "Action",
             "Grand Theft Auto: San Andreas",
             "Take-Two Interactive",
             20.81
            ],
            [
             2004,
             "Action",
             "Grand Theft Auto: San Andreas",
             "Take-Two Interactive",
             20.81
            ]
           ],
           "hovertemplate": "<b>%{x}</b><br><br>Total Global Sales in %{customdata[0]}: $%{y}M<br><br>Best Selling Game of The Year:<br> <b>%{customdata[2]}</b> <br> %{customdata[1]} - %{customdata[3]}, $%{customdata[4]}M",
           "legendgroup": "",
           "marker": {
            "color": [
             1,
             0,
             0,
             0,
             0,
             0,
             0,
             0,
             0,
             0,
             0,
             0
            ],
            "coloraxis": "coloraxis",
            "pattern": {
             "shape": ""
            }
           },
           "name": "",
           "offsetgroup": "",
           "orientation": "v",
           "showlegend": false,
           "textposition": "auto",
           "type": "bar",
           "x": [
            "Action",
            "Adventure",
            "Fighting",
            "Misc",
            "Platform",
            "Puzzle",
            "Racing",
            "Role-Playing",
            "Shooter",
            "Simulation",
            "Sports",
            "Strategy"
           ],
           "xaxis": "x",
           "y": [
            76.25,
            8.69,
            16.78,
            31.32,
            47.22,
            8.4,
            47.83,
            53.95,
            46.95,
            10.83,
            63.67,
            7.16
           ],
           "yaxis": "y"
          }
         ],
         "name": "2004"
        },
        {
         "data": [
          {
           "alignmentgroup": "True",
           "customdata": [
            [
             2005,
             "Simulation",
             "Nintendogs",
             "Nintendo",
             24.67
            ],
            [
             2005,
             "Simulation",
             "Nintendogs",
             "Nintendo",
             24.67
            ],
            [
             2005,
             "Simulation",
             "Nintendogs",
             "Nintendo",
             24.67
            ],
            [
             2005,
             "Simulation",
             "Nintendogs",
             "Nintendo",
             24.67
            ],
            [
             2005,
             "Simulation",
             "Nintendogs",
             "Nintendo",
             24.67
            ],
            [
             2005,
             "Simulation",
             "Nintendogs",
             "Nintendo",
             24.67
            ],
            [
             2005,
             "Simulation",
             "Nintendogs",
             "Nintendo",
             24.67
            ],
            [
             2005,
             "Simulation",
             "Nintendogs",
             "Nintendo",
             24.67
            ],
            [
             2005,
             "Simulation",
             "Nintendogs",
             "Nintendo",
             24.67
            ],
            [
             2005,
             "Simulation",
             "Nintendogs",
             "Nintendo",
             24.67
            ],
            [
             2005,
             "Simulation",
             "Nintendogs",
             "Nintendo",
             24.67
            ],
            [
             2005,
             "Simulation",
             "Nintendogs",
             "Nintendo",
             24.67
            ]
           ],
           "hovertemplate": "<b>%{x}</b><br><br>Total Global Sales in %{customdata[0]}: $%{y}M<br><br>Best Selling Game of The Year:<br> <b>%{customdata[2]}</b> <br> %{customdata[1]} - %{customdata[3]}, $%{customdata[4]}M",
           "legendgroup": "",
           "marker": {
            "color": [
             1,
             0,
             0,
             0,
             0,
             0,
             0,
             0,
             0,
             0,
             0,
             0
            ],
            "coloraxis": "coloraxis",
            "pattern": {
             "shape": ""
            }
           },
           "name": "",
           "offsetgroup": "",
           "orientation": "v",
           "showlegend": false,
           "textposition": "auto",
           "type": "bar",
           "x": [
            "Action",
            "Adventure",
            "Fighting",
            "Misc",
            "Platform",
            "Puzzle",
            "Racing",
            "Role-Playing",
            "Shooter",
            "Simulation",
            "Sports",
            "Strategy"
           ],
           "xaxis": "x",
           "y": [
            85.53,
            8.44,
            19.71,
            61.08,
            23.39,
            20.419999999999998,
            56.03,
            28.42,
            41.55,
            48.92,
            59.51,
            5.31
           ],
           "yaxis": "y"
          }
         ],
         "name": "2005"
        },
        {
         "data": [
          {
           "alignmentgroup": "True",
           "customdata": [
            [
             2006,
             "Sports",
             "Wii Sports",
             "Nintendo",
             82.53
            ],
            [
             2006,
             "Sports",
             "Wii Sports",
             "Nintendo",
             82.53
            ],
            [
             2006,
             "Sports",
             "Wii Sports",
             "Nintendo",
             82.53
            ],
            [
             2006,
             "Sports",
             "Wii Sports",
             "Nintendo",
             82.53
            ],
            [
             2006,
             "Sports",
             "Wii Sports",
             "Nintendo",
             82.53
            ],
            [
             2006,
             "Sports",
             "Wii Sports",
             "Nintendo",
             82.53
            ],
            [
             2006,
             "Sports",
             "Wii Sports",
             "Nintendo",
             82.53
            ],
            [
             2006,
             "Sports",
             "Wii Sports",
             "Nintendo",
             82.53
            ],
            [
             2006,
             "Sports",
             "Wii Sports",
             "Nintendo",
             82.53
            ],
            [
             2006,
             "Sports",
             "Wii Sports",
             "Nintendo",
             82.53
            ],
            [
             2006,
             "Sports",
             "Wii Sports",
             "Nintendo",
             82.53
            ],
            [
             2006,
             "Sports",
             "Wii Sports",
             "Nintendo",
             82.53
            ]
           ],
           "hovertemplate": "<b>%{x}</b><br><br>Total Global Sales in %{customdata[0]}: $%{y}M<br><br>Best Selling Game of The Year:<br> <b>%{customdata[2]}</b> <br> %{customdata[1]} - %{customdata[3]}, $%{customdata[4]}M",
           "legendgroup": "",
           "marker": {
            "color": [
             0,
             0,
             0,
             0,
             0,
             0,
             0,
             0,
             0,
             0,
             1,
             0
            ],
            "coloraxis": "coloraxis",
            "pattern": {
             "shape": ""
            }
           },
           "name": "",
           "offsetgroup": "",
           "orientation": "v",
           "showlegend": false,
           "textposition": "auto",
           "type": "bar",
           "x": [
            "Action",
            "Adventure",
            "Fighting",
            "Misc",
            "Platform",
            "Puzzle",
            "Racing",
            "Role-Playing",
            "Shooter",
            "Simulation",
            "Sports",
            "Strategy"
           ],
           "xaxis": "x",
           "y": [
            66.13,
            11.370000000000001,
            22.42,
            67.07000000000001,
            49.35,
            10.8,
            33.86,
            57.37,
            38.24,
            21.56,
            135.83,
            4.22
           ],
           "yaxis": "y"
          }
         ],
         "name": "2006"
        },
        {
         "data": [
          {
           "alignmentgroup": "True",
           "customdata": [
            [
             2007,
             "Sports",
             "Wii Fit",
             "Nintendo",
             22.7
            ],
            [
             2007,
             "Sports",
             "Wii Fit",
             "Nintendo",
             22.7
            ],
            [
             2007,
             "Sports",
             "Wii Fit",
             "Nintendo",
             22.7
            ],
            [
             2007,
             "Sports",
             "Wii Fit",
             "Nintendo",
             22.7
            ],
            [
             2007,
             "Sports",
             "Wii Fit",
             "Nintendo",
             22.7
            ],
            [
             2007,
             "Sports",
             "Wii Fit",
             "Nintendo",
             22.7
            ],
            [
             2007,
             "Sports",
             "Wii Fit",
             "Nintendo",
             22.7
            ],
            [
             2007,
             "Sports",
             "Wii Fit",
             "Nintendo",
             22.7
            ],
            [
             2007,
             "Sports",
             "Wii Fit",
             "Nintendo",
             22.7
            ],
            [
             2007,
             "Sports",
             "Wii Fit",
             "Nintendo",
             22.7
            ],
            [
             2007,
             "Sports",
             "Wii Fit",
             "Nintendo",
             22.7
            ],
            [
             2007,
             "Sports",
             "Wii Fit",
             "Nintendo",
             22.7
            ]
           ],
           "hovertemplate": "<b>%{x}</b><br><br>Total Global Sales in %{customdata[0]}: $%{y}M<br><br>Best Selling Game of The Year:<br> <b>%{customdata[2]}</b> <br> %{customdata[1]} - %{customdata[3]}, $%{customdata[4]}M",
           "legendgroup": "",
           "marker": {
            "color": [
             1,
             0,
             0,
             0,
             0,
             0,
             0,
             0,
             0,
             0,
             0,
             0
            ],
            "coloraxis": "coloraxis",
            "pattern": {
             "shape": ""
            }
           },
           "name": "",
           "offsetgroup": "",
           "orientation": "v",
           "showlegend": false,
           "textposition": "auto",
           "type": "bar",
           "x": [
            "Action",
            "Adventure",
            "Fighting",
            "Misc",
            "Platform",
            "Puzzle",
            "Racing",
            "Role-Playing",
            "Shooter",
            "Simulation",
            "Sports",
            "Strategy"
           ],
           "xaxis": "x",
           "y": [
            104.97,
            24.1,
            17.49,
            91.52,
            35.1,
            23.740000000000002,
            38.870000000000005,
            43.45,
            70.67,
            48.42,
            97.78,
            9.26
           ],
           "yaxis": "y"
          }
         ],
         "name": "2007"
        },
        {
         "data": [
          {
           "alignmentgroup": "True",
           "customdata": [
            [
             2008,
             "Racing",
             "Mario Kart Wii",
             "Nintendo",
             35.52
            ],
            [
             2008,
             "Racing",
             "Mario Kart Wii",
             "Nintendo",
             35.52
            ],
            [
             2008,
             "Racing",
             "Mario Kart Wii",
             "Nintendo",
             35.52
            ],
            [
             2008,
             "Racing",
             "Mario Kart Wii",
             "Nintendo",
             35.52
            ],
            [
             2008,
             "Racing",
             "Mario Kart Wii",
             "Nintendo",
             35.52
            ],
            [
             2008,
             "Racing",
             "Mario Kart Wii",
             "Nintendo",
             35.52
            ],
            [
             2008,
             "Racing",
             "Mario Kart Wii",
             "Nintendo",
             35.52
            ],
            [
             2008,
             "Racing",
             "Mario Kart Wii",
             "Nintendo",
             35.52
            ],
            [
             2008,
             "Racing",
             "Mario Kart Wii",
             "Nintendo",
             35.52
            ],
            [
             2008,
             "Racing",
             "Mario Kart Wii",
             "Nintendo",
             35.52
            ],
            [
             2008,
             "Racing",
             "Mario Kart Wii",
             "Nintendo",
             35.52
            ],
            [
             2008,
             "Racing",
             "Mario Kart Wii",
             "Nintendo",
             35.52
            ]
           ],
           "hovertemplate": "<b>%{x}</b><br><br>Total Global Sales in %{customdata[0]}: $%{y}M<br><br>Best Selling Game of The Year:<br> <b>%{customdata[2]}</b> <br> %{customdata[1]} - %{customdata[3]}, $%{customdata[4]}M",
           "legendgroup": "",
           "marker": {
            "color": [
             1,
             0,
             0,
             0,
             0,
             0,
             0,
             0,
             0,
             0,
             0,
             0
            ],
            "coloraxis": "coloraxis",
            "pattern": {
             "shape": ""
            }
           },
           "name": "",
           "offsetgroup": "",
           "orientation": "v",
           "showlegend": false,
           "textposition": "auto",
           "type": "bar",
           "x": [
            "Action",
            "Adventure",
            "Fighting",
            "Misc",
            "Platform",
            "Puzzle",
            "Racing",
            "Role-Playing",
            "Shooter",
            "Simulation",
            "Sports",
            "Strategy"
           ],
           "xaxis": "x",
           "y": [
            135.01,
            24.71,
            35.04,
            86.05,
            35.14,
            15.29,
            70.03,
            59.03,
            59.22,
            46.09,
            94.63,
            11.55
           ],
           "yaxis": "y"
          }
         ],
         "name": "2008"
        },
        {
         "data": [
          {
           "alignmentgroup": "True",
           "customdata": [
            [
             2009,
             "Sports",
             "Wii Sports Resort",
             "Nintendo",
             32.77
            ],
            [
             2009,
             "Sports",
             "Wii Sports Resort",
             "Nintendo",
             32.77
            ],
            [
             2009,
             "Sports",
             "Wii Sports Resort",
             "Nintendo",
             32.77
            ],
            [
             2009,
             "Sports",
             "Wii Sports Resort",
             "Nintendo",
             32.77
            ],
            [
             2009,
             "Sports",
             "Wii Sports Resort",
             "Nintendo",
             32.77
            ],
            [
             2009,
             "Sports",
             "Wii Sports Resort",
             "Nintendo",
             32.77
            ],
            [
             2009,
             "Sports",
             "Wii Sports Resort",
             "Nintendo",
             32.77
            ],
            [
             2009,
             "Sports",
             "Wii Sports Resort",
             "Nintendo",
             32.77
            ],
            [
             2009,
             "Sports",
             "Wii Sports Resort",
             "Nintendo",
             32.77
            ],
            [
             2009,
             "Sports",
             "Wii Sports Resort",
             "Nintendo",
             32.77
            ],
            [
             2009,
             "Sports",
             "Wii Sports Resort",
             "Nintendo",
             32.77
            ],
            [
             2009,
             "Sports",
             "Wii Sports Resort",
             "Nintendo",
             32.77
            ]
           ],
           "hovertemplate": "<b>%{x}</b><br><br>Total Global Sales in %{customdata[0]}: $%{y}M<br><br>Best Selling Game of The Year:<br> <b>%{customdata[2]}</b> <br> %{customdata[1]} - %{customdata[3]}, $%{customdata[4]}M",
           "legendgroup": "",
           "marker": {
            "color": [
             1,
             0,
             0,
             0,
             0,
             0,
             0,
             0,
             0,
             0,
             0,
             0
            ],
            "coloraxis": "coloraxis",
            "pattern": {
             "shape": ""
            }
           },
           "name": "",
           "offsetgroup": "",
           "orientation": "v",
           "showlegend": false,
           "textposition": "auto",
           "type": "bar",
           "x": [
            "Action",
            "Adventure",
            "Fighting",
            "Misc",
            "Platform",
            "Puzzle",
            "Racing",
            "Role-Playing",
            "Shooter",
            "Simulation",
            "Sports",
            "Strategy"
           ],
           "xaxis": "x",
           "y": [
            137.66,
            20.2,
            31.88,
            75.8,
            40.580000000000005,
            19.8,
            33.65,
            47.29,
            69.3,
            33.03,
            137.33,
            12.36
           ],
           "yaxis": "y"
          }
         ],
         "name": "2009"
        },
        {
         "data": [
          {
           "alignmentgroup": "True",
           "customdata": [
            [
             2010,
             "Shooter",
             "Call of Duty: Black Ops",
             "Activision",
             29.19
            ],
            [
             2010,
             "Shooter",
             "Call of Duty: Black Ops",
             "Activision",
             29.19
            ],
            [
             2010,
             "Shooter",
             "Call of Duty: Black Ops",
             "Activision",
             29.19
            ],
            [
             2010,
             "Shooter",
             "Call of Duty: Black Ops",
             "Activision",
             29.19
            ],
            [
             2010,
             "Shooter",
             "Call of Duty: Black Ops",
             "Activision",
             29.19
            ],
            [
             2010,
             "Shooter",
             "Call of Duty: Black Ops",
             "Activision",
             29.19
            ],
            [
             2010,
             "Shooter",
             "Call of Duty: Black Ops",
             "Activision",
             29.19
            ],
            [
             2010,
             "Shooter",
             "Call of Duty: Black Ops",
             "Activision",
             29.19
            ],
            [
             2010,
             "Shooter",
             "Call of Duty: Black Ops",
             "Activision",
             29.19
            ],
            [
             2010,
             "Shooter",
             "Call of Duty: Black Ops",
             "Activision",
             29.19
            ],
            [
             2010,
             "Shooter",
             "Call of Duty: Black Ops",
             "Activision",
             29.19
            ],
            [
             2010,
             "Shooter",
             "Call of Duty: Black Ops",
             "Activision",
             29.19
            ]
           ],
           "hovertemplate": "<b>%{x}</b><br><br>Total Global Sales in %{customdata[0]}: $%{y}M<br><br>Best Selling Game of The Year:<br> <b>%{customdata[2]}</b> <br> %{customdata[1]} - %{customdata[3]}, $%{customdata[4]}M",
           "legendgroup": "",
           "marker": {
            "color": [
             1,
             0,
             0,
             0,
             0,
             0,
             0,
             0,
             0,
             0,
             0,
             0
            ],
            "coloraxis": "coloraxis",
            "pattern": {
             "shape": ""
            }
           },
           "name": "",
           "offsetgroup": "",
           "orientation": "v",
           "showlegend": false,
           "textposition": "auto",
           "type": "bar",
           "x": [
            "Action",
            "Adventure",
            "Fighting",
            "Misc",
            "Platform",
            "Puzzle",
            "Racing",
            "Role-Playing",
            "Shooter",
            "Simulation",
            "Sports",
            "Strategy"
           ],
           "xaxis": "x",
           "y": [
            115.49,
            16,
            14.72,
            95.2,
            30.98,
            10.74,
            34.36,
            69.57,
            76.87,
            21.55,
            91.34,
            13.77
           ],
           "yaxis": "y"
          }
         ],
         "name": "2010"
        },
        {
         "data": [
          {
           "alignmentgroup": "True",
           "customdata": [
            [
             2011,
             "Shooter",
             "Call of Duty: Modern Warfare 3",
             "Activision",
             30.59
            ],
            [
             2011,
             "Shooter",
             "Call of Duty: Modern Warfare 3",
             "Activision",
             30.59
            ],
            [
             2011,
             "Shooter",
             "Call of Duty: Modern Warfare 3",
             "Activision",
             30.59
            ],
            [
             2011,
             "Shooter",
             "Call of Duty: Modern Warfare 3",
             "Activision",
             30.59
            ],
            [
             2011,
             "Shooter",
             "Call of Duty: Modern Warfare 3",
             "Activision",
             30.59
            ],
            [
             2011,
             "Shooter",
             "Call of Duty: Modern Warfare 3",
             "Activision",
             30.59
            ],
            [
             2011,
             "Shooter",
             "Call of Duty: Modern Warfare 3",
             "Activision",
             30.59
            ],
            [
             2011,
             "Shooter",
             "Call of Duty: Modern Warfare 3",
             "Activision",
             30.59
            ],
            [
             2011,
             "Shooter",
             "Call of Duty: Modern Warfare 3",
             "Activision",
             30.59
            ],
            [
             2011,
             "Shooter",
             "Call of Duty: Modern Warfare 3",
             "Activision",
             30.59
            ],
            [
             2011,
             "Shooter",
             "Call of Duty: Modern Warfare 3",
             "Activision",
             30.59
            ],
            [
             2011,
             "Shooter",
             "Call of Duty: Modern Warfare 3",
             "Activision",
             30.59
            ]
           ],
           "hovertemplate": "<b>%{x}</b><br><br>Total Global Sales in %{customdata[0]}: $%{y}M<br><br>Best Selling Game of The Year:<br> <b>%{customdata[2]}</b> <br> %{customdata[1]} - %{customdata[3]}, $%{customdata[4]}M",
           "legendgroup": "",
           "marker": {
            "color": [
             1,
             0,
             0,
             0,
             0,
             0,
             0,
             0,
             0,
             0,
             0,
             0
            ],
            "coloraxis": "coloraxis",
            "pattern": {
             "shape": ""
            }
           },
           "name": "",
           "offsetgroup": "",
           "orientation": "v",
           "showlegend": false,
           "textposition": "auto",
           "type": "bar",
           "x": [
            "Action",
            "Adventure",
            "Fighting",
            "Misc",
            "Platform",
            "Puzzle",
            "Racing",
            "Role-Playing",
            "Shooter",
            "Simulation",
            "Sports",
            "Strategy"
           ],
           "xaxis": "x",
           "y": [
            116.76,
            15.61,
            22.37,
            54.45,
            27.71,
            4.95,
            34.83,
            52.85,
            98.17,
            15.13,
            56.12,
            8.84
           ],
           "yaxis": "y"
          }
         ],
         "name": "2011"
        },
        {
         "data": [
          {
           "alignmentgroup": "True",
           "customdata": [
            [
             2012,
             "Shooter",
             "Call of Duty: Black Ops II",
             "Activision",
             29.4
            ],
            [
             2012,
             "Shooter",
             "Call of Duty: Black Ops II",
             "Activision",
             29.4
            ],
            [
             2012,
             "Shooter",
             "Call of Duty: Black Ops II",
             "Activision",
             29.4
            ],
            [
             2012,
             "Shooter",
             "Call of Duty: Black Ops II",
             "Activision",
             29.4
            ],
            [
             2012,
             "Shooter",
             "Call of Duty: Black Ops II",
             "Activision",
             29.4
            ],
            [
             2012,
             "Shooter",
             "Call of Duty: Black Ops II",
             "Activision",
             29.4
            ],
            [
             2012,
             "Shooter",
             "Call of Duty: Black Ops II",
             "Activision",
             29.4
            ],
            [
             2012,
             "Shooter",
             "Call of Duty: Black Ops II",
             "Activision",
             29.4
            ],
            [
             2012,
             "Shooter",
             "Call of Duty: Black Ops II",
             "Activision",
             29.4
            ],
            [
             2012,
             "Shooter",
             "Call of Duty: Black Ops II",
             "Activision",
             29.4
            ],
            [
             2012,
             "Shooter",
             "Call of Duty: Black Ops II",
             "Activision",
             29.4
            ],
            [
             2012,
             "Shooter",
             "Call of Duty: Black Ops II",
             "Activision",
             29.4
            ]
           ],
           "hovertemplate": "<b>%{x}</b><br><br>Total Global Sales in %{customdata[0]}: $%{y}M<br><br>Best Selling Game of The Year:<br> <b>%{customdata[2]}</b> <br> %{customdata[1]} - %{customdata[3]}, $%{customdata[4]}M",
           "legendgroup": "",
           "marker": {
            "color": [
             1,
             0,
             0,
             0,
             0,
             0,
             0,
             0,
             0,
             0,
             0,
             0
            ],
            "coloraxis": "coloraxis",
            "pattern": {
             "shape": ""
            }
           },
           "name": "",
           "offsetgroup": "",
           "orientation": "v",
           "showlegend": false,
           "textposition": "auto",
           "type": "bar",
           "x": [
            "Action",
            "Adventure",
            "Fighting",
            "Misc",
            "Platform",
            "Puzzle",
            "Racing",
            "Role-Playing",
            "Shooter",
            "Simulation",
            "Sports",
            "Strategy"
           ],
           "xaxis": "x",
           "y": [
            119.10000000000001,
            5.8,
            9.2,
            22.21,
            18.37,
            1.7200000000000002,
            13.68,
            46.91,
            71.8,
            13.36,
            30.41,
            3.27
           ],
           "yaxis": "y"
          }
         ],
         "name": "2012"
        },
        {
         "data": [
          {
           "alignmentgroup": "True",
           "customdata": [
            [
             2013,
             "Action",
             "Grand Theft Auto V",
             "Take-Two Interactive",
             37.31
            ],
            [
             2013,
             "Action",
             "Grand Theft Auto V",
             "Take-Two Interactive",
             37.31
            ],
            [
             2013,
             "Action",
             "Grand Theft Auto V",
             "Take-Two Interactive",
             37.31
            ],
            [
             2013,
             "Action",
             "Grand Theft Auto V",
             "Take-Two Interactive",
             37.31
            ],
            [
             2013,
             "Action",
             "Grand Theft Auto V",
             "Take-Two Interactive",
             37.31
            ],
            [
             2013,
             "Action",
             "Grand Theft Auto V",
             "Take-Two Interactive",
             37.31
            ],
            [
             2013,
             "Action",
             "Grand Theft Auto V",
             "Take-Two Interactive",
             37.31
            ],
            [
             2013,
             "Action",
             "Grand Theft Auto V",
             "Take-Two Interactive",
             37.31
            ],
            [
             2013,
             "Action",
             "Grand Theft Auto V",
             "Take-Two Interactive",
             37.31
            ],
            [
             2013,
             "Action",
             "Grand Theft Auto V",
             "Take-Two Interactive",
             37.31
            ],
            [
             2013,
             "Action",
             "Grand Theft Auto V",
             "Take-Two Interactive",
             37.31
            ],
            [
             2013,
             "Action",
             "Grand Theft Auto V",
             "Take-Two Interactive",
             37.31
            ]
           ],
           "hovertemplate": "<b>%{x}</b><br><br>Total Global Sales in %{customdata[0]}: $%{y}M<br><br>Best Selling Game of The Year:<br> <b>%{customdata[2]}</b> <br> %{customdata[1]} - %{customdata[3]}, $%{customdata[4]}M",
           "legendgroup": "",
           "marker": {
            "color": [
             1,
             0,
             0,
             0,
             0,
             0,
             0,
             0,
             0,
             0,
             0,
             0
            ],
            "coloraxis": "coloraxis",
            "pattern": {
             "shape": ""
            }
           },
           "name": "",
           "offsetgroup": "",
           "orientation": "v",
           "showlegend": false,
           "textposition": "auto",
           "type": "bar",
           "x": [
            "Action",
            "Adventure",
            "Fighting",
            "Misc",
            "Platform",
            "Puzzle",
            "Racing",
            "Role-Playing",
            "Shooter",
            "Simulation",
            "Sports",
            "Strategy"
           ],
           "xaxis": "x",
           "y": [
            122.57000000000001,
            6.07,
            7.04,
            25.28,
            24.59,
            0.95,
            12.33,
            44.42,
            62.05,
            8.620000000000001,
            41.23,
            6.09
           ],
           "yaxis": "y"
          }
         ],
         "name": "2013"
        },
        {
         "data": [
          {
           "alignmentgroup": "True",
           "customdata": [
            [
             2014,
             "Shooter",
             "Call of Duty: Advanced Warfare",
             "Activision",
             21.99
            ],
            [
             2014,
             "Shooter",
             "Call of Duty: Advanced Warfare",
             "Activision",
             21.99
            ],
            [
             2014,
             "Shooter",
             "Call of Duty: Advanced Warfare",
             "Activision",
             21.99
            ],
            [
             2014,
             "Shooter",
             "Call of Duty: Advanced Warfare",
             "Activision",
             21.99
            ],
            [
             2014,
             "Shooter",
             "Call of Duty: Advanced Warfare",
             "Activision",
             21.99
            ],
            [
             2014,
             "Shooter",
             "Call of Duty: Advanced Warfare",
             "Activision",
             21.99
            ],
            [
             2014,
             "Shooter",
             "Call of Duty: Advanced Warfare",
             "Activision",
             21.99
            ],
            [
             2014,
             "Shooter",
             "Call of Duty: Advanced Warfare",
             "Activision",
             21.99
            ],
            [
             2014,
             "Shooter",
             "Call of Duty: Advanced Warfare",
             "Activision",
             21.99
            ],
            [
             2014,
             "Shooter",
             "Call of Duty: Advanced Warfare",
             "Activision",
             21.99
            ],
            [
             2014,
             "Shooter",
             "Call of Duty: Advanced Warfare",
             "Activision",
             21.99
            ],
            [
             2014,
             "Shooter",
             "Call of Duty: Advanced Warfare",
             "Activision",
             21.99
            ]
           ],
           "hovertemplate": "<b>%{x}</b><br><br>Total Global Sales in %{customdata[0]}: $%{y}M<br><br>Best Selling Game of The Year:<br> <b>%{customdata[2]}</b> <br> %{customdata[1]} - %{customdata[3]}, $%{customdata[4]}M",
           "legendgroup": "",
           "marker": {
            "color": [
             1,
             0,
             0,
             0,
             0,
             0,
             0,
             0,
             0,
             0,
             0,
             0
            ],
            "coloraxis": "coloraxis",
            "pattern": {
             "shape": ""
            }
           },
           "name": "",
           "offsetgroup": "",
           "orientation": "v",
           "showlegend": false,
           "textposition": "auto",
           "type": "bar",
           "x": [
            "Action",
            "Adventure",
            "Fighting",
            "Misc",
            "Platform",
            "Puzzle",
            "Racing",
            "Role-Playing",
            "Shooter",
            "Simulation",
            "Sports",
            "Strategy"
           ],
           "xaxis": "x",
           "y": [
            97.3,
            5.61,
            15.83,
            23.349999999999998,
            8.78,
            1.49,
            16.64,
            45.57,
            65.26,
            5.59,
            45.1,
            0.99
           ],
           "yaxis": "y"
          }
         ],
         "name": "2014"
        },
        {
         "data": [
          {
           "alignmentgroup": "True",
           "customdata": [
            [
             2015,
             "Shooter",
             "Call of Duty: Black Ops 3",
             "Activision",
             25.68
            ],
            [
             2015,
             "Shooter",
             "Call of Duty: Black Ops 3",
             "Activision",
             25.68
            ],
            [
             2015,
             "Shooter",
             "Call of Duty: Black Ops 3",
             "Activision",
             25.68
            ],
            [
             2015,
             "Shooter",
             "Call of Duty: Black Ops 3",
             "Activision",
             25.68
            ],
            [
             2015,
             "Shooter",
             "Call of Duty: Black Ops 3",
             "Activision",
             25.68
            ],
            [
             2015,
             "Shooter",
             "Call of Duty: Black Ops 3",
             "Activision",
             25.68
            ],
            [
             2015,
             "Shooter",
             "Call of Duty: Black Ops 3",
             "Activision",
             25.68
            ],
            [
             2015,
             "Shooter",
             "Call of Duty: Black Ops 3",
             "Activision",
             25.68
            ],
            [
             2015,
             "Shooter",
             "Call of Duty: Black Ops 3",
             "Activision",
             25.68
            ],
            [
             2015,
             "Shooter",
             "Call of Duty: Black Ops 3",
             "Activision",
             25.68
            ],
            [
             2015,
             "Shooter",
             "Call of Duty: Black Ops 3",
             "Activision",
             25.68
            ],
            [
             2015,
             "Shooter",
             "Call of Duty: Black Ops 3",
             "Activision",
             25.68
            ]
           ],
           "hovertemplate": "<b>%{x}</b><br><br>Total Global Sales in %{customdata[0]}: $%{y}M<br><br>Best Selling Game of The Year:<br> <b>%{customdata[2]}</b> <br> %{customdata[1]} - %{customdata[3]}, $%{customdata[4]}M",
           "legendgroup": "",
           "marker": {
            "color": [
             1,
             0,
             0,
             0,
             0,
             0,
             0,
             0,
             0,
             0,
             0,
             0
            ],
            "coloraxis": "coloraxis",
            "pattern": {
             "shape": ""
            }
           },
           "name": "",
           "offsetgroup": "",
           "orientation": "v",
           "showlegend": false,
           "textposition": "auto",
           "type": "bar",
           "x": [
            "Action",
            "Adventure",
            "Fighting",
            "Misc",
            "Platform",
            "Puzzle",
            "Racing",
            "Role-Playing",
            "Shooter",
            "Simulation",
            "Sports",
            "Strategy"
           ],
           "xaxis": "x",
           "y": [
            72.04,
            8.15,
            7.92,
            11.56,
            6.0600000000000005,
            0.72,
            8.07,
            37.660000000000004,
            67.49,
            5.64,
            40.9,
            1.8399999999999999
           ],
           "yaxis": "y"
          }
         ],
         "name": "2015"
        },
        {
         "data": [
          {
           "alignmentgroup": "True",
           "customdata": [
            [
             2016,
             "Sports",
             "FIFA 17",
             "Electronic Arts",
             11.469999999999999
            ],
            [
             2016,
             "Sports",
             "FIFA 17",
             "Electronic Arts",
             11.469999999999999
            ],
            [
             2016,
             "Sports",
             "FIFA 17",
             "Electronic Arts",
             11.469999999999999
            ],
            [
             2016,
             "Sports",
             "FIFA 17",
             "Electronic Arts",
             11.469999999999999
            ],
            [
             2016,
             "Sports",
             "FIFA 17",
             "Electronic Arts",
             11.469999999999999
            ],
            [
             2016,
             "Sports",
             "FIFA 17",
             "Electronic Arts",
             11.469999999999999
            ],
            [
             2016,
             "Sports",
             "FIFA 17",
             "Electronic Arts",
             11.469999999999999
            ],
            [
             2016,
             "Sports",
             "FIFA 17",
             "Electronic Arts",
             11.469999999999999
            ],
            [
             2016,
             "Sports",
             "FIFA 17",
             "Electronic Arts",
             11.469999999999999
            ],
            [
             2016,
             "Sports",
             "FIFA 17",
             "Electronic Arts",
             11.469999999999999
            ],
            [
             2016,
             "Sports",
             "FIFA 17",
             "Electronic Arts",
             11.469999999999999
            ],
            [
             2016,
             "Sports",
             "FIFA 17",
             "Electronic Arts",
             11.469999999999999
            ]
           ],
           "hovertemplate": "<b>%{x}</b><br><br>Total Global Sales in %{customdata[0]}: $%{y}M<br><br>Best Selling Game of The Year:<br> <b>%{customdata[2]}</b> <br> %{customdata[1]} - %{customdata[3]}, $%{customdata[4]}M",
           "legendgroup": "",
           "marker": {
            "color": [
             0,
             0,
             0,
             0,
             0,
             0,
             0,
             0,
             1,
             0,
             0,
             0
            ],
            "coloraxis": "coloraxis",
            "pattern": {
             "shape": ""
            }
           },
           "name": "",
           "offsetgroup": "",
           "orientation": "v",
           "showlegend": false,
           "textposition": "auto",
           "type": "bar",
           "x": [
            "Action",
            "Adventure",
            "Fighting",
            "Misc",
            "Platform",
            "Puzzle",
            "Racing",
            "Role-Playing",
            "Shooter",
            "Simulation",
            "Sports",
            "Strategy"
           ],
           "xaxis": "x",
           "y": [
            30.23,
            3.83,
            4.4399999999999995,
            2.63,
            3.21,
            0.01,
            2.83,
            18.12,
            38.23,
            1.8900000000000001,
            23.53,
            1.15
           ],
           "yaxis": "y"
          }
         ],
         "name": "2016"
        }
       ],
       "layout": {
        "barmode": "relative",
        "coloraxis": {
         "colorbar": {
          "title": {
           "text": "top"
          }
         },
         "colorscale": [
          [
           0,
           "rgb(243, 224, 247)"
          ],
          [
           0.16666666666666666,
           "rgb(228, 199, 241)"
          ],
          [
           0.3333333333333333,
           "rgb(209, 175, 232)"
          ],
          [
           0.5,
           "rgb(185, 152, 221)"
          ],
          [
           0.6666666666666666,
           "rgb(159, 130, 206)"
          ],
          [
           0.8333333333333334,
           "rgb(130, 109, 186)"
          ],
          [
           1,
           "rgb(99, 88, 159)"
          ]
         ],
         "showscale": false
        },
        "font": {
         "family": "Open Sans",
         "size": 16
        },
        "legend": {
         "title": {
          "text": ""
         },
         "tracegroupgap": 0
        },
        "sliders": [
         {
          "active": 0,
          "currentvalue": {
           "prefix": "Year="
          },
          "len": 0.9,
          "pad": {
           "b": 10,
           "t": 60
          },
          "steps": [
           {
            "args": [
             [
              "1980"
             ],
             {
              "frame": {
               "duration": 0,
               "redraw": true
              },
              "fromcurrent": true,
              "mode": "immediate",
              "transition": {
               "duration": 0,
               "easing": "linear"
              }
             }
            ],
            "label": "1980",
            "method": "animate"
           },
           {
            "args": [
             [
              "1981"
             ],
             {
              "frame": {
               "duration": 0,
               "redraw": true
              },
              "fromcurrent": true,
              "mode": "immediate",
              "transition": {
               "duration": 0,
               "easing": "linear"
              }
             }
            ],
            "label": "1981",
            "method": "animate"
           },
           {
            "args": [
             [
              "1982"
             ],
             {
              "frame": {
               "duration": 0,
               "redraw": true
              },
              "fromcurrent": true,
              "mode": "immediate",
              "transition": {
               "duration": 0,
               "easing": "linear"
              }
             }
            ],
            "label": "1982",
            "method": "animate"
           },
           {
            "args": [
             [
              "1983"
             ],
             {
              "frame": {
               "duration": 0,
               "redraw": true
              },
              "fromcurrent": true,
              "mode": "immediate",
              "transition": {
               "duration": 0,
               "easing": "linear"
              }
             }
            ],
            "label": "1983",
            "method": "animate"
           },
           {
            "args": [
             [
              "1984"
             ],
             {
              "frame": {
               "duration": 0,
               "redraw": true
              },
              "fromcurrent": true,
              "mode": "immediate",
              "transition": {
               "duration": 0,
               "easing": "linear"
              }
             }
            ],
            "label": "1984",
            "method": "animate"
           },
           {
            "args": [
             [
              "1985"
             ],
             {
              "frame": {
               "duration": 0,
               "redraw": true
              },
              "fromcurrent": true,
              "mode": "immediate",
              "transition": {
               "duration": 0,
               "easing": "linear"
              }
             }
            ],
            "label": "1985",
            "method": "animate"
           },
           {
            "args": [
             [
              "1986"
             ],
             {
              "frame": {
               "duration": 0,
               "redraw": true
              },
              "fromcurrent": true,
              "mode": "immediate",
              "transition": {
               "duration": 0,
               "easing": "linear"
              }
             }
            ],
            "label": "1986",
            "method": "animate"
           },
           {
            "args": [
             [
              "1987"
             ],
             {
              "frame": {
               "duration": 0,
               "redraw": true
              },
              "fromcurrent": true,
              "mode": "immediate",
              "transition": {
               "duration": 0,
               "easing": "linear"
              }
             }
            ],
            "label": "1987",
            "method": "animate"
           },
           {
            "args": [
             [
              "1988"
             ],
             {
              "frame": {
               "duration": 0,
               "redraw": true
              },
              "fromcurrent": true,
              "mode": "immediate",
              "transition": {
               "duration": 0,
               "easing": "linear"
              }
             }
            ],
            "label": "1988",
            "method": "animate"
           },
           {
            "args": [
             [
              "1989"
             ],
             {
              "frame": {
               "duration": 0,
               "redraw": true
              },
              "fromcurrent": true,
              "mode": "immediate",
              "transition": {
               "duration": 0,
               "easing": "linear"
              }
             }
            ],
            "label": "1989",
            "method": "animate"
           },
           {
            "args": [
             [
              "1990"
             ],
             {
              "frame": {
               "duration": 0,
               "redraw": true
              },
              "fromcurrent": true,
              "mode": "immediate",
              "transition": {
               "duration": 0,
               "easing": "linear"
              }
             }
            ],
            "label": "1990",
            "method": "animate"
           },
           {
            "args": [
             [
              "1991"
             ],
             {
              "frame": {
               "duration": 0,
               "redraw": true
              },
              "fromcurrent": true,
              "mode": "immediate",
              "transition": {
               "duration": 0,
               "easing": "linear"
              }
             }
            ],
            "label": "1991",
            "method": "animate"
           },
           {
            "args": [
             [
              "1992"
             ],
             {
              "frame": {
               "duration": 0,
               "redraw": true
              },
              "fromcurrent": true,
              "mode": "immediate",
              "transition": {
               "duration": 0,
               "easing": "linear"
              }
             }
            ],
            "label": "1992",
            "method": "animate"
           },
           {
            "args": [
             [
              "1993"
             ],
             {
              "frame": {
               "duration": 0,
               "redraw": true
              },
              "fromcurrent": true,
              "mode": "immediate",
              "transition": {
               "duration": 0,
               "easing": "linear"
              }
             }
            ],
            "label": "1993",
            "method": "animate"
           },
           {
            "args": [
             [
              "1994"
             ],
             {
              "frame": {
               "duration": 0,
               "redraw": true
              },
              "fromcurrent": true,
              "mode": "immediate",
              "transition": {
               "duration": 0,
               "easing": "linear"
              }
             }
            ],
            "label": "1994",
            "method": "animate"
           },
           {
            "args": [
             [
              "1995"
             ],
             {
              "frame": {
               "duration": 0,
               "redraw": true
              },
              "fromcurrent": true,
              "mode": "immediate",
              "transition": {
               "duration": 0,
               "easing": "linear"
              }
             }
            ],
            "label": "1995",
            "method": "animate"
           },
           {
            "args": [
             [
              "1996"
             ],
             {
              "frame": {
               "duration": 0,
               "redraw": true
              },
              "fromcurrent": true,
              "mode": "immediate",
              "transition": {
               "duration": 0,
               "easing": "linear"
              }
             }
            ],
            "label": "1996",
            "method": "animate"
           },
           {
            "args": [
             [
              "1997"
             ],
             {
              "frame": {
               "duration": 0,
               "redraw": true
              },
              "fromcurrent": true,
              "mode": "immediate",
              "transition": {
               "duration": 0,
               "easing": "linear"
              }
             }
            ],
            "label": "1997",
            "method": "animate"
           },
           {
            "args": [
             [
              "1998"
             ],
             {
              "frame": {
               "duration": 0,
               "redraw": true
              },
              "fromcurrent": true,
              "mode": "immediate",
              "transition": {
               "duration": 0,
               "easing": "linear"
              }
             }
            ],
            "label": "1998",
            "method": "animate"
           },
           {
            "args": [
             [
              "1999"
             ],
             {
              "frame": {
               "duration": 0,
               "redraw": true
              },
              "fromcurrent": true,
              "mode": "immediate",
              "transition": {
               "duration": 0,
               "easing": "linear"
              }
             }
            ],
            "label": "1999",
            "method": "animate"
           },
           {
            "args": [
             [
              "2000"
             ],
             {
              "frame": {
               "duration": 0,
               "redraw": true
              },
              "fromcurrent": true,
              "mode": "immediate",
              "transition": {
               "duration": 0,
               "easing": "linear"
              }
             }
            ],
            "label": "2000",
            "method": "animate"
           },
           {
            "args": [
             [
              "2001"
             ],
             {
              "frame": {
               "duration": 0,
               "redraw": true
              },
              "fromcurrent": true,
              "mode": "immediate",
              "transition": {
               "duration": 0,
               "easing": "linear"
              }
             }
            ],
            "label": "2001",
            "method": "animate"
           },
           {
            "args": [
             [
              "2002"
             ],
             {
              "frame": {
               "duration": 0,
               "redraw": true
              },
              "fromcurrent": true,
              "mode": "immediate",
              "transition": {
               "duration": 0,
               "easing": "linear"
              }
             }
            ],
            "label": "2002",
            "method": "animate"
           },
           {
            "args": [
             [
              "2003"
             ],
             {
              "frame": {
               "duration": 0,
               "redraw": true
              },
              "fromcurrent": true,
              "mode": "immediate",
              "transition": {
               "duration": 0,
               "easing": "linear"
              }
             }
            ],
            "label": "2003",
            "method": "animate"
           },
           {
            "args": [
             [
              "2004"
             ],
             {
              "frame": {
               "duration": 0,
               "redraw": true
              },
              "fromcurrent": true,
              "mode": "immediate",
              "transition": {
               "duration": 0,
               "easing": "linear"
              }
             }
            ],
            "label": "2004",
            "method": "animate"
           },
           {
            "args": [
             [
              "2005"
             ],
             {
              "frame": {
               "duration": 0,
               "redraw": true
              },
              "fromcurrent": true,
              "mode": "immediate",
              "transition": {
               "duration": 0,
               "easing": "linear"
              }
             }
            ],
            "label": "2005",
            "method": "animate"
           },
           {
            "args": [
             [
              "2006"
             ],
             {
              "frame": {
               "duration": 0,
               "redraw": true
              },
              "fromcurrent": true,
              "mode": "immediate",
              "transition": {
               "duration": 0,
               "easing": "linear"
              }
             }
            ],
            "label": "2006",
            "method": "animate"
           },
           {
            "args": [
             [
              "2007"
             ],
             {
              "frame": {
               "duration": 0,
               "redraw": true
              },
              "fromcurrent": true,
              "mode": "immediate",
              "transition": {
               "duration": 0,
               "easing": "linear"
              }
             }
            ],
            "label": "2007",
            "method": "animate"
           },
           {
            "args": [
             [
              "2008"
             ],
             {
              "frame": {
               "duration": 0,
               "redraw": true
              },
              "fromcurrent": true,
              "mode": "immediate",
              "transition": {
               "duration": 0,
               "easing": "linear"
              }
             }
            ],
            "label": "2008",
            "method": "animate"
           },
           {
            "args": [
             [
              "2009"
             ],
             {
              "frame": {
               "duration": 0,
               "redraw": true
              },
              "fromcurrent": true,
              "mode": "immediate",
              "transition": {
               "duration": 0,
               "easing": "linear"
              }
             }
            ],
            "label": "2009",
            "method": "animate"
           },
           {
            "args": [
             [
              "2010"
             ],
             {
              "frame": {
               "duration": 0,
               "redraw": true
              },
              "fromcurrent": true,
              "mode": "immediate",
              "transition": {
               "duration": 0,
               "easing": "linear"
              }
             }
            ],
            "label": "2010",
            "method": "animate"
           },
           {
            "args": [
             [
              "2011"
             ],
             {
              "frame": {
               "duration": 0,
               "redraw": true
              },
              "fromcurrent": true,
              "mode": "immediate",
              "transition": {
               "duration": 0,
               "easing": "linear"
              }
             }
            ],
            "label": "2011",
            "method": "animate"
           },
           {
            "args": [
             [
              "2012"
             ],
             {
              "frame": {
               "duration": 0,
               "redraw": true
              },
              "fromcurrent": true,
              "mode": "immediate",
              "transition": {
               "duration": 0,
               "easing": "linear"
              }
             }
            ],
            "label": "2012",
            "method": "animate"
           },
           {
            "args": [
             [
              "2013"
             ],
             {
              "frame": {
               "duration": 0,
               "redraw": true
              },
              "fromcurrent": true,
              "mode": "immediate",
              "transition": {
               "duration": 0,
               "easing": "linear"
              }
             }
            ],
            "label": "2013",
            "method": "animate"
           },
           {
            "args": [
             [
              "2014"
             ],
             {
              "frame": {
               "duration": 0,
               "redraw": true
              },
              "fromcurrent": true,
              "mode": "immediate",
              "transition": {
               "duration": 0,
               "easing": "linear"
              }
             }
            ],
            "label": "2014",
            "method": "animate"
           },
           {
            "args": [
             [
              "2015"
             ],
             {
              "frame": {
               "duration": 0,
               "redraw": true
              },
              "fromcurrent": true,
              "mode": "immediate",
              "transition": {
               "duration": 0,
               "easing": "linear"
              }
             }
            ],
            "label": "2015",
            "method": "animate"
           },
           {
            "args": [
             [
              "2016"
             ],
             {
              "frame": {
               "duration": 0,
               "redraw": true
              },
              "fromcurrent": true,
              "mode": "immediate",
              "transition": {
               "duration": 0,
               "easing": "linear"
              }
             }
            ],
            "label": "2016",
            "method": "animate"
           }
          ],
          "x": 0.1,
          "xanchor": "left",
          "y": 0,
          "yanchor": "top"
         }
        ],
        "template": {
         "data": {
          "bar": [
           {
            "error_x": {
             "color": "rgb(36,36,36)"
            },
            "error_y": {
             "color": "rgb(36,36,36)"
            },
            "marker": {
             "line": {
              "color": "white",
              "width": 0.5
             },
             "pattern": {
              "fillmode": "overlay",
              "size": 10,
              "solidity": 0.2
             }
            },
            "type": "bar"
           }
          ],
          "barpolar": [
           {
            "marker": {
             "line": {
              "color": "white",
              "width": 0.5
             },
             "pattern": {
              "fillmode": "overlay",
              "size": 10,
              "solidity": 0.2
             }
            },
            "type": "barpolar"
           }
          ],
          "carpet": [
           {
            "aaxis": {
             "endlinecolor": "rgb(36,36,36)",
             "gridcolor": "white",
             "linecolor": "white",
             "minorgridcolor": "white",
             "startlinecolor": "rgb(36,36,36)"
            },
            "baxis": {
             "endlinecolor": "rgb(36,36,36)",
             "gridcolor": "white",
             "linecolor": "white",
             "minorgridcolor": "white",
             "startlinecolor": "rgb(36,36,36)"
            },
            "type": "carpet"
           }
          ],
          "choropleth": [
           {
            "colorbar": {
             "outlinewidth": 1,
             "tickcolor": "rgb(36,36,36)",
             "ticks": "outside"
            },
            "type": "choropleth"
           }
          ],
          "contour": [
           {
            "colorbar": {
             "outlinewidth": 1,
             "tickcolor": "rgb(36,36,36)",
             "ticks": "outside"
            },
            "colorscale": [
             [
              0,
              "#440154"
             ],
             [
              0.1111111111111111,
              "#482878"
             ],
             [
              0.2222222222222222,
              "#3e4989"
             ],
             [
              0.3333333333333333,
              "#31688e"
             ],
             [
              0.4444444444444444,
              "#26828e"
             ],
             [
              0.5555555555555556,
              "#1f9e89"
             ],
             [
              0.6666666666666666,
              "#35b779"
             ],
             [
              0.7777777777777778,
              "#6ece58"
             ],
             [
              0.8888888888888888,
              "#b5de2b"
             ],
             [
              1,
              "#fde725"
             ]
            ],
            "type": "contour"
           }
          ],
          "contourcarpet": [
           {
            "colorbar": {
             "outlinewidth": 1,
             "tickcolor": "rgb(36,36,36)",
             "ticks": "outside"
            },
            "type": "contourcarpet"
           }
          ],
          "heatmap": [
           {
            "colorbar": {
             "outlinewidth": 1,
             "tickcolor": "rgb(36,36,36)",
             "ticks": "outside"
            },
            "colorscale": [
             [
              0,
              "#440154"
             ],
             [
              0.1111111111111111,
              "#482878"
             ],
             [
              0.2222222222222222,
              "#3e4989"
             ],
             [
              0.3333333333333333,
              "#31688e"
             ],
             [
              0.4444444444444444,
              "#26828e"
             ],
             [
              0.5555555555555556,
              "#1f9e89"
             ],
             [
              0.6666666666666666,
              "#35b779"
             ],
             [
              0.7777777777777778,
              "#6ece58"
             ],
             [
              0.8888888888888888,
              "#b5de2b"
             ],
             [
              1,
              "#fde725"
             ]
            ],
            "type": "heatmap"
           }
          ],
          "heatmapgl": [
           {
            "colorbar": {
             "outlinewidth": 1,
             "tickcolor": "rgb(36,36,36)",
             "ticks": "outside"
            },
            "colorscale": [
             [
              0,
              "#440154"
             ],
             [
              0.1111111111111111,
              "#482878"
             ],
             [
              0.2222222222222222,
              "#3e4989"
             ],
             [
              0.3333333333333333,
              "#31688e"
             ],
             [
              0.4444444444444444,
              "#26828e"
             ],
             [
              0.5555555555555556,
              "#1f9e89"
             ],
             [
              0.6666666666666666,
              "#35b779"
             ],
             [
              0.7777777777777778,
              "#6ece58"
             ],
             [
              0.8888888888888888,
              "#b5de2b"
             ],
             [
              1,
              "#fde725"
             ]
            ],
            "type": "heatmapgl"
           }
          ],
          "histogram": [
           {
            "marker": {
             "line": {
              "color": "white",
              "width": 0.6
             }
            },
            "type": "histogram"
           }
          ],
          "histogram2d": [
           {
            "colorbar": {
             "outlinewidth": 1,
             "tickcolor": "rgb(36,36,36)",
             "ticks": "outside"
            },
            "colorscale": [
             [
              0,
              "#440154"
             ],
             [
              0.1111111111111111,
              "#482878"
             ],
             [
              0.2222222222222222,
              "#3e4989"
             ],
             [
              0.3333333333333333,
              "#31688e"
             ],
             [
              0.4444444444444444,
              "#26828e"
             ],
             [
              0.5555555555555556,
              "#1f9e89"
             ],
             [
              0.6666666666666666,
              "#35b779"
             ],
             [
              0.7777777777777778,
              "#6ece58"
             ],
             [
              0.8888888888888888,
              "#b5de2b"
             ],
             [
              1,
              "#fde725"
             ]
            ],
            "type": "histogram2d"
           }
          ],
          "histogram2dcontour": [
           {
            "colorbar": {
             "outlinewidth": 1,
             "tickcolor": "rgb(36,36,36)",
             "ticks": "outside"
            },
            "colorscale": [
             [
              0,
              "#440154"
             ],
             [
              0.1111111111111111,
              "#482878"
             ],
             [
              0.2222222222222222,
              "#3e4989"
             ],
             [
              0.3333333333333333,
              "#31688e"
             ],
             [
              0.4444444444444444,
              "#26828e"
             ],
             [
              0.5555555555555556,
              "#1f9e89"
             ],
             [
              0.6666666666666666,
              "#35b779"
             ],
             [
              0.7777777777777778,
              "#6ece58"
             ],
             [
              0.8888888888888888,
              "#b5de2b"
             ],
             [
              1,
              "#fde725"
             ]
            ],
            "type": "histogram2dcontour"
           }
          ],
          "mesh3d": [
           {
            "colorbar": {
             "outlinewidth": 1,
             "tickcolor": "rgb(36,36,36)",
             "ticks": "outside"
            },
            "type": "mesh3d"
           }
          ],
          "parcoords": [
           {
            "line": {
             "colorbar": {
              "outlinewidth": 1,
              "tickcolor": "rgb(36,36,36)",
              "ticks": "outside"
             }
            },
            "type": "parcoords"
           }
          ],
          "pie": [
           {
            "automargin": true,
            "type": "pie"
           }
          ],
          "scatter": [
           {
            "fillpattern": {
             "fillmode": "overlay",
             "size": 10,
             "solidity": 0.2
            },
            "type": "scatter"
           }
          ],
          "scatter3d": [
           {
            "line": {
             "colorbar": {
              "outlinewidth": 1,
              "tickcolor": "rgb(36,36,36)",
              "ticks": "outside"
             }
            },
            "marker": {
             "colorbar": {
              "outlinewidth": 1,
              "tickcolor": "rgb(36,36,36)",
              "ticks": "outside"
             }
            },
            "type": "scatter3d"
           }
          ],
          "scattercarpet": [
           {
            "marker": {
             "colorbar": {
              "outlinewidth": 1,
              "tickcolor": "rgb(36,36,36)",
              "ticks": "outside"
             }
            },
            "type": "scattercarpet"
           }
          ],
          "scattergeo": [
           {
            "marker": {
             "colorbar": {
              "outlinewidth": 1,
              "tickcolor": "rgb(36,36,36)",
              "ticks": "outside"
             }
            },
            "type": "scattergeo"
           }
          ],
          "scattergl": [
           {
            "marker": {
             "colorbar": {
              "outlinewidth": 1,
              "tickcolor": "rgb(36,36,36)",
              "ticks": "outside"
             }
            },
            "type": "scattergl"
           }
          ],
          "scattermapbox": [
           {
            "marker": {
             "colorbar": {
              "outlinewidth": 1,
              "tickcolor": "rgb(36,36,36)",
              "ticks": "outside"
             }
            },
            "type": "scattermapbox"
           }
          ],
          "scatterpolar": [
           {
            "marker": {
             "colorbar": {
              "outlinewidth": 1,
              "tickcolor": "rgb(36,36,36)",
              "ticks": "outside"
             }
            },
            "type": "scatterpolar"
           }
          ],
          "scatterpolargl": [
           {
            "marker": {
             "colorbar": {
              "outlinewidth": 1,
              "tickcolor": "rgb(36,36,36)",
              "ticks": "outside"
             }
            },
            "type": "scatterpolargl"
           }
          ],
          "scatterternary": [
           {
            "marker": {
             "colorbar": {
              "outlinewidth": 1,
              "tickcolor": "rgb(36,36,36)",
              "ticks": "outside"
             }
            },
            "type": "scatterternary"
           }
          ],
          "surface": [
           {
            "colorbar": {
             "outlinewidth": 1,
             "tickcolor": "rgb(36,36,36)",
             "ticks": "outside"
            },
            "colorscale": [
             [
              0,
              "#440154"
             ],
             [
              0.1111111111111111,
              "#482878"
             ],
             [
              0.2222222222222222,
              "#3e4989"
             ],
             [
              0.3333333333333333,
              "#31688e"
             ],
             [
              0.4444444444444444,
              "#26828e"
             ],
             [
              0.5555555555555556,
              "#1f9e89"
             ],
             [
              0.6666666666666666,
              "#35b779"
             ],
             [
              0.7777777777777778,
              "#6ece58"
             ],
             [
              0.8888888888888888,
              "#b5de2b"
             ],
             [
              1,
              "#fde725"
             ]
            ],
            "type": "surface"
           }
          ],
          "table": [
           {
            "cells": {
             "fill": {
              "color": "rgb(237,237,237)"
             },
             "line": {
              "color": "white"
             }
            },
            "header": {
             "fill": {
              "color": "rgb(217,217,217)"
             },
             "line": {
              "color": "white"
             }
            },
            "type": "table"
           }
          ]
         },
         "layout": {
          "annotationdefaults": {
           "arrowhead": 0,
           "arrowwidth": 1
          },
          "autotypenumbers": "strict",
          "coloraxis": {
           "colorbar": {
            "outlinewidth": 1,
            "tickcolor": "rgb(36,36,36)",
            "ticks": "outside"
           }
          },
          "colorscale": {
           "diverging": [
            [
             0,
             "rgb(103,0,31)"
            ],
            [
             0.1,
             "rgb(178,24,43)"
            ],
            [
             0.2,
             "rgb(214,96,77)"
            ],
            [
             0.3,
             "rgb(244,165,130)"
            ],
            [
             0.4,
             "rgb(253,219,199)"
            ],
            [
             0.5,
             "rgb(247,247,247)"
            ],
            [
             0.6,
             "rgb(209,229,240)"
            ],
            [
             0.7,
             "rgb(146,197,222)"
            ],
            [
             0.8,
             "rgb(67,147,195)"
            ],
            [
             0.9,
             "rgb(33,102,172)"
            ],
            [
             1,
             "rgb(5,48,97)"
            ]
           ],
           "sequential": [
            [
             0,
             "#440154"
            ],
            [
             0.1111111111111111,
             "#482878"
            ],
            [
             0.2222222222222222,
             "#3e4989"
            ],
            [
             0.3333333333333333,
             "#31688e"
            ],
            [
             0.4444444444444444,
             "#26828e"
            ],
            [
             0.5555555555555556,
             "#1f9e89"
            ],
            [
             0.6666666666666666,
             "#35b779"
            ],
            [
             0.7777777777777778,
             "#6ece58"
            ],
            [
             0.8888888888888888,
             "#b5de2b"
            ],
            [
             1,
             "#fde725"
            ]
           ],
           "sequentialminus": [
            [
             0,
             "#440154"
            ],
            [
             0.1111111111111111,
             "#482878"
            ],
            [
             0.2222222222222222,
             "#3e4989"
            ],
            [
             0.3333333333333333,
             "#31688e"
            ],
            [
             0.4444444444444444,
             "#26828e"
            ],
            [
             0.5555555555555556,
             "#1f9e89"
            ],
            [
             0.6666666666666666,
             "#35b779"
            ],
            [
             0.7777777777777778,
             "#6ece58"
            ],
            [
             0.8888888888888888,
             "#b5de2b"
            ],
            [
             1,
             "#fde725"
            ]
           ]
          },
          "colorway": [
           "#1F77B4",
           "#FF7F0E",
           "#2CA02C",
           "#D62728",
           "#9467BD",
           "#8C564B",
           "#E377C2",
           "#7F7F7F",
           "#BCBD22",
           "#17BECF"
          ],
          "font": {
           "color": "rgb(36,36,36)"
          },
          "geo": {
           "bgcolor": "white",
           "lakecolor": "white",
           "landcolor": "white",
           "showlakes": true,
           "showland": true,
           "subunitcolor": "white"
          },
          "hoverlabel": {
           "align": "left"
          },
          "hovermode": "closest",
          "mapbox": {
           "style": "light"
          },
          "paper_bgcolor": "white",
          "plot_bgcolor": "white",
          "polar": {
           "angularaxis": {
            "gridcolor": "rgb(232,232,232)",
            "linecolor": "rgb(36,36,36)",
            "showgrid": false,
            "showline": true,
            "ticks": "outside"
           },
           "bgcolor": "white",
           "radialaxis": {
            "gridcolor": "rgb(232,232,232)",
            "linecolor": "rgb(36,36,36)",
            "showgrid": false,
            "showline": true,
            "ticks": "outside"
           }
          },
          "scene": {
           "xaxis": {
            "backgroundcolor": "white",
            "gridcolor": "rgb(232,232,232)",
            "gridwidth": 2,
            "linecolor": "rgb(36,36,36)",
            "showbackground": true,
            "showgrid": false,
            "showline": true,
            "ticks": "outside",
            "zeroline": false,
            "zerolinecolor": "rgb(36,36,36)"
           },
           "yaxis": {
            "backgroundcolor": "white",
            "gridcolor": "rgb(232,232,232)",
            "gridwidth": 2,
            "linecolor": "rgb(36,36,36)",
            "showbackground": true,
            "showgrid": false,
            "showline": true,
            "ticks": "outside",
            "zeroline": false,
            "zerolinecolor": "rgb(36,36,36)"
           },
           "zaxis": {
            "backgroundcolor": "white",
            "gridcolor": "rgb(232,232,232)",
            "gridwidth": 2,
            "linecolor": "rgb(36,36,36)",
            "showbackground": true,
            "showgrid": false,
            "showline": true,
            "ticks": "outside",
            "zeroline": false,
            "zerolinecolor": "rgb(36,36,36)"
           }
          },
          "shapedefaults": {
           "fillcolor": "black",
           "line": {
            "width": 0
           },
           "opacity": 0.3
          },
          "ternary": {
           "aaxis": {
            "gridcolor": "rgb(232,232,232)",
            "linecolor": "rgb(36,36,36)",
            "showgrid": false,
            "showline": true,
            "ticks": "outside"
           },
           "baxis": {
            "gridcolor": "rgb(232,232,232)",
            "linecolor": "rgb(36,36,36)",
            "showgrid": false,
            "showline": true,
            "ticks": "outside"
           },
           "bgcolor": "white",
           "caxis": {
            "gridcolor": "rgb(232,232,232)",
            "linecolor": "rgb(36,36,36)",
            "showgrid": false,
            "showline": true,
            "ticks": "outside"
           }
          },
          "title": {
           "x": 0.05
          },
          "xaxis": {
           "automargin": true,
           "gridcolor": "rgb(232,232,232)",
           "linecolor": "rgb(36,36,36)",
           "showgrid": false,
           "showline": true,
           "ticks": "outside",
           "title": {
            "standoff": 15
           },
           "zeroline": false,
           "zerolinecolor": "rgb(36,36,36)"
          },
          "yaxis": {
           "automargin": true,
           "gridcolor": "rgb(232,232,232)",
           "linecolor": "rgb(36,36,36)",
           "showgrid": false,
           "showline": true,
           "ticks": "outside",
           "title": {
            "standoff": 15
           },
           "zeroline": false,
           "zerolinecolor": "rgb(36,36,36)"
          }
         }
        },
        "title": {
         "font": {
          "family": "Open Sans",
          "size": 24
         },
         "text": "Annual Sales Trends in Video Game Genres",
         "x": 0.5,
         "xanchor": "center",
         "y": 0.97,
         "yanchor": "top"
        },
        "updatemenus": [
         {
          "buttons": [
           {
            "args": [
             null,
             {
              "frame": {
               "duration": 1300,
               "redraw": true
              },
              "fromcurrent": true,
              "mode": "immediate",
              "transition": {
               "duration": 500,
               "easing": "linear"
              }
             }
            ],
            "label": "Play",
            "method": "animate"
           },
           {
            "args": [
             [
              null
             ],
             {
              "frame": {
               "duration": 0,
               "redraw": true
              },
              "fromcurrent": true,
              "mode": "immediate",
              "transition": {
               "duration": 0,
               "easing": "linear"
              }
             }
            ],
            "label": "Pause",
            "method": "animate"
           }
          ],
          "direction": "left",
          "pad": {
           "r": 10,
           "t": 70
          },
          "showactive": false,
          "type": "buttons",
          "x": 0.1,
          "xanchor": "right",
          "y": 0,
          "yanchor": "top"
         }
        ],
        "xaxis": {
         "anchor": "y",
         "domain": [
          0,
          1
         ],
         "title": {
          "text": ""
         }
        },
        "yaxis": {
         "anchor": "x",
         "domain": [
          0,
          1
         ],
         "range": [
          0,
          105
         ],
         "showgrid": true,
         "title": {
          "text": "Global Sales in Millions"
         }
        }
       }
      }
     },
     "metadata": {},
     "output_type": "display_data"
    }
   ],
   "source": [
    "fig = px.bar(yearly_genre_sales, x=\"Genre\", y=\"Global_Sales\",color='top',animation_frame=\"Year\",range_y=[0,105],template=\"simple_white\",color_continuous_scale=px.colors.sequential.Purp,\n",
    "            hover_data={\"Genre\":True,\n",
    "                       \"Global_Sales\":True,\n",
    "                       \"Top Selling Game\":True},\n",
    "            custom_data=[yearly_genre_sales['Year'],yearly_genre_sales['Top Genre'], yearly_genre_sales['Top Selling Game'],yearly_genre_sales['Top Publisher'], yearly_genre_sales['Top Global Sales']],\n",
    "            title='Annual Sales Trends in Video Game Genres')\n",
    "\n",
    "fig.update_yaxes(showgrid=True, title_text='Global Sales in Millions')\n",
    "fig.update_xaxes(title_text='')\n",
    "fig.layout.updatemenus[0].buttons[0].args[1][\"frame\"][\"duration\"] = 1300\n",
    "fig.layout.updatemenus[0].buttons[0].label='Play'\n",
    "fig.layout.updatemenus[0].buttons[1].label='Pause'\n",
    "\n",
    "fig.update_traces(hovertemplate=\"<b>%{x}</b><br><br>Total Global Sales in %{customdata[0]}: $%{y}M<br><br>Best Selling Game of The Year:<br> <b>%{customdata[2]}</b> <br> %{customdata[1]} - %{customdata[3]}, $%{customdata[4]}M\")\n",
    "\n",
    "fig.update_layout(coloraxis_showscale=False,\n",
    "    legend_title_text='',\n",
    "    font_family=\"Open Sans\",\n",
    "    font_size=16,\n",
    "    title_font_family=\"Open Sans\",\n",
    "    title_font_size=24,\n",
    "    title={\n",
    "        'x': .5,\n",
    "        'y': .97,\n",
    "        'xanchor': 'center',\n",
    "        'yanchor': 'top'}\n",
    ")\n",
    "\n",
    "for f in fig.frames:\n",
    "    f.data[0].update(hovertemplate=\"<b>%{x}</b><br><br>Total Global Sales in %{customdata[0]}: $%{y}M<br><br>Best Selling Game of The Year:<br> <b>%{customdata[2]}</b> <br> %{customdata[1]} - %{customdata[3]}, $%{customdata[4]}M\")\n",
    "\n",
    "fig.show()"
   ]
  },
  {
   "cell_type": "code",
   "execution_count": 21,
   "metadata": {},
   "outputs": [
    {
     "data": {
      "text/plain": [
       "'https://plotly.com/~vivianellis/7/'"
      ]
     },
     "execution_count": 21,
     "metadata": {},
     "output_type": "execute_result"
    }
   ],
   "source": [
    "py.plot(fig, filename='video_game_annual_trends', auto_open=False)"
   ]
  },
  {
   "cell_type": "code",
   "execution_count": null,
   "metadata": {},
   "outputs": [],
   "source": []
  }
 ],
 "metadata": {
  "kernelspec": {
   "display_name": ".venv",
   "language": "python",
   "name": "python3"
  },
  "language_info": {
   "codemirror_mode": {
    "name": "ipython",
    "version": 3
   },
   "file_extension": ".py",
   "mimetype": "text/x-python",
   "name": "python",
   "nbconvert_exporter": "python",
   "pygments_lexer": "ipython3",
   "version": "3.11.2"
  }
 },
 "nbformat": 4,
 "nbformat_minor": 2
}
